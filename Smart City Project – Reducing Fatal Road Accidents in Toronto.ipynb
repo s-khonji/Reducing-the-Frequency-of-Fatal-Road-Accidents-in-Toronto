{
 "cells": [
  {
   "cell_type": "markdown",
   "metadata": {},
   "source": [
    "# Smart Cities - Reducing the Frequency of Fatal Road Accidents in the City of Toronto"
   ]
  },
  {
   "cell_type": "code",
   "execution_count": 1,
   "metadata": {},
   "outputs": [
    {
     "name": "stdout",
     "output_type": "stream",
     "text": [
      "Requirement already up-to-date: pandas in c:\\users\\skynet\\anaconda3\\lib\\site-packages (0.23.4)\n",
      "Requirement already satisfied, skipping upgrade: pytz>=2011k in c:\\users\\skynet\\anaconda3\\lib\\site-packages (from pandas) (2017.3)\n",
      "Requirement already satisfied, skipping upgrade: numpy>=1.9.0 in c:\\users\\skynet\\anaconda3\\lib\\site-packages (from pandas) (1.14.2)\n",
      "Requirement already satisfied, skipping upgrade: python-dateutil>=2.5.0 in c:\\users\\skynet\\anaconda3\\lib\\site-packages (from pandas) (2.6.1)\n",
      "Requirement already satisfied, skipping upgrade: six>=1.5 in c:\\users\\skynet\\anaconda3\\lib\\site-packages (from python-dateutil>=2.5.0->pandas) (1.11.0)\n",
      "Requirement already satisfied: numpy in c:\\users\\skynet\\anaconda3\\lib\\site-packages (1.14.2)\n",
      "Requirement already satisfied: sklearn in c:\\users\\skynet\\anaconda3\\lib\\site-packages (0.0)\n",
      "Requirement already satisfied: scikit-learn in c:\\users\\skynet\\anaconda3\\lib\\site-packages (from sklearn) (0.20.0)\n",
      "Requirement already satisfied: numpy>=1.8.2 in c:\\users\\skynet\\anaconda3\\lib\\site-packages (from scikit-learn->sklearn) (1.14.2)\n",
      "Requirement already satisfied: scipy>=0.13.3 in c:\\users\\skynet\\anaconda3\\lib\\site-packages (from scikit-learn->sklearn) (1.0.0)\n",
      "Requirement already satisfied: geopy in c:\\users\\skynet\\anaconda3\\lib\\site-packages (1.17.0)\n",
      "Requirement already satisfied: geographiclib<2,>=1.49 in c:\\users\\skynet\\anaconda3\\lib\\site-packages (from geopy) (1.49)\n",
      "Requirement already satisfied: BeautifulSoup4 in c:\\users\\skynet\\anaconda3\\lib\\site-packages (4.6.0)\n",
      "Requirement already satisfied: imblearn in c:\\users\\skynet\\anaconda3\\lib\\site-packages (0.0)\n",
      "Requirement already satisfied: imbalanced-learn in c:\\users\\skynet\\anaconda3\\lib\\site-packages (from imblearn) (0.3.1)\n",
      "Requirement already satisfied: scipy in c:\\users\\skynet\\anaconda3\\lib\\site-packages (from imbalanced-learn->imblearn) (1.0.0)\n",
      "Requirement already satisfied: numpy in c:\\users\\skynet\\anaconda3\\lib\\site-packages (from imbalanced-learn->imblearn) (1.14.2)\n",
      "Requirement already satisfied: scikit-learn in c:\\users\\skynet\\anaconda3\\lib\\site-packages (from imbalanced-learn->imblearn) (0.20.0)\n",
      "Requirement already satisfied: xgboost in c:\\users\\skynet\\anaconda3\\lib\\site-packages (0.81)\n",
      "Requirement already satisfied: numpy in c:\\users\\skynet\\anaconda3\\lib\\site-packages (from xgboost) (1.14.2)\n",
      "Requirement already satisfied: scipy in c:\\users\\skynet\\anaconda3\\lib\\site-packages (from xgboost) (1.0.0)\n"
     ]
    }
   ],
   "source": [
    "# Install Libraries\n",
    "!pip install pandas --upgrade\n",
    "!pip install numpy\n",
    "!pip install sklearn\n",
    "!pip install geopy\n",
    "!pip install BeautifulSoup4\n",
    "!pip install imblearn\n",
    "!pip install xgboost\n",
    "# Geopandas library is used and it must be install using Anaconda Prompt by entering the following code: \n",
    "# conda install -c conda-forge geopandas\n",
    "# Must restart Jupyter Notebook upon installing Geopandas"
   ]
  },
  {
   "cell_type": "code",
   "execution_count": 2,
   "metadata": {},
   "outputs": [],
   "source": [
    "#Import libraries\n",
    "import pandas as pd\n",
    "import numpy as np \n",
    "import string #string operations\n",
    "import re #regular expression operations\n",
    "import matplotlib.pyplot as plt\n",
    "import seaborn as sns\n",
    "import xml.etree.ElementTree as ET\n",
    "from math import sin, cos, sqrt, atan2, radians\n",
    "import geopy.distance\n",
    "from scipy.spatial import distance\n",
    "from geopy.geocoders import Nominatim\n",
    "from sklearn.model_selection import train_test_split\n",
    "from sklearn.ensemble import RandomForestClassifier\n",
    "from sklearn.metrics import accuracy_score\n",
    "from sklearn.metrics import classification_report\n",
    "from sklearn.model_selection import GridSearchCV\n",
    "from sklearn import preprocessing\n",
    "from sklearn.model_selection import GridSearchCV\n",
    "from sklearn.model_selection import RandomizedSearchCV\n",
    "from sklearn.linear_model import LassoCV, RidgeCV\n",
    "from sklearn.metrics import mean_squared_error, r2_score, mean_absolute_error\n",
    "from imblearn.over_sampling import SMOTE\n",
    "from imblearn.under_sampling import RandomUnderSampler\n",
    "from sklearn.ensemble import RandomForestRegressor\n",
    "from sklearn.metrics import roc_curve, auc\n",
    "from sklearn.metrics import precision_recall_curve\n",
    "import geopandas as gpd\n",
    "from zipfile import ZipFile\n",
    "from shapely import geometry as geo\n",
    "from shapely.geometry import Point, Polygon, shape\n",
    "from shapely.geometry.polygon import Polygon\n",
    "import shapefile\n",
    "from xgboost import XGBClassifier\n",
    "from scipy import stats"
   ]
  },
  {
   "cell_type": "markdown",
   "metadata": {},
   "source": [
    "# Severity and Location of Accidents within the City of Toronto"
   ]
  },
  {
   "cell_type": "markdown",
   "metadata": {},
   "source": [
    "The purpose of this project is to explore and answer the research question:\n",
    "\n",
    "Where should resources be deployed to reduce fatalities by motor vehicles in urban centres?"
   ]
  },
  {
   "cell_type": "markdown",
   "metadata": {},
   "source": [
    "The project has two components: (1) classifying if an accident will be severe (fatal) or non-severe (non-fatal) and (2) predicting the number of accidents to occur at a given intersection. For the purposes of the report and presentation, only the classification of accidents is shown as the prediction of accident numbers led to inconclusive results. The following technical report is broken into five sections, Data Gathering and Cleaning, Model/Data Preparation, Exploratory Analysis, Model Implementation and Discussion. Each section has descriptions associated with the code as well as comments for specifc lines of code. For more information on the business case for the project, please refer to the accompanying report."
   ]
  },
  {
   "cell_type": "markdown",
   "metadata": {},
   "source": [
    "# A. Data Gathering and Cleaning"
   ]
  },
  {
   "cell_type": "markdown",
   "metadata": {},
   "source": [
    "Datasets used in this analysis are imported and cleaned. Every dataset is described and its attributes are mentinoned. The dataset link is attached as a reference."
   ]
  },
  {
   "cell_type": "markdown",
   "metadata": {},
   "source": [
    "\n",
    "### Pedestrian and Car volume\n",
    "Data: This dataset contains the most recent 8 peak hour vehicle and pedestrian volume counts collected at intersections where there are traffic signals.  The data is typically collected between the hours of 7:30 a.m. and 6:00 p.m. for 2011 and 2018.\n",
    "\n",
    "Source: https://www.toronto.ca/city-government/data-research-maps/open-data/open-data-catalogue/transportation/#7c8e7c62-7630-8b0f-43ed-a2dfe24aadc9\n",
    "\n",
    "Attributes: The main attributes are Main Street, Side street, Total vehicle volume during 8 peak hours, and Total pedestrian volume during the 8 peak hours.\n"
   ]
  },
  {
   "cell_type": "code",
   "execution_count": 3,
   "metadata": {
    "scrolled": true
   },
   "outputs": [],
   "source": [
    "#Import intersection data that all other data with merge to\n",
    "street_data = pd.read_excel('8hrVeh_PedVolume_6-Mar-2018.xlsx', encoding = 'utf8')"
   ]
  },
  {
   "cell_type": "markdown",
   "metadata": {},
   "source": [
    "### TTC Streetcar data"
   ]
  },
  {
   "cell_type": "markdown",
   "metadata": {},
   "source": [
    "Data: TTC Routes and Schedules\n",
    "\n",
    "Source: City of Toronto Government Data – Transportation – Data Catalogue:\n",
    "\n",
    "https://www.toronto.ca/city-government/data-research-maps/open-data/open-data-catalogue/transportation/\n",
    "\n",
    "Attribute: The data provides multiple .csv files for all of the routes and schedules for the TTC. The data that was of significance was a series of coordinates (latitude/longitude), and an associated ‘Shape ID’ that allowed for the creation of shapes (lines) for the streetcar routes, so that they could be evaluated against the list of intersections."
   ]
  },
  {
   "cell_type": "code",
   "execution_count": 4,
   "metadata": {},
   "outputs": [],
   "source": [
    "# Open TTC streetcar shape files\n",
    "with open('shapes.txt') as shapes:\n",
    "    df_shapes = pd.read_csv(shapes)"
   ]
  },
  {
   "cell_type": "code",
   "execution_count": 5,
   "metadata": {},
   "outputs": [],
   "source": [
    "# Open TTC trips file\n",
    "with open('trips.txt') as trips:\n",
    "    df_trips = pd.read_csv(trips)"
   ]
  },
  {
   "cell_type": "code",
   "execution_count": 6,
   "metadata": {},
   "outputs": [],
   "source": [
    "#Open TTC routes file\n",
    "with open('routes.txt') as routes:\n",
    "    df_routes = pd.read_csv(routes)"
   ]
  },
  {
   "cell_type": "code",
   "execution_count": 7,
   "metadata": {},
   "outputs": [],
   "source": [
    "# Filtering out shape IDs for streetcars\n",
    "route_type_list = [0] # 0 for streetcars, 3 for buses\n",
    "df_routes_filter = df_routes[df_routes['route_type'].isin(route_type_list)]\n",
    "route_id_list = df_routes_filter.route_id.values.tolist()\n",
    "df_trips_filter = df_trips[df_trips['route_id'].isin(route_id_list)]\n",
    "shapes_set = set(df_trips_filter.shape_id.values.tolist())"
   ]
  },
  {
   "cell_type": "code",
   "execution_count": 8,
   "metadata": {},
   "outputs": [],
   "source": [
    "#Create Geo Dataframe for TTC Streetcar routes\n",
    "geometry = [geo.Point(xy) for xy in zip(df_shapes.shape_pt_lon, df_shapes.shape_pt_lat)]\n",
    "gdf = gpd.GeoDataFrame(df_shapes, geometry=geometry)"
   ]
  },
  {
   "cell_type": "code",
   "execution_count": 9,
   "metadata": {},
   "outputs": [],
   "source": [
    "#Generate LineStrings for TTC Streetcar routes\n",
    "gdf = df_shapes.groupby(['shape_id'])['geometry'].apply(lambda x: geo.LineString(x.tolist()))\n",
    "gdf = gpd.GeoDataFrame(gdf, geometry='geometry')"
   ]
  },
  {
   "cell_type": "code",
   "execution_count": 10,
   "metadata": {},
   "outputs": [],
   "source": [
    "#Set index\n",
    "gdf['shape_id'] = gdf.index"
   ]
  },
  {
   "cell_type": "code",
   "execution_count": 11,
   "metadata": {},
   "outputs": [],
   "source": [
    "#Check if shape_id is contained in TTC streetcar routes shape_ids\n",
    "gdf = gdf[gdf['shape_id'].isin(shapes_set)]"
   ]
  },
  {
   "cell_type": "code",
   "execution_count": 12,
   "metadata": {},
   "outputs": [],
   "source": [
    "#Create GeoDataframe for intersection points\n",
    "df_inter = street_data\n",
    "inter_points = [geo.Point(yx) for yx in zip(df_inter.Longitude, df_inter.Latitude)]\n",
    "df_inter_geo_str = gpd.GeoDataFrame(df_inter, geometry = inter_points)"
   ]
  },
  {
   "cell_type": "code",
   "execution_count": 13,
   "metadata": {},
   "outputs": [],
   "source": [
    "#Generate buffer around intersection points\n",
    "df_inter_geo_str.geometry = df_inter_geo_str.geometry.buffer(0.001)"
   ]
  },
  {
   "cell_type": "code",
   "execution_count": 14,
   "metadata": {},
   "outputs": [],
   "source": [
    "#Merge intersections and streetcar routes by checking if route intersects intersection point\n",
    "df_geo_merged = gpd.sjoin(df_inter_geo_str, gdf,how=\"left\", op='intersects')"
   ]
  },
  {
   "cell_type": "code",
   "execution_count": 15,
   "metadata": {},
   "outputs": [],
   "source": [
    "#Drop duplicated data\n",
    "df_geo_merged = df_geo_merged.drop_duplicates(subset=['Main','Side 1 Route'])"
   ]
  },
  {
   "cell_type": "code",
   "execution_count": 16,
   "metadata": {},
   "outputs": [],
   "source": [
    "#Create string column to differiate if intersection has a streetcar route on it\n",
    "df_geo_merged['STC_ROUTE'] = np.where((df_geo_merged['index_right'].isin(['NaN'])) , 'N', 'Y')"
   ]
  },
  {
   "cell_type": "code",
   "execution_count": 17,
   "metadata": {},
   "outputs": [],
   "source": [
    "#Drop unnecessary columns\n",
    "df_geo_merged = df_geo_merged.drop(columns=['TCS #', 'Midblock Route', 'Side 2 Route', 'Activation Date', 'Latitude', 'Longitude', 'Count Date', '8 Peak Hr Vehicle Volume','8 Peak Hr Pedestrian Volume', 'geometry', 'shape_id', 'index_right'])"
   ]
  },
  {
   "cell_type": "code",
   "execution_count": 18,
   "metadata": {},
   "outputs": [],
   "source": [
    "street_data = street_data.drop(columns=['geometry'])"
   ]
  },
  {
   "cell_type": "markdown",
   "metadata": {},
   "source": [
    "### Intersection Data and KSI Data"
   ]
  },
  {
   "cell_type": "markdown",
   "metadata": {},
   "source": [
    "Data: This data set includes all traffic collision events where a person was either Killed or Seriously Injured (KSI) from 2007 – 2017. \n",
    "\n",
    "Source: The Toronto Police Service maintains a Public Safety Data Portal where this information can be found. The data on accidents is updated yearly. \n",
    "\n",
    "http://data.torontopolice.on.ca/datasets/9f05c21dea4c40458264cb3f1e2362b8_0\n",
    "\n",
    "Attributes: The data set contains a number of factors that contribute to the analysis of accidents and its corresponding severity. The attributes of interest are the following:\n",
    "\n",
    "Alcohol, Aggressive, Driving, Date, Hour, Impact Type, Injury, Lat, Long, Light, Road Surface Condition, Road Class, Speeding, Street 1, Street 2, Time, Traffic Control, Visibility, and Year."
   ]
  },
  {
   "cell_type": "markdown",
   "metadata": {},
   "source": [
    "#### Load Data: Vehicle and Pedestrian Volumes for Street Intersections and Killed and Seriously Injured (KSI) List"
   ]
  },
  {
   "cell_type": "code",
   "execution_count": 19,
   "metadata": {},
   "outputs": [],
   "source": [
    "KSI = pd.read_csv('KSI.csv', encoding = 'utf8')"
   ]
  },
  {
   "cell_type": "markdown",
   "metadata": {},
   "source": [
    "#### Drop columns that are irrelevant for analysis"
   ]
  },
  {
   "cell_type": "code",
   "execution_count": 20,
   "metadata": {},
   "outputs": [],
   "source": [
    "street_data_filtered = street_data.drop(columns=['TCS #','Midblock Route','Side 2 Route','Activation Date','Latitude','Longitude','Count Date','8 Peak Hr Vehicle Volume','8 Peak Hr Pedestrian Volume'])\n",
    "KSI = KSI.drop(columns=['X','Y','Index_','INVAGE','FATAL_NO','INITDIR','VEHTYPE','MANOEUVER','DRIVACT','DRIVCOND','PEDTYPE','PEDACT','PEDCOND','CYCLISTYPE','CYCACT','CYCCOND','PEDESTRIAN','CYCLIST','AUTOMOBILE','MOTORCYCLE','TRUCK','TRSN_CITY_VEH','EMERG_VEH','PASSENGER','REDLIGHT','DISABILITY','Division','Ward_Name','Hood_ID','Hood_Name','FID'])"
   ]
  },
  {
   "cell_type": "markdown",
   "metadata": {},
   "source": [
    "#### Create a function to clean the street address for any inconsistencies"
   ]
  },
  {
   "cell_type": "code",
   "execution_count": 21,
   "metadata": {},
   "outputs": [],
   "source": [
    "def CleanStreet(street):\n",
    "    street=street.upper() \n",
    "    street = re.sub('[0-9]' ,' ', street)\n",
    "    street = re.sub(' +',' ',street)\n",
    "    street = street.lstrip()\n",
    "    street = street.ljust(len(street)+1)\n",
    "    street = re.sub(\"STREET\\s\",\"ST \", street)\n",
    "    street = re.sub(\"STRE\\s\",\"ST \", street)\n",
    "    street = re.sub(\"ROAD\\s\",\"RD \", street)\n",
    "    street = re.sub(\"DRIV\\s\",\"DR \", street)\n",
    "    street = re.sub(\"DRIVE\\s\",\"DR \", street)\n",
    "    street = re.sub(\"BOUL\\s\",\"BLVD \", street)\n",
    "    street = re.sub(\"AVEN\\s\",\"AVE \", street)\n",
    "    street = re.sub(\"\\sAVENUE\",\" AVE\", street)\n",
    "    street = street.strip()\n",
    "    return street"
   ]
  },
  {
   "cell_type": "code",
   "execution_count": 22,
   "metadata": {},
   "outputs": [],
   "source": [
    "def standard_column(dataseries):\n",
    "    local_df = dataseries.str.replace('Yes', 'Y')\n",
    "    local_df = local_df.str.replace(r'\\s+', 'N')\n",
    "    return local_df"
   ]
  },
  {
   "cell_type": "markdown",
   "metadata": {},
   "source": [
    "#### Apply \"CleanStreet\" function to the KSI Street Names"
   ]
  },
  {
   "cell_type": "code",
   "execution_count": 23,
   "metadata": {},
   "outputs": [],
   "source": [
    "KSI['STREET1'] = KSI['STREET1'].apply(CleanStreet)\n",
    "KSI['STREET2'] = KSI['STREET2'].apply(CleanStreet)"
   ]
  },
  {
   "cell_type": "markdown",
   "metadata": {},
   "source": [
    "#### Merge KSI Data with Street Intersections\n",
    "##### Consider the following two cases: (i) Main & Side 1 Route (ii) Side 1 Route & Main"
   ]
  },
  {
   "cell_type": "code",
   "execution_count": 24,
   "metadata": {},
   "outputs": [],
   "source": [
    "#Case 1: Main & Side 1 Route\n",
    "KSI1 = pd.merge(left=street_data_filtered, right=KSI, how='inner', left_on=[\"Main\",\"Side 1 Route\"],right_on=[\"STREET1\",\"STREET2\"], sort=False)\n",
    "#Case 2: Side 1 Route & Main\n",
    "KSI2 = pd.merge(left=street_data_filtered, right=KSI, how='inner', left_on=[\"Main\",\"Side 1 Route\"],right_on=[\"STREET2\",\"STREET1\"], sort=False)"
   ]
  },
  {
   "cell_type": "code",
   "execution_count": 25,
   "metadata": {},
   "outputs": [],
   "source": [
    "#Concatenate the merged files based on the two cases to create one combined list\n",
    "Merged = [KSI1,KSI2]\n",
    "KSI_Merged = pd.concat(Merged, sort=False)\n",
    "#KSI_Merged.to_csv('KSI_Merged.csv')"
   ]
  },
  {
   "cell_type": "code",
   "execution_count": 26,
   "metadata": {},
   "outputs": [],
   "source": [
    "KSI_Merged.SPEEDING = standard_column(KSI_Merged.SPEEDING)\n",
    "KSI_Merged.AG_DRIV = standard_column(KSI_Merged.AG_DRIV)"
   ]
  },
  {
   "cell_type": "code",
   "execution_count": 27,
   "metadata": {},
   "outputs": [],
   "source": [
    "#KSI_Merged['Cyclist_Accidents'] = np.where((KSI_Merged['IMPACTYPE']== 'Cyclist Collisions'), '1', '0')\n",
    "#KSI_Merged['Pedestrian_Accidents'] = np.where((KSI_Merged['IMPACTYPE']== 'Pedestrian Collisions'), '1', '0')\n",
    "KSI_Merged['Speeding_Incidents'] = np.where((KSI_Merged['SPEEDING']== 'Y'), 'Y', 'N')\n",
    "KSI_Merged['Agg_Driving_Incidents'] = np.where((KSI_Merged['AG_DRIV']== 'Y'), 'Y', 'N')\n",
    "#KSI_Merged['Alcohol_Driving_Incidents'] = np.where((KSI_Merged['ALCOHOL']== 'Y'), '1', '0')\n",
    "KSI_Merged = KSI_Merged.rename(index=str, columns={'Ward_ID': 'Ward_Num'})"
   ]
  },
  {
   "cell_type": "markdown",
   "metadata": {},
   "source": [
    "### RLC (Redlight Cameras) Data"
   ]
  },
  {
   "cell_type": "markdown",
   "metadata": {},
   "source": [
    "Data: Data includes all red light camera locations in the City of Toronto\n",
    "\n",
    "Source: https://www.toronto.ca/services-payments/streets-parking-transportation/traffic-management/pavement-markings/red-light-cameras/\n",
    "\n",
    "Attribute: Data contains locations of RLCs that will be coded as Yes/No for all relevant intersections."
   ]
  },
  {
   "cell_type": "code",
   "execution_count": 28,
   "metadata": {},
   "outputs": [],
   "source": [
    "#Function to join on flipped and multiple columns\n",
    "def join_multiple_on_columns(df_A, df_B, Col_A, Col_B, Target, Target_Val):\n",
    "    df_temp_x = pd.merge(df_A, df_B, how='left', on=[Col_A, Col_B])\n",
    "    df_temp_x = df_temp_x[df_temp_x[Target] ==Target_Val]\n",
    "    #df_temp_x = df_temp_x.drop(['Side 2 Route', 'TCS #'], axis=1)\n",
    "    df_temp_y = pd.merge(df_A, df_B, how='left', left_on=  [Col_A, Col_B], right_on= [Col_B, Col_A] )\n",
    "    df_temp_y = df_temp_y[df_temp_y[Target] ==Target_Val]\n",
    "    df_temp_y = df_temp_y.rename(index=str, columns={Col_A+'_x': 'Main', Col_B+'_x': 'Side 1 Route'})\n",
    "    df_temp_y = df_temp_y.drop([Col_A+'_y',Col_B+'_y'], axis=1)\n",
    "    df_append = df_temp_x.append(df_temp_y)\n",
    "    return df_append"
   ]
  },
  {
   "cell_type": "code",
   "execution_count": 29,
   "metadata": {},
   "outputs": [],
   "source": [
    "#Function to clean RLC dataseries\n",
    "def cleanfile(dataseries):\n",
    "    local_df = dataseries.str.replace(r'[^a-zA-Z\\s:]',r'')\n",
    "    return local_df"
   ]
  },
  {
   "cell_type": "code",
   "execution_count": 30,
   "metadata": {},
   "outputs": [],
   "source": [
    "#Clean and prepare RLC data for join\n",
    "df_rlc = pd.read_excel('RLC_Updated.xlsx',header=None, names=[\"Main\", \"Side 1 Route\"], dtype={\"Main\":str,\"Side 1 Route\":str})\n",
    "df_rlc[\"Main\"] = cleanfile(df_rlc[\"Main\"])\n",
    "df_rlc[\"Side 1 Route\"] = cleanfile(df_rlc[\"Side 1 Route\"])\n",
    "df_rlc.insert(2, 'RLC', 'Y')\n",
    "df_rlc = df_rlc.drop_duplicates()"
   ]
  },
  {
   "cell_type": "code",
   "execution_count": 31,
   "metadata": {},
   "outputs": [],
   "source": [
    "#Join RLC data to main intersection data\n",
    "df_temp_rlc = join_multiple_on_columns(street_data_filtered, df_rlc, 'Main', 'Side 1 Route', 'RLC', 'Y')\n",
    "df_temp_rlc = df_temp_rlc.drop_duplicates()"
   ]
  },
  {
   "cell_type": "markdown",
   "metadata": {},
   "source": [
    "### BikeShare Data"
   ]
  },
  {
   "cell_type": "markdown",
   "metadata": {},
   "source": [
    "Data: Data contains different BikeShare locations for the City of Toronto\n",
    "\n",
    "Source: https://www.toronto.ca/city-government/data-research-maps/open-data/open-data-catalogue/\n",
    "\n",
    "Attribute: Intersections will be coded as Yes/No for having a BikeShare location. Intersections with a BikeShare location may have an increased number of novice cyclists, which could lead to a severe incident."
   ]
  },
  {
   "cell_type": "code",
   "execution_count": 32,
   "metadata": {},
   "outputs": [],
   "source": [
    "#Function to clean BikeShare address columns\n",
    "def cleanaddress(dataseries):\n",
    "    local_df = dataseries.str.replace(r'\\s+$', '')\n",
    "    local_df = local_df.str.replace(r'\\([^)]*\\)', '')\n",
    "    local_df = local_df.str.replace(r'SMART+$', '')\n",
    "    local_df = local_df.str.replace(r'\\d+\\s', '')\n",
    "    local_df = local_df.str.replace(r'\\.\\s', ' ')\n",
    "    local_df = local_df.str.replace(r'^\\s', '')\n",
    "    local_df = local_df.fillna(value='')\n",
    "    local_df = local_df.str.replace(r'\\W+$', '')\n",
    "    local_df = local_df.str.upper()\n",
    "    return local_df"
   ]
  },
  {
   "cell_type": "code",
   "execution_count": 33,
   "metadata": {},
   "outputs": [],
   "source": [
    "#Load BikeShare JSON, extract data cell, and convert to dataframe\n",
    "df_temp = pd.read_json('https://tor.publicbikesystem.net/ube/gbfs/v1/en/station_information')\n",
    "data = df_temp.iloc[0,2]\n",
    "df_bs = pd.DataFrame(data)"
   ]
  },
  {
   "cell_type": "code",
   "execution_count": 34,
   "metadata": {},
   "outputs": [],
   "source": [
    "#Clean and prepare BikeShare data\n",
    "df_bs = df_bs.drop(['lat','lon','name','rental_methods','station_id'], axis=1)\n",
    "df_bs = df_bs.drop_duplicates()\n",
    "df_bs['Main'], df_bs['address'] = df_bs['address'].str.split('/', 1).str\n",
    "df_bs = df_bs.rename(index=str, columns={'address': 'Side 1 Route'})\n",
    "df_bs.insert(3, 'BikeShare', 'Y')\n",
    "df_bs[\"Main\"] = cleanaddress(df_bs[\"Main\"])\n",
    "df_bs[\"Side 1 Route\"] = cleanaddress(df_bs[\"Side 1 Route\"])\n",
    "df_bs['Main'] = df_bs['Main'].astype(str)\n",
    "df_bs['Side 1 Route'] = df_bs['Side 1 Route'].astype(str)\n",
    "df_bs = df_bs.rename(columns={\"capacity\": \"BikeShare_Capacity\"})"
   ]
  },
  {
   "cell_type": "code",
   "execution_count": 35,
   "metadata": {},
   "outputs": [],
   "source": [
    "#Join BikeShare data to main intersection data\n",
    "df_temp_BS = join_multiple_on_columns(street_data_filtered, df_bs, 'Main', 'Side 1 Route', 'BikeShare', 'Y')\n",
    "df_temp_BS = df_temp_BS.drop_duplicates()"
   ]
  },
  {
   "cell_type": "markdown",
   "metadata": {},
   "source": [
    "### Pothole Data"
   ]
  },
  {
   "cell_type": "markdown",
   "metadata": {},
   "source": [
    "Data: The data set pothole.xml file contains a list of requested, scheduled, and completed street damages in the city of Toronto. The structure of the data set is a series of the service information’s relating to the specific potholes or graffiti. The data set is continuously updated and added to automatically as reports are submitted either through the 311 Toronto service request number or though the online report system. \n",
    "\n",
    "Source: The data set pothole.xml file is obtained from the city of Toronto Open Data Catalogue and is owned by the 311 Toronto service.\n",
    "\n",
    "Attribute: The main attribute of this data set that will be used for the project are the series of potholes or graffiti reports with the service information on location, date and time. The information extracted from each service report is then assigned to the closest intersection to construct a baseline as well as to assign a street condition variable to each major intersection in Toronto that represents the number of potholes and graffiti against the overall baseline.\n",
    "\n"
   ]
  },
  {
   "cell_type": "code",
   "execution_count": 36,
   "metadata": {},
   "outputs": [],
   "source": [
    "#Get data from xml\n",
    "tree = ET.parse('pothole1.xml')\n",
    "root = tree.getroot()"
   ]
  },
  {
   "cell_type": "code",
   "execution_count": 37,
   "metadata": {},
   "outputs": [],
   "source": [
    "#Create lists of Lat, Long, request times, and service name \n",
    "latList = [lat.text for lat in root.iter('lat')]\n",
    "longList = [long.text for long in root.iter('long')]\n",
    "requested_datetimeList = [requested_datetime.text for requested_datetime in root.iter('requested_datetime')]\n",
    "service_nameList = [service_name.text for service_name in root.iter('service_name')]\n",
    "#print (latList[0],longList[0],requested_datetimeList[0], service_nameList[0])"
   ]
  },
  {
   "cell_type": "code",
   "execution_count": 38,
   "metadata": {},
   "outputs": [],
   "source": [
    "#Put into a dataframe\n",
    "pothole = pd.DataFrame ({\n",
    "        'latList': latList,\n",
    "        'longList': longList,\n",
    "        'requested_datetimeList': requested_datetimeList,\n",
    "        'service_nameList': service_nameList\n",
    "})"
   ]
  },
  {
   "cell_type": "code",
   "execution_count": 39,
   "metadata": {},
   "outputs": [
    {
     "name": "stderr",
     "output_type": "stream",
     "text": [
      "C:\\Users\\Skynet\\Anaconda3\\lib\\site-packages\\geopy\\geocoders\\osm.py:143: UserWarning: Using Nominatim with the default \"geopy/1.17.0\" `user_agent` is strongly discouraged, as it violates Nominatim's ToS https://operations.osmfoundation.org/policies/nominatim/ and may possibly cause 403 and 429 HTTP errors. Please specify a custom `user_agent` with `Nominatim(user_agent=\"my-application\")` or by overriding the default `user_agent`: `geopy.geocoders.options.default_user_agent = \"my-application\"`. In geopy 2.0 this will become an exception.\n",
      "  UserWarning\n"
     ]
    }
   ],
   "source": [
    "#Reverse geocode to get address\n",
    "geolocator=Nominatim(timeout=10)\n",
    "geolocator = Nominatim(user_agent=\"specify_your_app_name_here\")\n",
    "t = latList[0],longList[0]\n",
    "location = geolocator.reverse(t)"
   ]
  },
  {
   "cell_type": "code",
   "execution_count": 40,
   "metadata": {},
   "outputs": [],
   "source": [
    "#Merge lat and lon into standard form\n",
    "import pandas as pd\n",
    "\n",
    "pothole = pd.DataFrame ({\n",
    "        'requested_datetimeList': requested_datetimeList,\n",
    "        'service_nameList': service_nameList,\n",
    "        'latList': latList,\n",
    "        'longList': longList\n",
    "})\n",
    "pothole['LatLong'] = pothole.apply(lambda row: (row['latList'], row['longList']), axis=1)"
   ]
  },
  {
   "cell_type": "code",
   "execution_count": 41,
   "metadata": {},
   "outputs": [],
   "source": [
    "#Filter street data for use with potholes\n",
    "street_data_potholes = street_data.drop(columns=['TCS #','Midblock Route','Side 2 Route','Activation Date','Count Date','8 Peak Hr Vehicle Volume','8 Peak Hr Pedestrian Volume'])\n",
    "street_data_potholes.columns = ['Main', 'Side_1_Route','Latitude', 'Longitude']\n",
    "street_data_potholes['LatLong2'] = street_data_potholes.apply(lambda row: (row['Latitude'], row['Longitude']), axis=1)"
   ]
  },
  {
   "cell_type": "code",
   "execution_count": 42,
   "metadata": {},
   "outputs": [],
   "source": [
    "#Function to get closest intersection\n",
    "def distance_closest_intersection(coords_1,coords_2):\n",
    "    return (geopy.distance.vincenty(coords_1, coords_2).km)"
   ]
  },
  {
   "cell_type": "code",
   "execution_count": 43,
   "metadata": {},
   "outputs": [],
   "source": [
    "#Function to get closest node\n",
    "def closest_node(node, nodes):\n",
    "    closest_index = distance.cdist(node, nodes).argmin()\n",
    "    return (closest_index)"
   ]
  },
  {
   "cell_type": "code",
   "execution_count": 44,
   "metadata": {},
   "outputs": [],
   "source": [
    "#Intialize lists\n",
    "intersection = {}\n",
    "intersection['Main']=[]\n",
    "intersection[\"Side 1 Route\"]=[]\n",
    "intersection[\"distance\"]=[]"
   ]
  },
  {
   "cell_type": "code",
   "execution_count": 45,
   "metadata": {},
   "outputs": [],
   "source": [
    "# Initialize array and iterate through to find closest values to append to data \n",
    "XA = np.ndarray((2, 1))\n",
    "        \n",
    "for index, row in pothole.iterrows():\n",
    "    XA = np.asarray([pothole.latList[index],pothole.longList[index]])\n",
    "    XB = np.asarray(street_data_potholes.LatLong2.values.tolist())\n",
    "    closest_index = distance.cdist([XA], XB).argmin()\n",
    "    d = distance_closest_intersection(XA, XB[closest_index])\n",
    "    intersection['Main'].append(street_data_potholes.Main[closest_index])\n",
    "    intersection['Side 1 Route'].append(street_data_potholes.Side_1_Route[closest_index])\n",
    "    intersection[\"distance\"].append(d)"
   ]
  },
  {
   "cell_type": "code",
   "execution_count": 46,
   "metadata": {},
   "outputs": [],
   "source": [
    "#Reshape dataframe and groupby count of potholes per Intersection\n",
    "main_side = pd.DataFrame(intersection)\n",
    "frames = [pothole, main_side]\n",
    "result = pd.concat(frames, axis = 1)\n",
    "Pothole_count = result[result['service_nameList'] == 'Road - Pot hole'].groupby(['Main', 'Side 1 Route']).size().reset_index(name='Pothole_Count')"
   ]
  },
  {
   "cell_type": "markdown",
   "metadata": {},
   "source": [
    "### Attractions (i.e. Distractions)"
   ]
  },
  {
   "cell_type": "markdown",
   "metadata": {},
   "source": [
    "Data: The data set places_of_intrests.xls file contains a list of major attraction in the city of Toronto listing the attraction as well as the information on the attraction such as address, category of attraction, and name of the attraction.\n",
    "\n",
    "Source: The data set places_of_intrests.xlm file is obtained from the city of Toronto Open Data Catalogue and is owned by the Economic Development & Culture. The latest version of the data source is from April 2016, which is used in this project.\n",
    "\n",
    "Attribute: The attribute extracted from the places_of_intrests.xlm file are the major attractions with their corresponding location. Major attractions are prone to have a higher risk of accidents to occur due to a combination of the higher density of tourist and local visitors as well as that driver, cyclists and pedestrian tend to navigate with a higher risk of distraction in sight of major attractions. \n"
   ]
  },
  {
   "cell_type": "code",
   "execution_count": 47,
   "metadata": {},
   "outputs": [
    {
     "data": {
      "text/html": [
       "<div>\n",
       "<style scoped>\n",
       "    .dataframe tbody tr th:only-of-type {\n",
       "        vertical-align: middle;\n",
       "    }\n",
       "\n",
       "    .dataframe tbody tr th {\n",
       "        vertical-align: top;\n",
       "    }\n",
       "\n",
       "    .dataframe thead th {\n",
       "        text-align: right;\n",
       "    }\n",
       "</style>\n",
       "<table border=\"1\" class=\"dataframe\">\n",
       "  <thead>\n",
       "    <tr style=\"text-align: right;\">\n",
       "      <th></th>\n",
       "      <th>Address_Clean</th>\n",
       "      <th>Unnamed: 3</th>\n",
       "      <th>Turn this into the next one live</th>\n",
       "      <th>Unnamed: 7</th>\n",
       "    </tr>\n",
       "  </thead>\n",
       "  <tbody>\n",
       "    <tr>\n",
       "      <th>1</th>\n",
       "      <td>40 Bay Street</td>\n",
       "      <td>M5J 2X2</td>\n",
       "      <td>Air Canada Centre</td>\n",
       "      <td>Sports / Entertainment Venue</td>\n",
       "    </tr>\n",
       "    <tr>\n",
       "      <th>2</th>\n",
       "      <td>750 Spadina Avenue</td>\n",
       "      <td>M5S 2J2</td>\n",
       "      <td>Al Green Theatre (at the Miles Nadal Jewish Co...</td>\n",
       "      <td>Performing Arts</td>\n",
       "    </tr>\n",
       "    <tr>\n",
       "      <th>3</th>\n",
       "      <td>2901 Yonge Street</td>\n",
       "      <td>M4N 3N8</td>\n",
       "      <td>Alexander Muir Memorial Gardens</td>\n",
       "      <td>Featured Park</td>\n",
       "    </tr>\n",
       "    <tr>\n",
       "      <th>4</th>\n",
       "      <td>19 Horticultural Avenue</td>\n",
       "      <td>M5A 2P2</td>\n",
       "      <td>Allan Gardens</td>\n",
       "      <td>Garden / Conservatory</td>\n",
       "    </tr>\n",
       "    <tr>\n",
       "      <th>5</th>\n",
       "      <td>105 Princes' Boulevard</td>\n",
       "      <td>M6K 3C3</td>\n",
       "      <td>Allstream Centre</td>\n",
       "      <td>Convention &amp; Trade Centres</td>\n",
       "    </tr>\n",
       "  </tbody>\n",
       "</table>\n",
       "</div>"
      ],
      "text/plain": [
       "             Address_Clean Unnamed: 3  \\\n",
       "1            40 Bay Street    M5J 2X2   \n",
       "2       750 Spadina Avenue    M5S 2J2   \n",
       "3        2901 Yonge Street    M4N 3N8   \n",
       "4  19 Horticultural Avenue    M5A 2P2   \n",
       "5   105 Princes' Boulevard    M6K 3C3   \n",
       "\n",
       "                    Turn this into the next one live  \\\n",
       "1                                  Air Canada Centre   \n",
       "2  Al Green Theatre (at the Miles Nadal Jewish Co...   \n",
       "3                    Alexander Muir Memorial Gardens   \n",
       "4                                     Allan Gardens    \n",
       "5                                   Allstream Centre   \n",
       "\n",
       "                     Unnamed: 7  \n",
       "1  Sports / Entertainment Venue  \n",
       "2               Performing Arts  \n",
       "3                 Featured Park  \n",
       "4         Garden / Conservatory  \n",
       "5    Convention & Trade Centres  "
      ]
     },
     "execution_count": 47,
     "metadata": {},
     "output_type": "execute_result"
    }
   ],
   "source": [
    "#Read in places of interest file and drop select columns\n",
    "point_interest = pd.read_excel('places_of_interest.xls', encoding = 'utf8')\n",
    "point_interest = point_interest.iloc[1:]\n",
    "point_interest = point_interest.drop(columns=['Unnamed: 1','THIS IS THE CURRENTLY LIVE VIEW','Unnamed: 5','Unnamed: 6','Unnamed: 8','Unnamed: 9'])\n",
    "point_interest.head()"
   ]
  },
  {
   "cell_type": "code",
   "execution_count": 48,
   "metadata": {},
   "outputs": [],
   "source": [
    "#Function to add Toronto to address so Geocoder can convert to LAT/LON\n",
    "def add_Toronto(text):\n",
    "    tornot = \" toronto\"\n",
    "    text = text + tornot\n",
    "    return (text)"
   ]
  },
  {
   "cell_type": "code",
   "execution_count": 49,
   "metadata": {},
   "outputs": [],
   "source": [
    "#Initialize intersection lists\n",
    "intersection_attraction = {}\n",
    "intersection_attraction['Main']=[]\n",
    "intersection_attraction[\"Side\"]=[]\n",
    "intersection_attraction[\"distance\"]=[]"
   ]
  },
  {
   "cell_type": "code",
   "execution_count": 50,
   "metadata": {},
   "outputs": [],
   "source": [
    "#Call function to append Toronto to address\n",
    "point_interest['Address_Clean'] = point_interest['Address_Clean'].apply(add_Toronto)"
   ]
  },
  {
   "cell_type": "code",
   "execution_count": 51,
   "metadata": {},
   "outputs": [
    {
     "name": "stderr",
     "output_type": "stream",
     "text": [
      "C:\\Users\\Skynet\\Anaconda3\\lib\\site-packages\\geopy\\geocoders\\osm.py:143: UserWarning: Using Nominatim with the default \"geopy/1.17.0\" `user_agent` is strongly discouraged, as it violates Nominatim's ToS https://operations.osmfoundation.org/policies/nominatim/ and may possibly cause 403 and 429 HTTP errors. Please specify a custom `user_agent` with `Nominatim(user_agent=\"my-application\")` or by overriding the default `user_agent`: `geopy.geocoders.options.default_user_agent = \"my-application\"`. In geopy 2.0 this will become an exception.\n",
      "  UserWarning\n"
     ]
    }
   ],
   "source": [
    "#Function that calls Geocoder from GeoPy\n",
    "geolocator=Nominatim(timeout=5)\n",
    "def add_lat_long(text):\n",
    "    location = geolocator.geocode(str(text))\n",
    "    latlong = [location.latitude, location.longitude]\n",
    "    return (latlong)"
   ]
  },
  {
   "cell_type": "code",
   "execution_count": 52,
   "metadata": {},
   "outputs": [],
   "source": [
    "#Add LAT/LON to points of interest (Note: A timeout error sometimes occurs with this service. If it does, just restart and re-run)\n",
    "point_interest.loc[:,'lat_long'] = point_interest[\"Address_Clean\"].apply(add_lat_long)"
   ]
  },
  {
   "cell_type": "code",
   "execution_count": 53,
   "metadata": {},
   "outputs": [
    {
     "name": "stdout",
     "output_type": "stream",
     "text": [
      "[ 43.6613916 -79.3829715]\n",
      "<class 'numpy.ndarray'>\n"
     ]
    }
   ],
   "source": [
    "#Create LAT/LON for places of interest in array form\n",
    "XA = np.ndarray((2, 1))\n",
    "for index, row in point_interest.iterrows():\n",
    "    XA = np.asarray(point_interest.lat_long[index])\n",
    "print(XA)\n",
    "print(type(XA))"
   ]
  },
  {
   "cell_type": "code",
   "execution_count": 54,
   "metadata": {},
   "outputs": [],
   "source": [
    "#Match places of interest to closest intersection and detail distance to intersection\n",
    "XA = np.ndarray((2, 1))\n",
    "\n",
    "for index, row in point_interest.iterrows():\n",
    "    XA = np.asarray(point_interest.lat_long[index])\n",
    "    XB = np.asarray(street_data_potholes.LatLong2.values.tolist())\n",
    "    closest_index = distance.cdist([XA], XB).argmin()\n",
    "    d = distance_closest_intersection(XA, XB[closest_index])\n",
    "    intersection_attraction['Main'].append(street_data_potholes.Main[closest_index])\n",
    "    intersection_attraction['Side'].append(street_data_potholes.Side_1_Route[closest_index])\n",
    "    intersection_attraction[\"distance\"].append(d)"
   ]
  },
  {
   "cell_type": "code",
   "execution_count": 55,
   "metadata": {},
   "outputs": [],
   "source": [
    "#Put distance to place of intrest and intersection into Dataframe\n",
    "places_of_interest = pd.DataFrame(intersection_attraction)\n",
    "places_of_interest = places_of_interest.rename(index=str, columns={\"distance\": \"Distance_To_PA\", \"Side\": \"Side 1 Route\"})"
   ]
  },
  {
   "cell_type": "markdown",
   "metadata": {},
   "source": [
    "### Population Demographics Data\n",
    "\n",
    "Population: Ward Profile – Census 2006, 2011, and 2016.\n",
    "\n",
    "https://www.toronto.ca/city-government/data-research-maps/open-data/open-data-catalogue/#0dcc4b06-b0e8-3db3-80d0-a10aed2a0312\n",
    "\n",
    "This dataset contains 2016, 2011 and 2006 Ward Profiles based on the 44 Ward Model that is currently in use. Since December 2018, a 47 Model will be used. However, we chose the 44 Ward Model since the KSI dataset use that model. These Profiles provide demographic, social and economic information for each Ward in the City of Toronto.\n",
    "The main attributes are Total Population by Ward and Median age by Ward,\n"
   ]
  },
  {
   "cell_type": "markdown",
   "metadata": {},
   "source": [
    "In 2017, the city had 44 wards, all of them with numbers and names (though some do share the name part of the equation.) These name have been this way since 2000.\n",
    "https://www.toronto.ca/city-government/data-research-maps/open-data/open-data-catalogue/#0dcc4b06-b0e8-3db3-80d0-a10aed2a0312\n"
   ]
  },
  {
   "cell_type": "markdown",
   "metadata": {},
   "source": [
    "However, since December 1st 2018, when the 2018 – 2022 term of City Council began, Toronto has 47 wards. In some cases, entirely new City Council wards have been created, with only 7 City Council ward boundaries remaining the same.\n",
    "\n",
    "https://www.toronto.ca/city-government/data-research-maps/open-data/open-data-catalogue/#8e14bc67-0821-b270-937d-35f70f459f50"
   ]
  },
  {
   "cell_type": "code",
   "execution_count": 56,
   "metadata": {},
   "outputs": [],
   "source": [
    "# Import census data\n",
    "census_2016=pd.read_excel('Ward_Profiles_Census_2016.xls') \n",
    "census_2011=pd.read_excel('Ward Profiles - Census_2011.xls', '2011')\n",
    "census_2006=pd.read_excel('Ward Profiles - Census_2011.xls', '2006') \n",
    "profile_areas=pd.read_excel('Ward Profiles - WardAreas.xls')"
   ]
  },
  {
   "cell_type": "code",
   "execution_count": 57,
   "metadata": {},
   "outputs": [],
   "source": [
    "profile_areas=profile_areas.drop(profile_areas.index[[0,1,2,3,4,5,52,53,54,55,56,57,58,59]])"
   ]
  },
  {
   "cell_type": "code",
   "execution_count": 58,
   "metadata": {},
   "outputs": [],
   "source": [
    "# Formula to get name of columns\n",
    "def tags_table(table):\n",
    "    numbercolumns=len(table.columns)\n",
    "    numbercolumns=int(numbercolumns)\n",
    "    newnames = []\n",
    "    for x in range(numbercolumns):\n",
    "        tag=table.iloc[0,x]\n",
    "        newnames.append(tag)\n",
    "    return newnames"
   ]
  },
  {
   "cell_type": "code",
   "execution_count": 59,
   "metadata": {},
   "outputs": [],
   "source": [
    "#Define old names and get new names\n",
    "oldnames=['City of Toronto Profiles', 'Unnamed: 1', 'Unnamed: 2']\n",
    "newnames=tags_table(profile_areas)"
   ]
  },
  {
   "cell_type": "code",
   "execution_count": 60,
   "metadata": {},
   "outputs": [],
   "source": [
    "# Change name of columns\n",
    "profile_areas.rename(columns=dict(zip(oldnames, newnames)), inplace=True)\n",
    "#Drop first column of the table\n",
    "profile_areas=profile_areas.drop(profile_areas.index[[0]])\n",
    "# Start index from 0\n",
    "profile_areas = profile_areas.reset_index(level=0, drop=True)\n",
    "profile_areas['Area (sq km)']=profile_areas['Area (sq km)'].astype(float)\n",
    "profile_areas=profile_areas.rename(columns={'Area (sq km)': 'Area_sq_Km'})\n",
    "# This is a table with the name of 44 wards in Toronto becasue the census data refers to the wards by number: Ward 1, Ward 2 , etc\n",
    "profile_areas=pd.DataFrame(profile_areas)\n",
    "profile_areas = profile_areas[profile_areas.Name != 'City of Toronto']"
   ]
  },
  {
   "cell_type": "markdown",
   "metadata": {},
   "source": [
    "#### Census 2016 Data"
   ]
  },
  {
   "cell_type": "code",
   "execution_count": 61,
   "metadata": {},
   "outputs": [],
   "source": [
    "#Drop rows that are not needed\n",
    "population_density_16=census_2016.drop(census_2016.index[[0,1,2,3,4,5,6,7,8,9,10, 11, 12,13,14,15]])"
   ]
  },
  {
   "cell_type": "code",
   "execution_count": 62,
   "metadata": {},
   "outputs": [],
   "source": [
    "#Change name of columns\n",
    "oldnames=['City of Toronto Profiles', 'Unnamed: 1', 'Unnamed: 2','Unnamed: 3', 'Unnamed: 4','Unnamed: 5', 'Unnamed: 6','Unnamed: 7', 'Unnamed: 8',\n",
    "         'Unnamed: 9', 'Unnamed: 10','Unnamed: 11', 'Unnamed: 12','Unnamed: 13', 'Unnamed: 14','Unnamed: 15', 'Unnamed: 16','Unnamed: 17', 'Unnamed: 18',\n",
    "         'Unnamed: 19', 'Unnamed: 20','Unnamed: 21', 'Unnamed: 22','Unnamed: 23', 'Unnamed: 24','Unnamed: 25', 'Unnamed: 26', 'Unnamed: 27', 'Unnamed: 28',\n",
    "        'Unnamed: 29', 'Unnamed: 30','Unnamed: 31', 'Unnamed: 32','Unnamed: 33', 'Unnamed: 34','Unnamed: 35', 'Unnamed: 36','Unnamed: 37', 'Unnamed: 38',\n",
    "        'Unnamed: 39', 'Unnamed: 40','Unnamed: 41', 'Unnamed: 42','Unnamed: 43', 'Unnamed: 44','Unnamed: 45', 'Unnamed: 46','Unnamed: 47', 'Unnamed: 48',\n",
    "          'Unnamed: 49']\n",
    "newnames=tags_table(population_density_16)\n",
    "population_density_16.rename(columns=dict(zip(oldnames, newnames)), inplace=True)"
   ]
  },
  {
   "cell_type": "code",
   "execution_count": 63,
   "metadata": {},
   "outputs": [],
   "source": [
    "#Drop first column of the table\n",
    "population_density_16=population_density_16.drop(population_density_16.index[[0]])"
   ]
  },
  {
   "cell_type": "code",
   "execution_count": 64,
   "metadata": {},
   "outputs": [],
   "source": [
    "#Drop all the data that I do not need\n",
    "population_density_16 = population_density_16.drop(population_density_16.index[22:1319])\n",
    "population_density_16 = population_density_16.drop(population_density_16.index[[20]])\n",
    "population_density_16 = population_density_16.drop(columns=['Etobicoke York ', 'North York', 'Scarborough','Toronto and East York '])\n",
    "population_density_16 = population_density_16.reset_index(level=0, drop=True)\n",
    "population_density_16=pd.DataFrame(population_density_16)"
   ]
  },
  {
   "cell_type": "markdown",
   "metadata": {},
   "source": [
    "#### Census 2011 Data"
   ]
  },
  {
   "cell_type": "code",
   "execution_count": 65,
   "metadata": {},
   "outputs": [],
   "source": [
    "#Drop rows that are not needed\n",
    "population_density_11=census_2011.drop(census_2011.index[[0,1,2,3,4,5,6,7,8]])"
   ]
  },
  {
   "cell_type": "code",
   "execution_count": 66,
   "metadata": {},
   "outputs": [],
   "source": [
    "#Change name of columns\n",
    "oldnames=['City of Toronto Profiles', 'Unnamed: 1', 'Unnamed: 2','Unnamed: 3', 'Unnamed: 4','Unnamed: 5', 'Unnamed: 6','Unnamed: 7', 'Unnamed: 8',\n",
    "         'Unnamed: 9', 'Unnamed: 10','Unnamed: 11', 'Unnamed: 12','Unnamed: 13', 'Unnamed: 14','Unnamed: 15', 'Unnamed: 16','Unnamed: 17', 'Unnamed: 18',\n",
    "         'Unnamed: 19', 'Unnamed: 20','Unnamed: 21', 'Unnamed: 22','Unnamed: 23', 'Unnamed: 24','Unnamed: 25', 'Unnamed: 26', 'Unnamed: 27', 'Unnamed: 28',\n",
    "        'Unnamed: 29', 'Unnamed: 30','Unnamed: 31', 'Unnamed: 32','Unnamed: 33', 'Unnamed: 34','Unnamed: 35', 'Unnamed: 36','Unnamed: 37', 'Unnamed: 38',\n",
    "        'Unnamed: 39', 'Unnamed: 40','Unnamed: 41', 'Unnamed: 42','Unnamed: 43', 'Unnamed: 44','Unnamed: 45', 'Unnamed: 46','Unnamed: 47', 'Unnamed: 48',\n",
    "          'Unnamed: 49']\n",
    "newnames=tags_table(population_density_11)"
   ]
  },
  {
   "cell_type": "code",
   "execution_count": 67,
   "metadata": {},
   "outputs": [],
   "source": [
    "#Drop first column of the table\n",
    "population_density_11.rename(columns=dict(zip(oldnames, newnames)), inplace=True)\n",
    "population_density_11=population_density_11.drop(population_density_11.index[[0]])"
   ]
  },
  {
   "cell_type": "code",
   "execution_count": 68,
   "metadata": {},
   "outputs": [],
   "source": [
    "#Drop all the data that is not needed\n",
    "population_density_11 = population_density_11.drop(population_density_11.index[26:1319])\n",
    "population_density_11 = population_density_11.drop(population_density_11.index[24])\n",
    "population_density_11 = population_density_11.drop(columns=['Etobicoke York', 'North York', 'Scarborough','Toronto & East York'])\n",
    "population_density_11 = population_density_11.reset_index(level=0, drop=True)\n",
    "population_density_11=pd.DataFrame(population_density_11)"
   ]
  },
  {
   "cell_type": "markdown",
   "metadata": {},
   "source": [
    "#### Census 2006 Data"
   ]
  },
  {
   "cell_type": "code",
   "execution_count": 69,
   "metadata": {},
   "outputs": [],
   "source": [
    "#Drop rows that are not needed\n",
    "population_density_06=census_2006.drop(census_2006.index[[0,1,2,3,4,5,6,7,8]])"
   ]
  },
  {
   "cell_type": "code",
   "execution_count": 70,
   "metadata": {},
   "outputs": [],
   "source": [
    "#Change name of columns\n",
    "oldnames=['City of Toronto Profiles', 'Unnamed: 1', 'Unnamed: 2','Unnamed: 3', 'Unnamed: 4','Unnamed: 5', 'Unnamed: 6','Unnamed: 7', 'Unnamed: 8',\n",
    "         'Unnamed: 9', 'Unnamed: 10','Unnamed: 11', 'Unnamed: 12','Unnamed: 13', 'Unnamed: 14','Unnamed: 15', 'Unnamed: 16','Unnamed: 17', 'Unnamed: 18',\n",
    "         'Unnamed: 19', 'Unnamed: 20','Unnamed: 21', 'Unnamed: 22','Unnamed: 23', 'Unnamed: 24','Unnamed: 25', 'Unnamed: 26', 'Unnamed: 27', 'Unnamed: 28',\n",
    "        'Unnamed: 29', 'Unnamed: 30','Unnamed: 31', 'Unnamed: 32','Unnamed: 33', 'Unnamed: 34','Unnamed: 35', 'Unnamed: 36','Unnamed: 37', 'Unnamed: 38',\n",
    "        'Unnamed: 39', 'Unnamed: 40','Unnamed: 41', 'Unnamed: 42','Unnamed: 43', 'Unnamed: 44','Unnamed: 45', 'Unnamed: 46','Unnamed: 47', 'Unnamed: 48',\n",
    "          'Unnamed: 49']\n",
    "newnames=tags_table(population_density_06)"
   ]
  },
  {
   "cell_type": "code",
   "execution_count": 71,
   "metadata": {},
   "outputs": [],
   "source": [
    "#Drop first column of the table\n",
    "population_density_06.rename(columns=dict(zip(oldnames, newnames)), inplace=True)\n",
    "population_density_06=population_density_06.drop(population_density_06.index[[0]])"
   ]
  },
  {
   "cell_type": "code",
   "execution_count": 72,
   "metadata": {},
   "outputs": [],
   "source": [
    "#Drop all the data that is not needed\n",
    "population_density_06 = population_density_06.drop(population_density_06.index[21:1319])\n",
    "population_density_06 = population_density_06.drop(population_density_06.index[19])\n",
    "population_density_06 = population_density_06.drop(columns=['Etobicoke York', 'North York', 'Scarborough','Toronto & East York'])\n",
    "population_density_06 = population_density_06.reset_index(level=0, drop=True)\n",
    "population_density_06=pd.DataFrame(population_density_06)"
   ]
  },
  {
   "cell_type": "markdown",
   "metadata": {},
   "source": [
    "#### Summary 2016, 2011, and 2006"
   ]
  },
  {
   "cell_type": "code",
   "execution_count": 73,
   "metadata": {},
   "outputs": [],
   "source": [
    "# Create a copy of the data frames\n",
    "total_population16 = population_density_16.copy()\n",
    "total_population16=total_population16.drop(total_population16.columns[0], axis=1)\n",
    "total_population11 = population_density_11.copy()\n",
    "total_population11=total_population11.drop(total_population11.columns[0], axis=1)\n",
    "total_population06 = population_density_06.copy()\n",
    "total_population06=total_population06.drop(total_population06.columns[0], axis=1)"
   ]
  },
  {
   "cell_type": "code",
   "execution_count": 74,
   "metadata": {},
   "outputs": [],
   "source": [
    "# Drop all the data by age and keep the total by ward\n",
    "total_population16= total_population16.drop(total_population16.index[1:20])\n",
    "total_population11= total_population11.drop(total_population11.index[1:24])\n",
    "total_population06= total_population06.drop(total_population06.index[1:19])"
   ]
  },
  {
   "cell_type": "code",
   "execution_count": 75,
   "metadata": {},
   "outputs": [],
   "source": [
    "# Join all the data\n",
    "total_population=total_population16.copy()\n",
    "total_population=total_population.append(total_population11)\n",
    "total_population=total_population.append(total_population06)\n",
    "total_population = total_population.reset_index(level=0, drop=True)"
   ]
  },
  {
   "cell_type": "code",
   "execution_count": 76,
   "metadata": {},
   "outputs": [],
   "source": [
    "# Drop totals for all of Toronto\n",
    "total_population = total_population.drop(['Toronto'], axis=1)"
   ]
  },
  {
   "cell_type": "code",
   "execution_count": 77,
   "metadata": {},
   "outputs": [],
   "source": [
    "#Re-index and convert data types\n",
    "total_population.index=pd.Index(['Total_Population_2016','Median_age_2016','Total_Population_2011','Median_age_2011','Total_Population_2006','Median_age_2006'],name='Ward_ID')\n",
    "total_population_data=total_population.T\n",
    "total_population_data['Total_Population_2016']=total_population_data['Total_Population_2016'].astype(int)\n",
    "total_population_data['Total_Population_2011']=total_population_data['Total_Population_2011'].astype(int)\n",
    "total_population_data['Total_Population_2006']=total_population_data['Total_Population_2006'].astype(int)"
   ]
  },
  {
   "cell_type": "markdown",
   "metadata": {},
   "source": [
    "#### Normalize Data\n",
    "Data = Population/area"
   ]
  },
  {
   "cell_type": "code",
   "execution_count": 78,
   "metadata": {},
   "outputs": [],
   "source": [
    "#Use numpy to normalize population\n",
    "population16 = np.array(total_population_data.Total_Population_2016)\n",
    "population11 = np.array(total_population_data.Total_Population_2011)\n",
    "population06 = np.array(total_population_data.Total_Population_2006)\n",
    "area=np.array(profile_areas.Area_sq_Km)"
   ]
  },
  {
   "cell_type": "code",
   "execution_count": 79,
   "metadata": {},
   "outputs": [],
   "source": [
    "#Divide data by ward areas\n",
    "v1=population16/area\n",
    "v2=population11/area\n",
    "v3=population06/area"
   ]
  },
  {
   "cell_type": "code",
   "execution_count": 80,
   "metadata": {},
   "outputs": [],
   "source": [
    "#Set column values\n",
    "total_population_data['Pop_Density_2016'] = v1\n",
    "total_population_data['Pop_Density_2011'] = v2\n",
    "total_population_data['Pop_Density_2006'] = v3"
   ]
  },
  {
   "cell_type": "code",
   "execution_count": 81,
   "metadata": {},
   "outputs": [],
   "source": [
    "#Get averages from 2006 to 2016 as the change is limited\n",
    "total_population_data['Avg_Pop_Density'] = total_population_data[['Pop_Density_2016', 'Pop_Density_2011', 'Pop_Density_2006']].mean(axis=1)\n",
    "total_population_data['Avg_Median_Age'] = total_population_data[['Median_age_2016', 'Median_age_2011', 'Median_age_2006']].mean(axis=1)"
   ]
  },
  {
   "cell_type": "code",
   "execution_count": 82,
   "metadata": {},
   "outputs": [],
   "source": [
    "#Drop uncessary yearly population and median age data\n",
    "total_population_data = total_population_data.drop(['Total_Population_2016','Total_Population_2011', 'Total_Population_2006','Pop_Density_2016', 'Pop_Density_2011', 'Pop_Density_2006','Median_age_2016','Median_age_2011','Median_age_2006'], axis=1).reset_index()\n",
    "total_population_data = total_population_data.reset_index(drop=True)\n",
    "total_population_data=total_population_data.rename(index=str, columns={'index': 'Ward_Num'})"
   ]
  },
  {
   "cell_type": "code",
   "execution_count": 83,
   "metadata": {},
   "outputs": [],
   "source": [
    "#Create column with just the ward number\n",
    "total_population_data.Ward_Num = total_population_data.Ward_Num.str.replace(r'\\D', '')"
   ]
  },
  {
   "cell_type": "markdown",
   "metadata": {},
   "source": [
    "### School Zones"
   ]
  },
  {
   "cell_type": "markdown",
   "metadata": {},
   "source": [
    "Data: This data set is a geographical file containing the school locations within the City of Toronto for all types as a point location.\n",
    "\n",
    "Source: The Toronto Police Service is the owner of this data however it is stored as part of the City of Toronto's Data Portal.\n",
    "https://www.toronto.ca/city-government/data-research-maps/open-data/open-data-catalogue/locations-and-mapping/#ae3d7146-4fe3-19dd-4f0e-4cbe486147d7\n",
    "\n",
    "Attributes: The attributes of interest are the following the latitude and longitude of the school point location. This will be used to determine if the school is within the proximity of the intersection."
   ]
  },
  {
   "cell_type": "code",
   "execution_count": 84,
   "metadata": {},
   "outputs": [],
   "source": [
    "street_data_school = street_data"
   ]
  },
  {
   "cell_type": "code",
   "execution_count": 85,
   "metadata": {},
   "outputs": [],
   "source": [
    "#Drop columns that are not needed and create LatLong2 column\n",
    "street_data_school = street_data_school.drop(columns=['TCS #','Midblock Route','Side 2 Route','Activation Date','Count Date','8 Peak Hr Vehicle Volume','8 Peak Hr Pedestrian Volume'])\n",
    "street_data_school.columns = ['Main', 'Side_1_Route','Latitude', 'Longitude']\n",
    "street_data_school['LatLong2'] = street_data_school.apply(lambda row: (row['Latitude'], row['Longitude']), axis=1)"
   ]
  },
  {
   "cell_type": "code",
   "execution_count": 86,
   "metadata": {},
   "outputs": [],
   "source": [
    "#Read shape file containing school locations\n",
    "shape = shapefile.Reader('school_frm_police_wgs84\\SCHOOL_WGS84')"
   ]
  },
  {
   "cell_type": "code",
   "execution_count": 87,
   "metadata": {},
   "outputs": [],
   "source": [
    "#Parse out the records and shapes\n",
    "fields_school = [x[0] for x in shape.fields][1:]\n",
    "records_school = []\n",
    "count = 0\n",
    "for rec in shape.records():\n",
    "    records_school.append(list(rec))\n",
    "shps_school = [s.points for s in shape.shapes()]"
   ]
  },
  {
   "cell_type": "code",
   "execution_count": 88,
   "metadata": {},
   "outputs": [],
   "source": [
    "#Convert to a DataFrame and drop unneccessary columns\n",
    "df_school = pd.DataFrame(columns=fields_school,data=records_school)\n",
    "df_school = df_school.assign(coords=shps_school)\n",
    "df_school = df_school.drop(columns=['GEO_ID','SCL_LVL','SCL_TP_DSC','ADD_PT_ID','ADD_NUM','LN_NAM_FUL','ADD_FULL','HI_NUM','HI_NUM_SUF','LN_NAM_ID'])\n",
    "df_school = df_school.drop(columns=['POSTAL_CD','MUN','CITY','GEN_USE_CD','CNTL_ID','LO_NUM','LO_NUM_SUF','X','Y','OBJECTID','RID'])"
   ]
  },
  {
   "cell_type": "code",
   "execution_count": 89,
   "metadata": {},
   "outputs": [],
   "source": [
    "#Initialize lists\n",
    "intersection_school= {}\n",
    "intersection_school['Main']=[]\n",
    "intersection_school[\"Side 1 Route\"]=[]\n",
    "intersection_school[\"distance\"]=[]"
   ]
  },
  {
   "cell_type": "code",
   "execution_count": 90,
   "metadata": {},
   "outputs": [],
   "source": [
    "XA_school = np.ndarray((2, 1)) #declare as a 2D array\n",
    "        \n",
    "for index, row in df_school.iterrows():\n",
    "    XA_school = np.asarray([df_school.LATITUDE[index],df_school.LONGITUDE[index]]) #iter through every point of intrest\n",
    "    XB_school = np.asarray(street_data_school.LatLong2.values.tolist()) \n",
    "    closest_index = distance.cdist([XA_school], XB_school).argmin() #return closest node index\n",
    "    d = distance_closest_intersection(XA_school, XB_school[closest_index]) # find distance \n",
    "    intersection_school['Main'].append(street_data_school.Main[closest_index]) #fill varibles \n",
    "    intersection_school['Side 1 Route'].append(street_data_school.Side_1_Route[closest_index])\n",
    "    intersection_school[\"distance\"].append(d)"
   ]
  },
  {
   "cell_type": "code",
   "execution_count": 91,
   "metadata": {},
   "outputs": [],
   "source": [
    "#Create DataFrame and concatenate data together\n",
    "school_counts = pd.DataFrame(intersection_school)\n",
    "points_in_school = [df_school, school_counts]\n",
    "school_locations = pd.concat(points_in_school, axis = 1)"
   ]
  },
  {
   "cell_type": "code",
   "execution_count": 92,
   "metadata": {},
   "outputs": [],
   "source": [
    "#Check if school is within a 1 block radius of intersection (200m)\n",
    "school_locations['School_Present'] = np.where((school_locations['distance'] < 0.2), 'Y', 'N')"
   ]
  },
  {
   "cell_type": "code",
   "execution_count": 93,
   "metadata": {},
   "outputs": [],
   "source": [
    "#Drop uneccessary columns\n",
    "school_locations = school_locations.drop(columns=['NAME','SCL_TP','BRD_NAME','LATITUDE','LONGITUDE','coords', 'distance'])"
   ]
  },
  {
   "cell_type": "markdown",
   "metadata": {},
   "source": [
    "### Bikeways and Road Information"
   ]
  },
  {
   "cell_type": "markdown",
   "metadata": {},
   "source": [
    "Data: The data is in the format of a shapefile from which information was extracted using geopandas.\n",
    "\n",
    "Source: https://www.toronto.ca/city-government/data-research-maps/open-data/open-data-catalogue/#62a5e0cf-690e-1a8a-e8c3-81696c6f7cc9\n",
    "\n",
    "Attributes: The Toronto bikeways data contains bicycle lanes, signed bicycle routes and pathways. It also shows suggested routes and connections in areas where routes have not yet been designated as part of the Bikeway Network"
   ]
  },
  {
   "cell_type": "code",
   "execution_count": 94,
   "metadata": {},
   "outputs": [],
   "source": [
    "#Load in road features\n",
    "Twentyeighteen_bikeways_gdf = gpd.read_file(\"Project - Bikepaths\\CENTRELINE_BIKEWAY_OD_WGS84.shp\")"
   ]
  },
  {
   "cell_type": "code",
   "execution_count": 95,
   "metadata": {},
   "outputs": [],
   "source": [
    "street_df = street_data\n",
    "street_df = street_df.drop(columns = ['Main', 'Midblock Route', 'Side 1 Route', 'Side 2 Route', 'Activation Date','Count Date', '8 Peak Hr Vehicle Volume', '8 Peak Hr Pedestrian Volume'])\n",
    "street_df = street_df.dropna()"
   ]
  },
  {
   "cell_type": "code",
   "execution_count": 96,
   "metadata": {},
   "outputs": [],
   "source": [
    "#Set type of land feature\n",
    "trail_df = Twentyeighteen_bikeways_gdf[Twentyeighteen_bikeways_gdf.FCODE_DESC=='Trail']\n",
    "river_df = Twentyeighteen_bikeways_gdf[Twentyeighteen_bikeways_gdf.FCODE_DESC=='River']\n",
    "local_df = Twentyeighteen_bikeways_gdf[Twentyeighteen_bikeways_gdf.FCODE_DESC=='Local']\n",
    "major_art_df = Twentyeighteen_bikeways_gdf[Twentyeighteen_bikeways_gdf.FCODE_DESC=='Major Arterial']\n",
    "laneway_df = Twentyeighteen_bikeways_gdf[Twentyeighteen_bikeways_gdf.FCODE_DESC=='Laneway']\n",
    "major_rail_df = Twentyeighteen_bikeways_gdf[Twentyeighteen_bikeways_gdf.FCODE_DESC=='Major Railway']\n",
    "major_shore_df = Twentyeighteen_bikeways_gdf[Twentyeighteen_bikeways_gdf.FCODE_DESC=='Major Shoreline']\n",
    "collector_df = Twentyeighteen_bikeways_gdf[Twentyeighteen_bikeways_gdf.FCODE_DESC=='Collector']\n",
    "walkway_df = Twentyeighteen_bikeways_gdf[Twentyeighteen_bikeways_gdf.FCODE_DESC=='Walkway']\n",
    "hydro_df = Twentyeighteen_bikeways_gdf[Twentyeighteen_bikeways_gdf.FCODE_DESC=='Hydro Line']\n",
    "minor_art_df = Twentyeighteen_bikeways_gdf[Twentyeighteen_bikeways_gdf.FCODE_DESC=='Minor Arterial']\n",
    "access_rd_df = Twentyeighteen_bikeways_gdf[Twentyeighteen_bikeways_gdf.FCODE_DESC=='Access Road']\n",
    "min_shore_df = Twentyeighteen_bikeways_gdf[Twentyeighteen_bikeways_gdf.FCODE_DESC=='Minor Shoreline (Land locked)']\n",
    "busway_df = Twentyeighteen_bikeways_gdf[Twentyeighteen_bikeways_gdf.FCODE_DESC=='Busway']\n",
    "collector_ramp_df = Twentyeighteen_bikeways_gdf[Twentyeighteen_bikeways_gdf.FCODE_DESC=='Collector Ramp']\n",
    "other_ramp_df =  Twentyeighteen_bikeways_gdf[Twentyeighteen_bikeways_gdf.FCODE_DESC=='Other Ramp']\n",
    "minor_rail_df = Twentyeighteen_bikeways_gdf[Twentyeighteen_bikeways_gdf.FCODE_DESC=='Minor Railway']\n",
    "minor_art_ramp_df  =Twentyeighteen_bikeways_gdf[Twentyeighteen_bikeways_gdf.FCODE_DESC=='Minor Arterial Ramp']\n",
    "expressway_df =  Twentyeighteen_bikeways_gdf[Twentyeighteen_bikeways_gdf.FCODE_DESC=='Expressway']\n",
    "expressway_ramp_df = Twentyeighteen_bikeways_gdf[Twentyeighteen_bikeways_gdf.FCODE_DESC=='Expressway Ramp']\n",
    "major_art_ramp = Twentyeighteen_bikeways_gdf[Twentyeighteen_bikeways_gdf.FCODE_DESC=='Major Arterial Ramp']"
   ]
  },
  {
   "cell_type": "code",
   "execution_count": 97,
   "metadata": {},
   "outputs": [],
   "source": [
    "#Set bikeway type\n",
    "major_multi_df = Twentyeighteen_bikeways_gdf[Twentyeighteen_bikeways_gdf.CP_TYPE=='Major Multi-use Pathway']\n",
    "sugg_on_st_df = Twentyeighteen_bikeways_gdf[Twentyeighteen_bikeways_gdf.CP_TYPE=='Suggested On-Street Routes']\n",
    "signed_routes_df = Twentyeighteen_bikeways_gdf[Twentyeighteen_bikeways_gdf.CP_TYPE=='Signed Routes']\n",
    "bike_lanes_df = Twentyeighteen_bikeways_gdf[Twentyeighteen_bikeways_gdf.CP_TYPE=='Bike Lanes']\n",
    "park_rds_cyc_df = Twentyeighteen_bikeways_gdf[Twentyeighteen_bikeways_gdf.CP_TYPE=='Park Roads Cycling Connections']\n",
    "minor_multi_df = Twentyeighteen_bikeways_gdf[Twentyeighteen_bikeways_gdf.CP_TYPE=='Minor Multi-use Pathway']\n",
    "quiet_st_cyc_df = Twentyeighteen_bikeways_gdf[Twentyeighteen_bikeways_gdf.CP_TYPE=='Quiet Street Cycling Routes']\n",
    "cycle_tracks_df = Twentyeighteen_bikeways_gdf[Twentyeighteen_bikeways_gdf.CP_TYPE=='Cycle Tracks']\n",
    "inf_dirt_df = Twentyeighteen_bikeways_gdf[Twentyeighteen_bikeways_gdf.CP_TYPE=='Informal Dirt Footpath']"
   ]
  },
  {
   "cell_type": "code",
   "execution_count": 98,
   "metadata": {},
   "outputs": [],
   "source": [
    "# Create GeoDataFrame for intersection points\n",
    "df_inter_info = street_df\n",
    "inter_points = [geo.Point(yx) for yx in zip(df_inter_info.Longitude, df_inter_info.Latitude)]\n",
    "df_inter_geo = gpd.GeoDataFrame(df_inter_info, geometry = inter_points)\n",
    "\n",
    "# Generate Buffer around intersection points\n",
    "df_inter_geo.geometry = df_inter_geo.geometry.buffer(0.001)"
   ]
  },
  {
   "cell_type": "code",
   "execution_count": 99,
   "metadata": {},
   "outputs": [
    {
     "name": "stderr",
     "output_type": "stream",
     "text": [
      "C:\\Users\\Skynet\\Anaconda3\\lib\\site-packages\\geopandas\\tools\\sjoin.py:44: UserWarning: CRS of frames being joined does not match!\n",
      "  warn('CRS of frames being joined does not match!')\n"
     ]
    }
   ],
   "source": [
    "#Check if route intersects intersection points\n",
    "df_geo_major_art = gpd.sjoin(df_inter_geo, major_art_df, how = 'left', op='intersects')\n",
    "df_geo_minor_art = gpd.sjoin(df_inter_geo, minor_art_df, how = 'left', op='intersects')\n",
    "df_geo_trail = gpd.sjoin(df_inter_geo, trail_df, how = 'left', op = 'intersects')\n",
    "df_geo_local = gpd.sjoin(df_inter_geo, local_df, how='left',op = 'intersects')\n",
    "df_geo_laneway = gpd.sjoin(df_inter_geo, laneway_df, how = 'left', op = 'intersects')\n",
    "df_geo_maj_rail = gpd.sjoin(df_inter_geo, major_rail_df, how = 'left', op = 'intersects')\n",
    "df_geo_maj_shore = gpd. sjoin(df_inter_geo, major_shore_df, how = 'left', op = 'intersects')\n",
    "df_geo_walkway = gpd. sjoin(df_inter_geo, walkway_df, how = 'left', op = 'intersects')\n",
    "df_geo_hydro = gpd. sjoin(df_inter_geo, hydro_df, how = 'left', op = 'intersects')\n",
    "df_geo_access = gpd. sjoin(df_inter_geo, access_rd_df, how = 'left', op = 'intersects')\n",
    "df_geo_busway = gpd. sjoin(df_inter_geo, busway_df, how = 'left', op = 'intersects')\n",
    "df_geo_collector_ramp =gpd. sjoin(df_inter_geo, collector_ramp_df, how = 'left', op = 'intersects')\n",
    "df_geo_other = gpd. sjoin(df_inter_geo, other_ramp_df, how = 'left', op = 'intersects')\n",
    "df_geo_expressway = gpd. sjoin(df_inter_geo, expressway_df, how = 'left', op = 'intersects')\n",
    "df_geo_maj_multi = gpd. sjoin(df_inter_geo, major_multi_df, how = 'left', op = 'intersects')\n",
    "df_geo_sugg_st = gpd. sjoin(df_inter_geo, sugg_on_st_df, how = 'left', op = 'intersects')\n",
    "df_geo_sign = gpd. sjoin(df_inter_geo, signed_routes_df, how = 'left', op = 'intersects')\n",
    "df_geo_bike_lanes = gpd. sjoin(df_inter_geo, bike_lanes_df, how = 'left', op = 'intersects')\n",
    "df_geo_park_rds = gpd. sjoin(df_inter_geo, park_rds_cyc_df, how = 'left', op = 'intersects')\n",
    "df_geo_min_multi = gpd. sjoin(df_inter_geo, minor_multi_df, how = 'left', op = 'intersects')\n",
    "df_geo_quiet = gpd. sjoin(df_inter_geo, quiet_st_cyc_df, how = 'left', op = 'intersects')\n",
    "df_geo_cycle_tracks = gpd. sjoin(df_inter_geo, cycle_tracks_df, how = 'left', op = 'intersects')\n",
    "df_geo_inf_dirt = gpd. sjoin(df_inter_geo, inf_dirt_df, how = 'left', op = 'intersects')"
   ]
  },
  {
   "cell_type": "code",
   "execution_count": 100,
   "metadata": {},
   "outputs": [],
   "source": [
    "# Create column to identify if intersection has the particular bike way feature\n",
    "\n",
    "df_geo_major_art['Major Arterial Road'] = np.where((df_geo_major_art['index_right'].isin(['NaN'])) , 'N', 'Y')\n",
    "df_geo_minor_art['Minor Arterial Road'] = np.where((df_geo_minor_art['index_right'].isin(['NaN'])) , 'N', 'Y')\n",
    "df_geo_trail['Trail'] = np.where((df_geo_trail['index_right'].isin(['NaN'])) , 'N', 'Y')\n",
    "df_geo_local['Local'] = np.where((df_geo_local['index_right'].isin(['NaN'])) , 'N', 'Y')\n",
    "df_geo_laneway['Laneway'] = np.where((df_geo_laneway['index_right'].isin(['NaN'])) , 'N', 'Y')\n",
    "df_geo_maj_rail['Major Rail'] = np.where((df_geo_maj_rail['index_right'].isin(['NaN'])) , 'N', 'Y')\n",
    "df_geo_maj_shore['Major Shore'] = np.where((df_geo_maj_shore['index_right'].isin(['NaN'])) , 'N', 'Y')\n",
    "df_geo_collector_ramp['Collector Ramp'] = np.where((df_geo_collector_ramp['index_right'].isin(['NaN'])) , 'N', 'Y')\n",
    "df_geo_walkway['Walkway'] = np.where((df_geo_walkway['index_right'].isin(['NaN'])) , 'N', 'Y')\n",
    "df_geo_hydro['Hydro'] = np.where((df_geo_hydro['index_right'].isin(['NaN'])) , 'N', 'Y')\n",
    "df_geo_access['Access'] = np.where((df_geo_access['index_right'].isin(['NaN'])) , 'N', 'Y')\n",
    "df_geo_busway['Busway'] = np.where((df_geo_busway['index_right'].isin(['NaN'])) , 'N', 'Y')\n",
    "df_geo_other['Other Ramp'] = np.where((df_geo_other['index_right'].isin(['NaN'])) , 'N', 'Y')\n",
    "df_geo_expressway['Expressway'] = np.where((df_geo_expressway['index_right'].isin(['NaN'])) , 'N', 'Y')\n",
    "df_geo_maj_multi['Major Multi Use Pathway'] = np.where((df_geo_maj_multi['index_right'].isin(['NaN'])) , 'N', 'Y')\n",
    "df_geo_sugg_st['Suggested On Street Routes'] = np.where((df_geo_sugg_st['index_right'].isin(['NaN'])) , 'N', 'Y')\n",
    "df_geo_sign['Signed Routes'] = np.where((df_geo_sign['index_right'].isin(['NaN'])) , 'N', 'Y')\n",
    "df_geo_bike_lanes['Bike Lanes'] = np.where((df_geo_bike_lanes['index_right'].isin(['NaN'])) , 'N', 'Y')\n",
    "df_geo_park_rds['Park Roads Cycling Conn.'] = np.where((df_geo_park_rds['index_right'].isin(['NaN'])) , 'N', 'Y')\n",
    "df_geo_min_multi['Minor Multi Use Pathway'] = np.where((df_geo_min_multi['index_right'].isin(['NaN'])) , 'N', 'Y')\n",
    "df_geo_quiet['Quiet Street Cycling Routes'] = np.where((df_geo_quiet['index_right'].isin(['NaN'])) , 'N', 'Y')\n",
    "df_geo_cycle_tracks['Cycle Tracks'] = np.where((df_geo_cycle_tracks['index_right'].isin(['NaN'])) , 'N', 'Y')\n",
    "df_geo_inf_dirt['Informal Dirt Footpath'] = np.where((df_geo_inf_dirt['index_right'].isin(['NaN'])) , 'N', 'Y')"
   ]
  },
  {
   "cell_type": "code",
   "execution_count": 101,
   "metadata": {},
   "outputs": [],
   "source": [
    "# Delete unneccessary columns\n",
    "\n",
    "df_geo_major_art = df_geo_major_art.drop(columns =['Latitude','Longitude', 'ONE_WAY_DI','DIR_CODE_D','CP_TYPE','geometry', 'index_right','GEO_ID','LFN_ID','LF_NAME','ADDRESS_L','ADDRESS_R','OE_FLAG_L','OE_FLAG_R','LONUML','HINUML','LONUMR','HINUMR','FNODE','TNODE','FCODE','FCODE_DESC','JURIS_CODE','OBJECTID','RID'])\n",
    "df_geo_minor_art = df_geo_minor_art.drop(columns =['Latitude','Longitude','ONE_WAY_DI','DIR_CODE_D','CP_TYPE','geometry', 'index_right','GEO_ID','LFN_ID','LF_NAME','ADDRESS_L','ADDRESS_R','OE_FLAG_L','OE_FLAG_R','LONUML','HINUML','LONUMR','HINUMR','FNODE','TNODE','FCODE','FCODE_DESC','JURIS_CODE','OBJECTID','RID'])\n",
    "df_geo_trail = df_geo_trail.drop(columns =['Latitude','Longitude','ONE_WAY_DI','DIR_CODE_D','CP_TYPE','geometry', 'index_right','GEO_ID','LFN_ID','LF_NAME','ADDRESS_L','ADDRESS_R','OE_FLAG_L','OE_FLAG_R','LONUML','HINUML','LONUMR','HINUMR','FNODE','TNODE','FCODE','FCODE_DESC','JURIS_CODE','OBJECTID','RID'])\n",
    "df_geo_local = df_geo_local.drop(columns =['Latitude','Longitude','ONE_WAY_DI','DIR_CODE_D','CP_TYPE','geometry', 'index_right','GEO_ID','LFN_ID','LF_NAME','ADDRESS_L','ADDRESS_R','OE_FLAG_L','OE_FLAG_R','LONUML','HINUML','LONUMR','HINUMR','FNODE','TNODE','FCODE','FCODE_DESC','JURIS_CODE','OBJECTID','RID'])\n",
    "df_geo_laneway = df_geo_laneway.drop(columns =['Latitude','Longitude','ONE_WAY_DI','DIR_CODE_D','CP_TYPE','geometry', 'index_right','GEO_ID','LFN_ID','LF_NAME','ADDRESS_L','ADDRESS_R','OE_FLAG_L','OE_FLAG_R','LONUML','HINUML','LONUMR','HINUMR','FNODE','TNODE','FCODE','FCODE_DESC','JURIS_CODE','OBJECTID','RID'])\n",
    "df_geo_maj_rail = df_geo_maj_rail.drop(columns =['Latitude','Longitude','ONE_WAY_DI','DIR_CODE_D','CP_TYPE','geometry', 'index_right','GEO_ID','LFN_ID','LF_NAME','ADDRESS_L','ADDRESS_R','OE_FLAG_L','OE_FLAG_R','LONUML','HINUML','LONUMR','HINUMR','FNODE','TNODE','FCODE','FCODE_DESC','JURIS_CODE','OBJECTID','RID'])\n",
    "df_geo_maj_shore = df_geo_maj_shore.drop(columns =['Latitude','Longitude','ONE_WAY_DI','DIR_CODE_D','CP_TYPE','geometry', 'index_right','GEO_ID','LFN_ID','LF_NAME','ADDRESS_L','ADDRESS_R','OE_FLAG_L','OE_FLAG_R','LONUML','HINUML','LONUMR','HINUMR','FNODE','TNODE','FCODE','FCODE_DESC','JURIS_CODE','OBJECTID','RID'])\n",
    "df_geo_collector_ramp = df_geo_collector_ramp.drop(columns =['Latitude','Longitude','ONE_WAY_DI','DIR_CODE_D','CP_TYPE','geometry', 'index_right','GEO_ID','LFN_ID','LF_NAME','ADDRESS_L','ADDRESS_R','OE_FLAG_L','OE_FLAG_R','LONUML','HINUML','LONUMR','HINUMR','FNODE','TNODE','FCODE','FCODE_DESC','JURIS_CODE','OBJECTID','RID'])\n",
    "df_geo_walkway = df_geo_walkway.drop(columns =['Latitude','Longitude','geometry','ONE_WAY_DI','DIR_CODE_D','CP_TYPE', 'index_right','GEO_ID','LFN_ID','LF_NAME','ADDRESS_L','ADDRESS_R','OE_FLAG_L','OE_FLAG_R','LONUML','HINUML','LONUMR','HINUMR','FNODE','TNODE','FCODE','FCODE_DESC','JURIS_CODE','OBJECTID','RID'])\n",
    "df_geo_hydro = df_geo_hydro.drop(columns =['Latitude','Longitude','geometry','ONE_WAY_DI','DIR_CODE_D','CP_TYPE', 'index_right','GEO_ID','LFN_ID','LF_NAME','ADDRESS_L','ADDRESS_R','OE_FLAG_L','OE_FLAG_R','LONUML','HINUML','LONUMR','HINUMR','FNODE','TNODE','FCODE','FCODE_DESC','JURIS_CODE','OBJECTID','RID'])\n",
    "df_geo_access = df_geo_access.drop(columns =['Latitude','Longitude','geometry','ONE_WAY_DI','DIR_CODE_D','CP_TYPE', 'index_right','GEO_ID','LFN_ID','LF_NAME','ADDRESS_L','ADDRESS_R','OE_FLAG_L','OE_FLAG_R','LONUML','HINUML','LONUMR','HINUMR','FNODE','TNODE','FCODE','FCODE_DESC','JURIS_CODE','OBJECTID','RID'])\n",
    "df_geo_busway = df_geo_busway.drop(columns =['Latitude','Longitude','geometry','ONE_WAY_DI','DIR_CODE_D','CP_TYPE', 'index_right','GEO_ID','LFN_ID','LF_NAME','ADDRESS_L','ADDRESS_R','OE_FLAG_L','OE_FLAG_R','LONUML','HINUML','LONUMR','HINUMR','FNODE','TNODE','FCODE','FCODE_DESC','JURIS_CODE','OBJECTID','RID'])\n",
    "df_geo_other = df_geo_other.drop(columns =['Latitude','Longitude','geometry','ONE_WAY_DI','DIR_CODE_D','CP_TYPE', 'index_right','GEO_ID','LFN_ID','LF_NAME','ADDRESS_L','ADDRESS_R','OE_FLAG_L','OE_FLAG_R','LONUML','HINUML','LONUMR','HINUMR','FNODE','TNODE','FCODE','FCODE_DESC','JURIS_CODE','OBJECTID','RID'])\n",
    "df_geo_expressway = df_geo_expressway.drop(columns =['Latitude','Longitude','ONE_WAY_DI','DIR_CODE_D','CP_TYPE','geometry', 'index_right','GEO_ID','LFN_ID','LF_NAME','ADDRESS_L','ADDRESS_R','OE_FLAG_L','OE_FLAG_R','LONUML','HINUML','LONUMR','HINUMR','FNODE','TNODE','FCODE','FCODE_DESC','JURIS_CODE','OBJECTID','RID'])\n",
    "df_geo_maj_multi = df_geo_maj_multi.drop(columns =['Latitude','Longitude','ONE_WAY_DI','DIR_CODE_D','CP_TYPE','geometry', 'index_right','GEO_ID','LFN_ID','LF_NAME','ADDRESS_L','ADDRESS_R','OE_FLAG_L','OE_FLAG_R','LONUML','HINUML','LONUMR','HINUMR','FNODE','TNODE','FCODE','FCODE_DESC','JURIS_CODE','OBJECTID','RID'])\n",
    "df_geo_sugg_st = df_geo_sugg_st.drop(columns =['Latitude','Longitude','ONE_WAY_DI','DIR_CODE_D','CP_TYPE','geometry', 'index_right','GEO_ID','LFN_ID','LF_NAME','ADDRESS_L','ADDRESS_R','OE_FLAG_L','OE_FLAG_R','LONUML','HINUML','LONUMR','HINUMR','FNODE','TNODE','FCODE','FCODE_DESC','JURIS_CODE','OBJECTID','RID'])\n",
    "df_geo_sign = df_geo_sign.drop(columns =['Latitude','Longitude','ONE_WAY_DI','DIR_CODE_D','CP_TYPE','geometry', 'index_right','GEO_ID','LFN_ID','LF_NAME','ADDRESS_L','ADDRESS_R','OE_FLAG_L','OE_FLAG_R','LONUML','HINUML','LONUMR','HINUMR','FNODE','TNODE','FCODE','FCODE_DESC','JURIS_CODE','OBJECTID','RID'])\n",
    "df_geo_bike_lanes = df_geo_bike_lanes.drop(columns =['Latitude','Longitude','ONE_WAY_DI','DIR_CODE_D','CP_TYPE','geometry', 'index_right','GEO_ID','LFN_ID','LF_NAME','ADDRESS_L','ADDRESS_R','OE_FLAG_L','OE_FLAG_R','LONUML','HINUML','LONUMR','HINUMR','FNODE','TNODE','FCODE','FCODE_DESC','JURIS_CODE','OBJECTID','RID'])\n",
    "df_geo_park_rds = df_geo_park_rds.drop(columns =['Latitude','Longitude','ONE_WAY_DI','DIR_CODE_D','CP_TYPE','geometry', 'index_right','GEO_ID','LFN_ID','LF_NAME','ADDRESS_L','ADDRESS_R','OE_FLAG_L','OE_FLAG_R','LONUML','HINUML','LONUMR','HINUMR','FNODE','TNODE','FCODE','FCODE_DESC','JURIS_CODE','OBJECTID','RID'])\n",
    "df_geo_min_multi = df_geo_min_multi.drop(columns =['Latitude','Longitude','ONE_WAY_DI','DIR_CODE_D','CP_TYPE','geometry', 'index_right','GEO_ID','LFN_ID','LF_NAME','ADDRESS_L','ADDRESS_R','OE_FLAG_L','OE_FLAG_R','LONUML','HINUML','LONUMR','HINUMR','FNODE','TNODE','FCODE','FCODE_DESC','JURIS_CODE','OBJECTID','RID'])\n",
    "df_geo_quiet = df_geo_quiet.drop(columns =['Latitude','Longitude','ONE_WAY_DI','DIR_CODE_D','CP_TYPE','geometry', 'index_right','GEO_ID','LFN_ID','LF_NAME','ADDRESS_L','ADDRESS_R','OE_FLAG_L','OE_FLAG_R','LONUML','HINUML','LONUMR','HINUMR','FNODE','TNODE','FCODE','FCODE_DESC','JURIS_CODE','OBJECTID','RID'])\n",
    "df_geo_cycle_tracks = df_geo_cycle_tracks.drop(columns =['Latitude','Longitude','ONE_WAY_DI','DIR_CODE_D','CP_TYPE','geometry', 'index_right','GEO_ID','LFN_ID','LF_NAME','ADDRESS_L','ADDRESS_R','OE_FLAG_L','OE_FLAG_R','LONUML','HINUML','LONUMR','HINUMR','FNODE','TNODE','FCODE','FCODE_DESC','JURIS_CODE','OBJECTID','RID'])\n",
    "df_geo_inf_dirt = df_geo_inf_dirt.drop(columns =['Latitude','Longitude','ONE_WAY_DI','DIR_CODE_D','CP_TYPE','geometry', 'index_right','GEO_ID','LFN_ID','LF_NAME','ADDRESS_L','ADDRESS_R','OE_FLAG_L','OE_FLAG_R','LONUML','HINUML','LONUMR','HINUMR','FNODE','TNODE','FCODE','FCODE_DESC','JURIS_CODE','OBJECTID','RID'])"
   ]
  },
  {
   "cell_type": "code",
   "execution_count": 102,
   "metadata": {},
   "outputs": [],
   "source": [
    "# Merge all bikeway data into a single dataframe\n",
    "df_road_qual = df_geo_major_art.merge(df_geo_minor_art, on = \"TCS #\").merge(df_geo_trail, on = \"TCS #\").merge(df_geo_local, on =\"TCS #\").merge(df_geo_laneway,on=\"TCS #\").merge(df_geo_maj_rail, on = \"TCS #\").merge(df_geo_maj_shore, on = \"TCS #\").merge(df_geo_collector_ramp, on =\"TCS #\").merge(df_geo_walkway, on = \"TCS #\").merge(df_geo_hydro, on = \"TCS #\").merge(df_geo_access, on = \"TCS #\").merge(df_geo_busway, on = \"TCS #\").merge(df_geo_other, on = \"TCS #\").merge(df_geo_expressway, on = \"TCS #\").merge(df_geo_maj_multi, on = \"TCS #\").merge(df_geo_sugg_st, on = \"TCS #\").merge(df_geo_sign, on = \"TCS #\").merge(df_geo_bike_lanes, on = \"TCS #\").merge(df_geo_park_rds, on = \"TCS #\").merge(df_geo_min_multi, on = \"TCS #\").merge(df_geo_quiet, on = \"TCS #\").merge(df_geo_cycle_tracks, on = \"TCS #\").merge(df_geo_inf_dirt, on = \"TCS #\")\n",
    "\n",
    "# Drop duplicate rows\n",
    "df_road_qual = df_road_qual.drop_duplicates()\n",
    "df_road_qual = df_road_qual.drop(columns =['Major Arterial Road', 'Minor Arterial Road', 'Trail', 'Local', 'Laneway', 'Major Rail', 'Major Shore', 'Collector Ramp', 'Walkway', 'Hydro', 'Access', 'Busway', 'Other Ramp', 'Expressway', 'Major Multi Use Pathway', 'Cycle Tracks', 'Minor Multi Use Pathway', 'Park Roads Cycling Conn.', 'Informal Dirt Footpath'])"
   ]
  },
  {
   "cell_type": "markdown",
   "metadata": {},
   "source": [
    "### Merge All Files"
   ]
  },
  {
   "cell_type": "markdown",
   "metadata": {},
   "source": [
    "The process below merges all the data together based on the intsersections Main and Side 1 Route, with the exception of demographic data which is merged based on the ward number. The merged data then fills missing data based on the operations below.  "
   ]
  },
  {
   "cell_type": "code",
   "execution_count": 103,
   "metadata": {},
   "outputs": [],
   "source": [
    "#Set data types for select columns\n",
    "total_population_data['Ward_Num']=total_population_data['Ward_Num'].astype(str)\n",
    "KSI_Merged['Ward_Num']=KSI_Merged['Ward_Num'].astype(str)"
   ]
  },
  {
   "cell_type": "code",
   "execution_count": 104,
   "metadata": {},
   "outputs": [],
   "source": [
    "#Merge data together\n",
    "Merged_Data = pd.merge(street_data, KSI_Merged, how='left', on=['Main', 'Side 1 Route'])\n",
    "Merged_Data = pd.merge(Merged_Data, df_temp_rlc, how='left', on=['Main', 'Side 1 Route'])\n",
    "Merged_Data = pd.merge(Merged_Data, df_temp_BS, how='left', on=['Main', 'Side 1 Route'])\n",
    "Merged_Data = pd.merge(Merged_Data, Pothole_count, how='left', on=['Main', 'Side 1 Route'])\n",
    "Merged_Data = pd.merge(Merged_Data, places_of_interest, how='left', on=['Main', 'Side 1 Route'])\n",
    "Merged_Data = pd.merge(Merged_Data, total_population_data, how='left', on=['Ward_Num', 'Ward_Num'])\n",
    "Merged_Data = pd.merge(Merged_Data, df_geo_merged, how='left', on=['Main', 'Side 1 Route'])\n",
    "Merged_Data = pd.merge(Merged_Data, school_locations, how='left', on=['Main', 'Side 1 Route'])\n",
    "Merged_Data = pd.merge(Merged_Data, df_road_qual, how='left', on=['TCS #', 'TCS #'])\n",
    "Merged_Data.RLC = Merged_Data.RLC.fillna(value='N')\n",
    "Merged_Data.BikeShare = Merged_Data.BikeShare.fillna(value='N')\n",
    "Merged_Data.School_Present = Merged_Data.School_Present.fillna(value='N')\n",
    "Merged_Data.Pothole_Count = Merged_Data.Pothole_Count.fillna(value=0)\n",
    "Merged_Data.Distance_To_PA = Merged_Data.Distance_To_PA.fillna(value=0)\n",
    "Merged_Data.BikeShare_Capacity = Merged_Data.BikeShare_Capacity.fillna(value=0)"
   ]
  },
  {
   "cell_type": "markdown",
   "metadata": {},
   "source": [
    "### Data Overview"
   ]
  },
  {
   "cell_type": "markdown",
   "metadata": {},
   "source": [
    "The data now contains all the necessary features to perform the analysis. The accidents data is filtered for intersection accidents only so the points are discrete and the duplicated records for the same accidents are deleted. Unecessary columns and NaNs will be filtered out is subsequent steps."
   ]
  },
  {
   "cell_type": "code",
   "execution_count": 105,
   "metadata": {},
   "outputs": [
    {
     "name": "stdout",
     "output_type": "stream",
     "text": [
      "<class 'pandas.core.frame.DataFrame'>\n",
      "Int64Index: 11175 entries, 0 to 11174\n",
      "Data columns (total 54 columns):\n",
      "TCS #                          11175 non-null int64\n",
      "Main                           11175 non-null object\n",
      "Midblock Route                 1583 non-null object\n",
      "Side 1 Route                   11175 non-null object\n",
      "Side 2 Route                   2745 non-null object\n",
      "Activation Date                11175 non-null object\n",
      "Latitude                       11175 non-null float64\n",
      "Longitude                      11175 non-null float64\n",
      "Count Date                     11175 non-null datetime64[ns]\n",
      "8 Peak Hr Vehicle Volume       11175 non-null int64\n",
      "8 Peak Hr Pedestrian Volume    11175 non-null int64\n",
      "ACCNUM                         9926 non-null float64\n",
      "YEAR                           9926 non-null float64\n",
      "DATE                           9926 non-null object\n",
      "TIME                           9926 non-null float64\n",
      "Hour                           9926 non-null float64\n",
      "STREET1                        9926 non-null object\n",
      "STREET2                        9926 non-null object\n",
      "OFFSET                         9926 non-null object\n",
      "ROAD_CLASS                     9926 non-null object\n",
      "District                       9926 non-null object\n",
      "LATITUDE                       9926 non-null float64\n",
      "LONGITUDE                      9926 non-null float64\n",
      "LOCCOORD                       9926 non-null object\n",
      "ACCLOC                         9926 non-null object\n",
      "TRAFFCTL                       9926 non-null object\n",
      "VISIBILITY                     9926 non-null object\n",
      "LIGHT                          9926 non-null object\n",
      "RDSFCOND                       9926 non-null object\n",
      "ACCLASS                        9926 non-null object\n",
      "IMPACTYPE                      9926 non-null object\n",
      "INVTYPE                        9926 non-null object\n",
      "INJURY                         9926 non-null object\n",
      "SPEEDING                       9926 non-null object\n",
      "AG_DRIV                        9926 non-null object\n",
      "ALCOHOL                        9926 non-null object\n",
      "Ward_Num                       9926 non-null object\n",
      "Speeding_Incidents             9926 non-null object\n",
      "Agg_Driving_Incidents          9926 non-null object\n",
      "RLC                            11175 non-null object\n",
      "BikeShare_Capacity             11175 non-null float64\n",
      "cross_street                   0 non-null object\n",
      "BikeShare                      11175 non-null object\n",
      "post_code                      0 non-null object\n",
      "Pothole_Count                  11175 non-null float64\n",
      "Distance_To_PA                 11175 non-null float64\n",
      "Avg_Pop_Density                9926 non-null float64\n",
      "Avg_Median_Age                 9926 non-null float64\n",
      "STC_ROUTE                      11175 non-null object\n",
      "School_Present                 11175 non-null object\n",
      "Suggested On Street Routes     11175 non-null object\n",
      "Signed Routes                  11175 non-null object\n",
      "Bike Lanes                     11175 non-null object\n",
      "Quiet Street Cycling Routes    11175 non-null object\n",
      "dtypes: datetime64[ns](1), float64(13), int64(3), object(37)\n",
      "memory usage: 4.7+ MB\n"
     ]
    }
   ],
   "source": [
    "Merged_Data.info()"
   ]
  },
  {
   "cell_type": "code",
   "execution_count": 106,
   "metadata": {},
   "outputs": [],
   "source": [
    "# Getting rid of duplicate accidents, filtering for intersection related accidents\n",
    "Merged_Data = Merged_Data[Merged_Data.ACCNUM.notnull()]\n",
    "Merged_Data = Merged_Data.drop_duplicates(subset=['ACCNUM', 'IMPACTYPE', 'INVTYPE'])\n",
    "Merged_Data = Merged_Data[Merged_Data['LOCCOORD']== 'Intersection']"
   ]
  },
  {
   "cell_type": "code",
   "execution_count": 107,
   "metadata": {},
   "outputs": [],
   "source": [
    "# Setting data types\n",
    "Merged_Data['Pothole_Count'] = Merged_Data['Pothole_Count'].astype('int64')\n",
    "Merged_Data['BikeShare_Capacity'] = Merged_Data['BikeShare_Capacity'].astype('int64')"
   ]
  },
  {
   "cell_type": "markdown",
   "metadata": {},
   "source": [
    "# B. Model Preparation"
   ]
  },
  {
   "cell_type": "markdown",
   "metadata": {},
   "source": [
    "### Classification Preparation"
   ]
  },
  {
   "cell_type": "markdown",
   "metadata": {},
   "source": [
    "The next step of the model development is to go through the feature engineering (FE) process. Select features were engineered directly in the data gathering step above such as TTC streetcars at intersections and normalizing population data into density. The remaining features will be engineered below. \n",
    "The first type of FE involves creating new columns. This includes creating columns such as pedestrians per vehicle traffic, if the accident occured during rush hour, and if it was during the day or night.\n",
    "The second type of FE involves grouping sparse classes. This include grouping similar classes for columns such as road condition (all types of snow covered roads to -> snow) and visivility to clear or reduced. \n",
    "The final type of FE involves one-hot-encoding all categorical variables. This was a necessary step to allow the models from sklearn to run and also to avoid introducing numerical levels to categorical data, which would have had an influence on the results. "
   ]
  },
  {
   "cell_type": "markdown",
   "metadata": {},
   "source": [
    "#### Feature Engineering - New Columns"
   ]
  },
  {
   "cell_type": "code",
   "execution_count": 108,
   "metadata": {},
   "outputs": [],
   "source": [
    "df_model = Merged_Data"
   ]
  },
  {
   "cell_type": "code",
   "execution_count": 109,
   "metadata": {},
   "outputs": [],
   "source": [
    "#Create column with predestrians per car\n",
    "df_model['Pedest_Per_Car'] = df_model['8 Peak Hr Pedestrian Volume']/df_model['8 Peak Hr Vehicle Volume']"
   ]
  },
  {
   "cell_type": "code",
   "execution_count": 110,
   "metadata": {},
   "outputs": [],
   "source": [
    "#Get intersections with places of interest (Distance is based on half block away ~100m)\n",
    "df_model['Place_Of_Interest'] = np.where((df_model['Distance_To_PA'] < 0.1) &  (df_model['Distance_To_PA'] !=0), 'Y', 'N')"
   ]
  },
  {
   "cell_type": "code",
   "execution_count": 111,
   "metadata": {},
   "outputs": [],
   "source": [
    "#Drop columns that are not needed\n",
    "df_model = df_model.drop(columns=['Midblock Route','Side 2 Route','Activation Date','Latitude', 'Longitude', 'Count Date', 'ACCNUM', 'YEAR', 'STREET1','STREET2','OFFSET','District','LATITUDE','LONGITUDE','LOCCOORD', 'ACCLOC','INVTYPE','cross_street', 'Distance_To_PA'])"
   ]
  },
  {
   "cell_type": "code",
   "execution_count": 112,
   "metadata": {},
   "outputs": [],
   "source": [
    "#Get month from DATE column and create Month column\n",
    "df_model['Month'] = df_model['DATE'].astype(str).str[5:7]\n",
    "df_model['Month'] = df_model['Month'].astype('int64')"
   ]
  },
  {
   "cell_type": "code",
   "execution_count": 113,
   "metadata": {},
   "outputs": [],
   "source": [
    "#Get season from Month and create Season column **Season is a driving season based on Ontario weather, not actual seasons\n",
    "df_model['Season'] = np.where((df_model['Month'].isin([4,5])) , 'Spring', np.nan)\n",
    "df_model['Season'] = np.where((df_model['Month'].isin([6,7,8])), 'Summer', df_model['Season'])\n",
    "df_model['Season'] = np.where((df_model['Month'].isin([9,10,11])), 'Fall', df_model['Season'])\n",
    "df_model['Season'] = np.where((df_model['Month'].isin([1,2,3,12])), 'Winter', df_model['Season'])"
   ]
  },
  {
   "cell_type": "code",
   "execution_count": 114,
   "metadata": {},
   "outputs": [],
   "source": [
    "#Convert DATE to actual DateTime type\n",
    "df_model['DATE_CLEANED'] = df_model['DATE'].astype(str).str[0:10]\n",
    "df_model['DATE_CLEANED'] = pd.to_datetime(df_model['DATE_CLEANED'], format='%Y-%m-%d', errors='coerce')"
   ]
  },
  {
   "cell_type": "code",
   "execution_count": 115,
   "metadata": {},
   "outputs": [],
   "source": [
    "#Use DATE_CLEANED to get day of the week\n",
    "df_model['DAY_OF_WEEK'] = df_model['DATE_CLEANED'].dt.weekday_name\n",
    "df_model['WEEKDAY'] = np.where((df_model['DAY_OF_WEEK'].isin(['Monday','Tuesday','Wednesday','Thursday','Friday'])) , 'WeekDay', 'Weekend')"
   ]
  },
  {
   "cell_type": "code",
   "execution_count": 116,
   "metadata": {},
   "outputs": [],
   "source": [
    "#Set Hour column to int type\n",
    "df_model['Hour'] = df_model['Hour'].astype('int64')"
   ]
  },
  {
   "cell_type": "code",
   "execution_count": 117,
   "metadata": {},
   "outputs": [],
   "source": [
    "#Create Traffic Intensity Column (Rush Hour or Normal)\n",
    "df_model['Traffic_Intensity'] = np.where((df_model['Hour'].isin([8,9,15,16,17])) & (df_model['WEEKDAY'].isin(['WeekDay'])), 'Rush_Hour', 'Normal')"
   ]
  },
  {
   "cell_type": "code",
   "execution_count": 118,
   "metadata": {},
   "outputs": [],
   "source": [
    "#Create Column for Night and Day\n",
    "df_model['Day_Night'] = np.where((df_model['Hour'].isin([8,9,10,11,12,13,14,15,16,17,18,19])) , 'Day', 'Night')"
   ]
  },
  {
   "cell_type": "markdown",
   "metadata": {},
   "source": [
    "#### Feature Engineering - Sparse Class Grouping"
   ]
  },
  {
   "cell_type": "code",
   "execution_count": 119,
   "metadata": {},
   "outputs": [],
   "source": [
    "#Reduce LIGHT column to High or Low light situations - based on domain problem\n",
    "df_model.LIGHT = df_model.LIGHT.replace(['Dark','Dusk, artificial', 'Dark, artificial', 'Dusk','Dawn', 'Dawn, artificial'], \"LOW\")\n",
    "df_model.LIGHT = df_model.LIGHT.replace(['Daylight, artificial','Daylight'], \"HIGH\")"
   ]
  },
  {
   "cell_type": "code",
   "execution_count": 120,
   "metadata": {},
   "outputs": [],
   "source": [
    "#Reduce Road Surface Condition column to Dry, Wet, Snow - based on domain problem\n",
    "df_model.RDSFCOND = df_model.RDSFCOND.replace(['Ice', 'Loose Snow', 'Other', 'Slush','Packed Snow'], \"Snow\")"
   ]
  },
  {
   "cell_type": "code",
   "execution_count": 121,
   "metadata": {},
   "outputs": [],
   "source": [
    "#Reduce Traffic Control Condition column to No Control, Traffic Signal, Traffic Sign, Traffic Person - based on domain problem\n",
    "df_model.TRAFFCTL = df_model.TRAFFCTL.replace(['Traffic Controller','Police Control','School Guard'], \"Traffic Person\")\n",
    "df_model.TRAFFCTL = df_model.TRAFFCTL.replace(['Streetcar (Stop for)', 'Stop Sign','Yield Sign', 'Pedestrian Crossover'], \"Traffic Sign\")\n",
    "df_model.TRAFFCTL = df_model.TRAFFCTL.replace(['Traffic Signal',' '], \"Traffic Signal\")"
   ]
  },
  {
   "cell_type": "code",
   "execution_count": 122,
   "metadata": {},
   "outputs": [],
   "source": [
    "#Reduce Visibility column to Clear or Reduced - based on domain problem\n",
    "df_model.VISIBILITY = df_model.VISIBILITY.replace(['Clear', 'Strong wind'], \"Clear\")\n",
    "df_model.VISIBILITY = df_model.VISIBILITY.replace(['Fog, Mist, Smoke, Dust', 'Snow', 'Other',\n",
    "       'Freezing Rain', 'Rain'], \"Reduced\")"
   ]
  },
  {
   "cell_type": "code",
   "execution_count": 123,
   "metadata": {},
   "outputs": [],
   "source": [
    "#Reduce Road Class column to Major or Minor - based on domain problem\n",
    "df_model.ROAD_CLASS = df_model.ROAD_CLASS.replace(['Collector', 'Expressway Ramp','Expressway', 'Major Arterial'], \"Major\")\n",
    "df_model.ROAD_CLASS = df_model.ROAD_CLASS.replace(['Local', 'Minor Arterial'], \"Minor\")"
   ]
  },
  {
   "cell_type": "code",
   "execution_count": 124,
   "metadata": {},
   "outputs": [],
   "source": [
    "df_model = df_model.drop(columns=['TCS #','DATE','Hour','Month','BikeShare_Capacity','TIME','post_code','DATE_CLEANED'])"
   ]
  },
  {
   "cell_type": "code",
   "execution_count": 125,
   "metadata": {},
   "outputs": [],
   "source": [
    "#Create Binary target class - Severe (Fatal) or Not Severe (Non Fatal) depending fatalities\n",
    "df_model['Accident_Severity'] =  np.where(((df_model['ACCLASS'] == 'Fatal') ), 'Severe', 'Non Severe')"
   ]
  },
  {
   "cell_type": "code",
   "execution_count": 126,
   "metadata": {},
   "outputs": [],
   "source": [
    "df_model = df_model.drop(columns=['ACCLASS','INJURY','IMPACTYPE','SPEEDING','AG_DRIV','ALCOHOL','DAY_OF_WEEK','Ward_Num'])"
   ]
  },
  {
   "cell_type": "markdown",
   "metadata": {},
   "source": [
    "#### Feature Engineering - One Hot Encoding Categorical Data"
   ]
  },
  {
   "cell_type": "code",
   "execution_count": 127,
   "metadata": {},
   "outputs": [],
   "source": [
    "#One hot encode all categorical features\n",
    "df_model = pd.concat([df_model.drop('TRAFFCTL', axis=1), pd.get_dummies(df_model['TRAFFCTL'])], axis=1)\n",
    "df_model = pd.concat([df_model.drop('Day_Night', axis=1), pd.get_dummies(df_model['Day_Night'])], axis=1)\n",
    "df_model = pd.concat([df_model.drop('Traffic_Intensity', axis=1), pd.get_dummies(df_model['Traffic_Intensity'], prefix='Traffic_Intensity')], axis=1)\n",
    "df_model = pd.concat([df_model.drop('Season', axis=1), pd.get_dummies(df_model['Season'], prefix='Season')], axis=1)\n",
    "df_model = pd.concat([df_model.drop('BikeShare', axis=1), pd.get_dummies(df_model['BikeShare'], prefix='BikeShare')], axis=1)\n",
    "df_model = pd.concat([df_model.drop('RLC', axis=1), pd.get_dummies(df_model['RLC'], prefix='RLC')], axis=1)\n",
    "df_model = pd.concat([df_model.drop('Agg_Driving_Incidents', axis=1), pd.get_dummies(df_model['Agg_Driving_Incidents'], prefix='Agg_Driving_Incidents')], axis=1)\n",
    "df_model = pd.concat([df_model.drop('Speeding_Incidents', axis=1), pd.get_dummies(df_model['Speeding_Incidents'], prefix='Speeding_Incidents')], axis=1)\n",
    "df_model = pd.concat([df_model.drop('RDSFCOND', axis=1), pd.get_dummies(df_model['RDSFCOND'], prefix='RDSFCOND')], axis=1)\n",
    "df_model = pd.concat([df_model.drop('LIGHT', axis=1), pd.get_dummies(df_model['LIGHT'], prefix='LIGHT')], axis=1)\n",
    "df_model = pd.concat([df_model.drop('VISIBILITY', axis=1), pd.get_dummies(df_model['VISIBILITY'], prefix='VISIBILITY')], axis=1)\n",
    "df_model = pd.concat([df_model.drop('ROAD_CLASS', axis=1), pd.get_dummies(df_model['ROAD_CLASS'], prefix='ROAD_CLASS')], axis=1)\n",
    "df_model = pd.concat([df_model.drop('WEEKDAY', axis=1), pd.get_dummies(df_model['WEEKDAY'], prefix='WEEKDAY')], axis=1)\n",
    "df_model = pd.concat([df_model.drop('Place_Of_Interest', axis=1), pd.get_dummies(df_model['Place_Of_Interest'], prefix='Place_Of_Interest')], axis=1)\n",
    "df_model = pd.concat([df_model.drop('STC_ROUTE', axis=1), pd.get_dummies(df_model['STC_ROUTE'], prefix='STC_ROUTE')], axis=1)\n",
    "df_model = pd.concat([df_model.drop('School_Present', axis=1), pd.get_dummies(df_model['School_Present'], prefix='School_Present')], axis=1)\n",
    "df_model = pd.concat([df_model.drop('Suggested On Street Routes', axis=1), pd.get_dummies(df_model['Suggested On Street Routes'], prefix='Suggested On Street Routes')], axis=1)\n",
    "df_model = pd.concat([df_model.drop('Signed Routes', axis=1), pd.get_dummies(df_model['Signed Routes'], prefix='Signed Routes')], axis=1)\n",
    "df_model = pd.concat([df_model.drop('Bike Lanes', axis=1), pd.get_dummies(df_model['Bike Lanes'], prefix='Bike Lanes')], axis=1)\n",
    "df_model = pd.concat([df_model.drop('Quiet Street Cycling Routes', axis=1), pd.get_dummies(df_model['Quiet Street Cycling Routes'], prefix='Quiet Street Cycling Routes')], axis=1)"
   ]
  },
  {
   "cell_type": "code",
   "execution_count": 128,
   "metadata": {},
   "outputs": [],
   "source": [
    "#Drop redundant hot encoded features\n",
    "df_model = df_model.drop(columns =['Night', 'Traffic_Intensity_Normal', 'RLC_N', 'Agg_Driving_Incidents_N', \n",
    "                                   'Speeding_Incidents_N', 'LIGHT_HIGH', 'VISIBILITY_Clear', 'ROAD_CLASS_Major', 'WEEKDAY_Weekend',\n",
    "                                   'Place_Of_Interest_N', 'STC_ROUTE_N', 'School_Present_N', 'Suggested On Street Routes_N', \n",
    "                                   'Signed Routes_N', 'Bike Lanes_N', 'Quiet Street Cycling Routes_N', 'BikeShare_N'])"
   ]
  },
  {
   "cell_type": "code",
   "execution_count": 129,
   "metadata": {},
   "outputs": [],
   "source": [
    "df_model = df_model.drop_duplicates()"
   ]
  },
  {
   "cell_type": "markdown",
   "metadata": {},
   "source": [
    "### Regression Preparation"
   ]
  },
  {
   "cell_type": "markdown",
   "metadata": {},
   "source": [
    "\n",
    "It is important to mention tha regression model to predict number of accidents led to inconclusive results; therefore, the bussiness report and presentation only focus on the first model: classifying if an accident will be fatal or non-fatal by intersection.\n",
    "\n",
    "Additional preparation must be done for the regression model. As the model is predicting total accident counts at a given intersection, some specific details for individual accidents will have to be filtered out. These include features such as light level, visibility, and road condition.\n",
    "Other features such as season and day/night are also filtered out. However, as an extension of the model - a user could leave these features in to predict accident counts for each season or for both daytime and nighttime conditions. "
   ]
  },
  {
   "cell_type": "code",
   "execution_count": 130,
   "metadata": {},
   "outputs": [],
   "source": [
    "df_regress_model = df_model"
   ]
  },
  {
   "cell_type": "code",
   "execution_count": 131,
   "metadata": {},
   "outputs": [],
   "source": [
    "df_regress_model = df_regress_model.drop(columns=['Day', \n",
    "                                                  'Traffic_Intensity_Rush_Hour', 'Season_Fall','Season_Spring', 'Season_Summer',\n",
    "                                                 'Season_Winter', 'RDSFCOND_Dry',\n",
    "                                                 'RDSFCOND_Snow','RDSFCOND_Wet', 'LIGHT_LOW', \n",
    "                                                  'VISIBILITY_Reduced','Accident_Severity'])"
   ]
  },
  {
   "cell_type": "code",
   "execution_count": 132,
   "metadata": {},
   "outputs": [],
   "source": [
    "df_regress_model['Accident_Counts'] = 1"
   ]
  },
  {
   "cell_type": "code",
   "execution_count": 133,
   "metadata": {},
   "outputs": [],
   "source": [
    "df_regress_model = df_regress_model.groupby(['Main', 'Side 1 Route','Pothole_Count','No Control', 'Traffic Person', 'Traffic Sign','Traffic Signal','8 Peak Hr Pedestrian Volume','8 Peak Hr Vehicle Volume', 'RLC_Y','ROAD_CLASS_Minor','Place_Of_Interest_Y', 'Pedest_Per_Car', 'STC_ROUTE_Y', 'School_Present_Y', 'Suggested On Street Routes_Y', 'Signed Routes_Y', 'Bike Lanes_Y', 'Quiet Street Cycling Routes_Y'])[\"Accident_Counts\"].apply(lambda x : x.astype(int).sum()).reset_index()\n",
    "df_accidents = df_regress_model.drop(columns=['Pothole_Count', '8 Peak Hr Vehicle Volume','8 Peak Hr Pedestrian Volume','Pedest_Per_Car', 'RLC_Y','ROAD_CLASS_Minor', 'No Control','Traffic Person','Traffic Sign','Traffic Sign','Traffic Signal','Place_Of_Interest_Y', 'STC_ROUTE_Y', 'School_Present_Y', 'Suggested On Street Routes_Y','Signed Routes_Y', 'Bike Lanes_Y', 'Quiet Street Cycling Routes_Y'])\n",
    "df_model = pd.merge(df_model, df_accidents, how='left', on=['Main', 'Side 1 Route'])"
   ]
  },
  {
   "cell_type": "markdown",
   "metadata": {},
   "source": [
    "# C. Exploratory Analysis"
   ]
  },
  {
   "cell_type": "markdown",
   "metadata": {},
   "source": [
    "### Accident Severity\n",
    "\n",
    "The below exploratory analysis present a broad idea of the dataset and features that are considered for this project"
   ]
  },
  {
   "cell_type": "code",
   "execution_count": 134,
   "metadata": {},
   "outputs": [],
   "source": [
    "# Save the data frame in a different data frame to explore the dataset. \n",
    "#df_explore_sev will be only used for the exploratory analysis .\n",
    "df_explore_sev = df_model"
   ]
  },
  {
   "cell_type": "code",
   "execution_count": 135,
   "metadata": {},
   "outputs": [
    {
     "data": {
      "text/plain": [
       "(1954, 38)"
      ]
     },
     "execution_count": 135,
     "metadata": {},
     "output_type": "execute_result"
    }
   ],
   "source": [
    "# Printing the number of columns and rows that our dataset has.\n",
    "# 1954 entries and 35 features and 1 target variable\n",
    "df_explore_sev.shape"
   ]
  },
  {
   "cell_type": "code",
   "execution_count": 136,
   "metadata": {
    "scrolled": true
   },
   "outputs": [
    {
     "data": {
      "text/html": [
       "<div>\n",
       "<style scoped>\n",
       "    .dataframe tbody tr th:only-of-type {\n",
       "        vertical-align: middle;\n",
       "    }\n",
       "\n",
       "    .dataframe tbody tr th {\n",
       "        vertical-align: top;\n",
       "    }\n",
       "\n",
       "    .dataframe thead th {\n",
       "        text-align: right;\n",
       "    }\n",
       "</style>\n",
       "<table border=\"1\" class=\"dataframe\">\n",
       "  <thead>\n",
       "    <tr style=\"text-align: right;\">\n",
       "      <th></th>\n",
       "      <th>Main</th>\n",
       "      <th>Side 1 Route</th>\n",
       "      <th>8 Peak Hr Vehicle Volume</th>\n",
       "      <th>8 Peak Hr Pedestrian Volume</th>\n",
       "      <th>Pothole_Count</th>\n",
       "      <th>Avg_Pop_Density</th>\n",
       "      <th>Avg_Median_Age</th>\n",
       "      <th>Pedest_Per_Car</th>\n",
       "      <th>Accident_Severity</th>\n",
       "      <th>No Control</th>\n",
       "      <th>...</th>\n",
       "      <th>ROAD_CLASS_Minor</th>\n",
       "      <th>WEEKDAY_WeekDay</th>\n",
       "      <th>Place_Of_Interest_Y</th>\n",
       "      <th>STC_ROUTE_Y</th>\n",
       "      <th>School_Present_Y</th>\n",
       "      <th>Suggested On Street Routes_Y</th>\n",
       "      <th>Signed Routes_Y</th>\n",
       "      <th>Bike Lanes_Y</th>\n",
       "      <th>Quiet Street Cycling Routes_Y</th>\n",
       "      <th>Accident_Counts</th>\n",
       "    </tr>\n",
       "  </thead>\n",
       "  <tbody>\n",
       "    <tr>\n",
       "      <th>0</th>\n",
       "      <td>JARVIS ST</td>\n",
       "      <td>ADELAIDE ST E</td>\n",
       "      <td>17770</td>\n",
       "      <td>7083</td>\n",
       "      <td>3</td>\n",
       "      <td>7345.999347</td>\n",
       "      <td>36.766667</td>\n",
       "      <td>0.398593</td>\n",
       "      <td>Non Severe</td>\n",
       "      <td>0</td>\n",
       "      <td>...</td>\n",
       "      <td>0</td>\n",
       "      <td>0</td>\n",
       "      <td>0</td>\n",
       "      <td>0</td>\n",
       "      <td>0</td>\n",
       "      <td>0</td>\n",
       "      <td>0</td>\n",
       "      <td>0</td>\n",
       "      <td>0</td>\n",
       "      <td>1</td>\n",
       "    </tr>\n",
       "    <tr>\n",
       "      <th>1</th>\n",
       "      <td>JARVIS ST</td>\n",
       "      <td>RICHMOND ST E</td>\n",
       "      <td>19678</td>\n",
       "      <td>4369</td>\n",
       "      <td>0</td>\n",
       "      <td>7345.999347</td>\n",
       "      <td>36.766667</td>\n",
       "      <td>0.222025</td>\n",
       "      <td>Non Severe</td>\n",
       "      <td>0</td>\n",
       "      <td>...</td>\n",
       "      <td>0</td>\n",
       "      <td>0</td>\n",
       "      <td>0</td>\n",
       "      <td>0</td>\n",
       "      <td>0</td>\n",
       "      <td>0</td>\n",
       "      <td>0</td>\n",
       "      <td>0</td>\n",
       "      <td>0</td>\n",
       "      <td>1</td>\n",
       "    </tr>\n",
       "    <tr>\n",
       "      <th>2</th>\n",
       "      <td>JARVIS ST</td>\n",
       "      <td>QUEEN ST E</td>\n",
       "      <td>14487</td>\n",
       "      <td>3368</td>\n",
       "      <td>0</td>\n",
       "      <td>9541.016175</td>\n",
       "      <td>36.266667</td>\n",
       "      <td>0.232484</td>\n",
       "      <td>Non Severe</td>\n",
       "      <td>0</td>\n",
       "      <td>...</td>\n",
       "      <td>0</td>\n",
       "      <td>1</td>\n",
       "      <td>0</td>\n",
       "      <td>1</td>\n",
       "      <td>0</td>\n",
       "      <td>0</td>\n",
       "      <td>0</td>\n",
       "      <td>0</td>\n",
       "      <td>0</td>\n",
       "      <td>2</td>\n",
       "    </tr>\n",
       "    <tr>\n",
       "      <th>3</th>\n",
       "      <td>JARVIS ST</td>\n",
       "      <td>QUEEN ST E</td>\n",
       "      <td>14487</td>\n",
       "      <td>3368</td>\n",
       "      <td>0</td>\n",
       "      <td>7345.999347</td>\n",
       "      <td>36.766667</td>\n",
       "      <td>0.232484</td>\n",
       "      <td>Severe</td>\n",
       "      <td>0</td>\n",
       "      <td>...</td>\n",
       "      <td>0</td>\n",
       "      <td>1</td>\n",
       "      <td>0</td>\n",
       "      <td>1</td>\n",
       "      <td>0</td>\n",
       "      <td>0</td>\n",
       "      <td>0</td>\n",
       "      <td>0</td>\n",
       "      <td>0</td>\n",
       "      <td>2</td>\n",
       "    </tr>\n",
       "    <tr>\n",
       "      <th>4</th>\n",
       "      <td>JARVIS ST</td>\n",
       "      <td>DUNDAS ST E</td>\n",
       "      <td>17835</td>\n",
       "      <td>5858</td>\n",
       "      <td>0</td>\n",
       "      <td>9541.016175</td>\n",
       "      <td>36.266667</td>\n",
       "      <td>0.328455</td>\n",
       "      <td>Non Severe</td>\n",
       "      <td>1</td>\n",
       "      <td>...</td>\n",
       "      <td>0</td>\n",
       "      <td>1</td>\n",
       "      <td>0</td>\n",
       "      <td>0</td>\n",
       "      <td>0</td>\n",
       "      <td>0</td>\n",
       "      <td>0</td>\n",
       "      <td>0</td>\n",
       "      <td>0</td>\n",
       "      <td>2</td>\n",
       "    </tr>\n",
       "  </tbody>\n",
       "</table>\n",
       "<p>5 rows × 38 columns</p>\n",
       "</div>"
      ],
      "text/plain": [
       "        Main   Side 1 Route  8 Peak Hr Vehicle Volume  \\\n",
       "0  JARVIS ST  ADELAIDE ST E                     17770   \n",
       "1  JARVIS ST  RICHMOND ST E                     19678   \n",
       "2  JARVIS ST     QUEEN ST E                     14487   \n",
       "3  JARVIS ST     QUEEN ST E                     14487   \n",
       "4  JARVIS ST    DUNDAS ST E                     17835   \n",
       "\n",
       "   8 Peak Hr Pedestrian Volume  Pothole_Count  Avg_Pop_Density  \\\n",
       "0                         7083              3      7345.999347   \n",
       "1                         4369              0      7345.999347   \n",
       "2                         3368              0      9541.016175   \n",
       "3                         3368              0      7345.999347   \n",
       "4                         5858              0      9541.016175   \n",
       "\n",
       "   Avg_Median_Age  Pedest_Per_Car Accident_Severity  No Control  \\\n",
       "0       36.766667        0.398593        Non Severe           0   \n",
       "1       36.766667        0.222025        Non Severe           0   \n",
       "2       36.266667        0.232484        Non Severe           0   \n",
       "3       36.766667        0.232484            Severe           0   \n",
       "4       36.266667        0.328455        Non Severe           1   \n",
       "\n",
       "        ...         ROAD_CLASS_Minor  WEEKDAY_WeekDay  Place_Of_Interest_Y  \\\n",
       "0       ...                        0                0                    0   \n",
       "1       ...                        0                0                    0   \n",
       "2       ...                        0                1                    0   \n",
       "3       ...                        0                1                    0   \n",
       "4       ...                        0                1                    0   \n",
       "\n",
       "   STC_ROUTE_Y  School_Present_Y  Suggested On Street Routes_Y  \\\n",
       "0            0                 0                             0   \n",
       "1            0                 0                             0   \n",
       "2            1                 0                             0   \n",
       "3            1                 0                             0   \n",
       "4            0                 0                             0   \n",
       "\n",
       "   Signed Routes_Y  Bike Lanes_Y  Quiet Street Cycling Routes_Y  \\\n",
       "0                0             0                              0   \n",
       "1                0             0                              0   \n",
       "2                0             0                              0   \n",
       "3                0             0                              0   \n",
       "4                0             0                              0   \n",
       "\n",
       "   Accident_Counts  \n",
       "0                1  \n",
       "1                1  \n",
       "2                2  \n",
       "3                2  \n",
       "4                2  \n",
       "\n",
       "[5 rows x 38 columns]"
      ]
     },
     "execution_count": 136,
     "metadata": {},
     "output_type": "execute_result"
    }
   ],
   "source": [
    "# Reset the number of inxed in the data frame and print the dataset\n",
    "df_explore_sev = df_explore_sev.reset_index(level=0, drop=True)\n",
    "df_explore_sev.head()"
   ]
  },
  {
   "cell_type": "markdown",
   "metadata": {},
   "source": [
    "The data frame above presents the following variables.\n",
    "\n",
    "1.\tMain: main street\n",
    "2.\tSide 1 Route: cross street\n",
    "3.\t8 Peak Hr Vehicle Volume: the number of vehicle by intersection during 8hrs\n",
    "4.\t8 Peak Hr Pedestrian Volume: the number of pedestrian by intersection during 8hrs\n",
    "5.\tPothole_Count: number of pothole around each intersection \n",
    "6.\tAvg_Pop_Density: average Population Density by ward (44 Ward Model)\n",
    "7.\tAvg_Median_Age: median age by ward (44 Ward Model)\n",
    "8.\tPedest_Per_Car: number of pesdetrians by vehicle\n",
    "9.\tAccident_Severity: it is our target variable and represents severity of accidents, severe = fatal accident and non severe = non fatal accident\n",
    "10.\tNo Control: 0 = intersection has no traficc control (such as traffic signal) and 1 = intersection has at least one type of control\n",
    "11.\tTraffic Person: (Feature Engineering) 1 = Police directing traffic 0 = No Police directing traffic \n",
    "12.\tTraffic Sign: 1 = there is a stop and yield sign, 0 = there is no stop and yield sign\n",
    "13.\tTraffic Signal: 1= there is a trafic light, 0 = there is no traffic light\n",
    "14.\tDay: 1 = day time, 0 = night time\n",
    "15.\tTraffic_Intensity_Rush_Hours: 1 = during rush hour, 0 = no during rush hour\n",
    "16.\tSeason_Fall: 1= accidents during Fall, 0 = another season\n",
    "17.\tSeason_Spring: 1= accidents during Spring, 0 = another season\n",
    "18.\tSeason_Summer: 1= accidents during Summer, 0 = another season\n",
    "19.\tSeason_Winter: 1= accidents during Winter, 0 = another season\n",
    "20.\tBikeShare_Y: 1 = bike share present around the intersection, 0 = bike share is not present around the the intersection\n",
    "21.\tRLC_Y: 1= Redlight camera present at the intersection, 0 =  Redlight camera is not present at the intersection\n",
    "22.\tAgg_Driving_Incident: 1= aggressive driving involved, 0 = aggressive driving is not involved  \n",
    "23.\tSpeeding_Incidents_Y: 1= accident caused by speeding, 0 = accident was not caused by speeding\n",
    "24.\tRDSFCOND_Dry: 1 =  Dry Road surface condition, 0 = other type of road surface condition\n",
    "25.\tRDSFCOND_Snow: 1 = Snow Road surface condition, 0 = other type of road surface condition\n",
    "26.\tRDSFCOND_Wet:  1 =  Wet Road surface condition, 0 = other type of road surface condition\n",
    "27.\tLIGHT_LOW: 1= Low light, 0 = high light\n",
    "28.\tVISIBILITY_Reduced: 1 = reduced visibility, 0= good visibility\n",
    "29.\tROAD_CLASS_Minor: 1 minor road, 0 = is not a minor road\n",
    "30.\tWEEKDAY_WeekDay: 1 = weekday, 0 = weekend\n",
    "31.\tSTC_ROUTE_Y: 1= there is a Street Car Route by the the intersection, 0 = there is not a street car route by the the intersection \n",
    "32.\tSchool_Present_Y: 1 = if there is a school around the intersection, 0 = if there is not a school around the intersection\n",
    "33.\tSuggested On Street: 1 = suggested on street bike route, 1 = no suggested on street bike route\n",
    "34.\tSigned Routes_Y: 1 = signed bike route, 0 = no signed bike route\n",
    "35.\tBike Lanes_Y: 1 if there is a bike line at the intersection and 0 if there is not a bike line at the intersection\n",
    "36.\tQuiet Street Cycling: 1 = quiet street route, 0 = non-quiet street route"
   ]
  },
  {
   "cell_type": "code",
   "execution_count": 137,
   "metadata": {},
   "outputs": [
    {
     "name": "stdout",
     "output_type": "stream",
     "text": [
      "<class 'pandas.core.frame.DataFrame'>\n",
      "RangeIndex: 1954 entries, 0 to 1953\n",
      "Data columns (total 38 columns):\n",
      "Main                             1954 non-null object\n",
      "Side 1 Route                     1954 non-null object\n",
      "8 Peak Hr Vehicle Volume         1954 non-null int64\n",
      "8 Peak Hr Pedestrian Volume      1954 non-null int64\n",
      "Pothole_Count                    1954 non-null int64\n",
      "Avg_Pop_Density                  1954 non-null float64\n",
      "Avg_Median_Age                   1954 non-null float64\n",
      "Pedest_Per_Car                   1954 non-null float64\n",
      "Accident_Severity                1954 non-null object\n",
      "No Control                       1954 non-null uint8\n",
      "Traffic Person                   1954 non-null uint8\n",
      "Traffic Sign                     1954 non-null uint8\n",
      "Traffic Signal                   1954 non-null uint8\n",
      "Day                              1954 non-null uint8\n",
      "Traffic_Intensity_Rush_Hour      1954 non-null uint8\n",
      "Season_Fall                      1954 non-null uint8\n",
      "Season_Spring                    1954 non-null uint8\n",
      "Season_Summer                    1954 non-null uint8\n",
      "Season_Winter                    1954 non-null uint8\n",
      "BikeShare_Y                      1954 non-null uint8\n",
      "RLC_Y                            1954 non-null uint8\n",
      "Agg_Driving_Incidents_Y          1954 non-null uint8\n",
      "Speeding_Incidents_Y             1954 non-null uint8\n",
      "RDSFCOND_Dry                     1954 non-null uint8\n",
      "RDSFCOND_Snow                    1954 non-null uint8\n",
      "RDSFCOND_Wet                     1954 non-null uint8\n",
      "LIGHT_LOW                        1954 non-null uint8\n",
      "VISIBILITY_Reduced               1954 non-null uint8\n",
      "ROAD_CLASS_Minor                 1954 non-null uint8\n",
      "WEEKDAY_WeekDay                  1954 non-null uint8\n",
      "Place_Of_Interest_Y              1954 non-null uint8\n",
      "STC_ROUTE_Y                      1954 non-null uint8\n",
      "School_Present_Y                 1954 non-null uint8\n",
      "Suggested On Street Routes_Y     1954 non-null uint8\n",
      "Signed Routes_Y                  1954 non-null uint8\n",
      "Bike Lanes_Y                     1954 non-null uint8\n",
      "Quiet Street Cycling Routes_Y    1954 non-null uint8\n",
      "Accident_Counts                  1954 non-null int64\n",
      "dtypes: float64(3), int64(4), object(3), uint8(28)\n",
      "memory usage: 206.2+ KB\n"
     ]
    }
   ],
   "source": [
    "# Type of each variable\n",
    "df_explore_sev.info()"
   ]
  },
  {
   "cell_type": "code",
   "execution_count": 138,
   "metadata": {
    "scrolled": true
   },
   "outputs": [
    {
     "data": {
      "text/html": [
       "<div>\n",
       "<style scoped>\n",
       "    .dataframe tbody tr th:only-of-type {\n",
       "        vertical-align: middle;\n",
       "    }\n",
       "\n",
       "    .dataframe tbody tr th {\n",
       "        vertical-align: top;\n",
       "    }\n",
       "\n",
       "    .dataframe thead th {\n",
       "        text-align: right;\n",
       "    }\n",
       "</style>\n",
       "<table border=\"1\" class=\"dataframe\">\n",
       "  <thead>\n",
       "    <tr style=\"text-align: right;\">\n",
       "      <th></th>\n",
       "      <th>8 Peak Hr Vehicle Volume</th>\n",
       "      <th>8 Peak Hr Pedestrian Volume</th>\n",
       "      <th>Pothole_Count</th>\n",
       "      <th>Avg_Pop_Density</th>\n",
       "      <th>Avg_Median_Age</th>\n",
       "      <th>Pedest_Per_Car</th>\n",
       "      <th>No Control</th>\n",
       "      <th>Traffic Person</th>\n",
       "      <th>Traffic Sign</th>\n",
       "      <th>Traffic Signal</th>\n",
       "      <th>...</th>\n",
       "      <th>ROAD_CLASS_Minor</th>\n",
       "      <th>WEEKDAY_WeekDay</th>\n",
       "      <th>Place_Of_Interest_Y</th>\n",
       "      <th>STC_ROUTE_Y</th>\n",
       "      <th>School_Present_Y</th>\n",
       "      <th>Suggested On Street Routes_Y</th>\n",
       "      <th>Signed Routes_Y</th>\n",
       "      <th>Bike Lanes_Y</th>\n",
       "      <th>Quiet Street Cycling Routes_Y</th>\n",
       "      <th>Accident_Counts</th>\n",
       "    </tr>\n",
       "  </thead>\n",
       "  <tbody>\n",
       "    <tr>\n",
       "      <th>count</th>\n",
       "      <td>1954.000000</td>\n",
       "      <td>1954.000000</td>\n",
       "      <td>1954.000000</td>\n",
       "      <td>1954.000000</td>\n",
       "      <td>1954.000000</td>\n",
       "      <td>1954.000000</td>\n",
       "      <td>1954.000000</td>\n",
       "      <td>1954.000000</td>\n",
       "      <td>1954.000000</td>\n",
       "      <td>1954.000000</td>\n",
       "      <td>...</td>\n",
       "      <td>1954.000000</td>\n",
       "      <td>1954.000000</td>\n",
       "      <td>1954.000000</td>\n",
       "      <td>1954.000000</td>\n",
       "      <td>1954.000000</td>\n",
       "      <td>1954.000000</td>\n",
       "      <td>1954.000000</td>\n",
       "      <td>1954.000000</td>\n",
       "      <td>1954.000000</td>\n",
       "      <td>1954.000000</td>\n",
       "    </tr>\n",
       "    <tr>\n",
       "      <th>mean</th>\n",
       "      <td>19139.782497</td>\n",
       "      <td>2916.789150</td>\n",
       "      <td>0.659672</td>\n",
       "      <td>5490.507760</td>\n",
       "      <td>38.215319</td>\n",
       "      <td>0.199355</td>\n",
       "      <td>0.106448</td>\n",
       "      <td>0.017912</td>\n",
       "      <td>0.010235</td>\n",
       "      <td>0.865404</td>\n",
       "      <td>...</td>\n",
       "      <td>0.167861</td>\n",
       "      <td>0.745650</td>\n",
       "      <td>0.029171</td>\n",
       "      <td>0.161208</td>\n",
       "      <td>0.144831</td>\n",
       "      <td>0.032753</td>\n",
       "      <td>0.037359</td>\n",
       "      <td>0.148414</td>\n",
       "      <td>0.019959</td>\n",
       "      <td>1.937052</td>\n",
       "    </tr>\n",
       "    <tr>\n",
       "      <th>std</th>\n",
       "      <td>8227.940392</td>\n",
       "      <td>4561.327863</td>\n",
       "      <td>1.242423</td>\n",
       "      <td>2593.684245</td>\n",
       "      <td>2.946921</td>\n",
       "      <td>0.390196</td>\n",
       "      <td>0.308489</td>\n",
       "      <td>0.132666</td>\n",
       "      <td>0.100677</td>\n",
       "      <td>0.341379</td>\n",
       "      <td>...</td>\n",
       "      <td>0.373838</td>\n",
       "      <td>0.435607</td>\n",
       "      <td>0.168329</td>\n",
       "      <td>0.367817</td>\n",
       "      <td>0.352021</td>\n",
       "      <td>0.178036</td>\n",
       "      <td>0.189689</td>\n",
       "      <td>0.355600</td>\n",
       "      <td>0.139895</td>\n",
       "      <td>1.288266</td>\n",
       "    </tr>\n",
       "    <tr>\n",
       "      <th>min</th>\n",
       "      <td>1081.000000</td>\n",
       "      <td>0.000000</td>\n",
       "      <td>0.000000</td>\n",
       "      <td>1768.667904</td>\n",
       "      <td>32.333333</td>\n",
       "      <td>0.000000</td>\n",
       "      <td>0.000000</td>\n",
       "      <td>0.000000</td>\n",
       "      <td>0.000000</td>\n",
       "      <td>0.000000</td>\n",
       "      <td>...</td>\n",
       "      <td>0.000000</td>\n",
       "      <td>0.000000</td>\n",
       "      <td>0.000000</td>\n",
       "      <td>0.000000</td>\n",
       "      <td>0.000000</td>\n",
       "      <td>0.000000</td>\n",
       "      <td>0.000000</td>\n",
       "      <td>0.000000</td>\n",
       "      <td>0.000000</td>\n",
       "      <td>1.000000</td>\n",
       "    </tr>\n",
       "    <tr>\n",
       "      <th>25%</th>\n",
       "      <td>13117.000000</td>\n",
       "      <td>572.000000</td>\n",
       "      <td>0.000000</td>\n",
       "      <td>3423.630363</td>\n",
       "      <td>36.600000</td>\n",
       "      <td>0.028145</td>\n",
       "      <td>0.000000</td>\n",
       "      <td>0.000000</td>\n",
       "      <td>0.000000</td>\n",
       "      <td>1.000000</td>\n",
       "      <td>...</td>\n",
       "      <td>0.000000</td>\n",
       "      <td>0.000000</td>\n",
       "      <td>0.000000</td>\n",
       "      <td>0.000000</td>\n",
       "      <td>0.000000</td>\n",
       "      <td>0.000000</td>\n",
       "      <td>0.000000</td>\n",
       "      <td>0.000000</td>\n",
       "      <td>0.000000</td>\n",
       "      <td>1.000000</td>\n",
       "    </tr>\n",
       "    <tr>\n",
       "      <th>50%</th>\n",
       "      <td>17835.000000</td>\n",
       "      <td>1396.000000</td>\n",
       "      <td>0.000000</td>\n",
       "      <td>4760.803837</td>\n",
       "      <td>38.166667</td>\n",
       "      <td>0.071226</td>\n",
       "      <td>0.000000</td>\n",
       "      <td>0.000000</td>\n",
       "      <td>0.000000</td>\n",
       "      <td>1.000000</td>\n",
       "      <td>...</td>\n",
       "      <td>0.000000</td>\n",
       "      <td>1.000000</td>\n",
       "      <td>0.000000</td>\n",
       "      <td>0.000000</td>\n",
       "      <td>0.000000</td>\n",
       "      <td>0.000000</td>\n",
       "      <td>0.000000</td>\n",
       "      <td>0.000000</td>\n",
       "      <td>0.000000</td>\n",
       "      <td>1.000000</td>\n",
       "    </tr>\n",
       "    <tr>\n",
       "      <th>75%</th>\n",
       "      <td>24438.000000</td>\n",
       "      <td>3069.000000</td>\n",
       "      <td>1.000000</td>\n",
       "      <td>7345.999347</td>\n",
       "      <td>40.233333</td>\n",
       "      <td>0.197776</td>\n",
       "      <td>0.000000</td>\n",
       "      <td>0.000000</td>\n",
       "      <td>0.000000</td>\n",
       "      <td>1.000000</td>\n",
       "      <td>...</td>\n",
       "      <td>0.000000</td>\n",
       "      <td>1.000000</td>\n",
       "      <td>0.000000</td>\n",
       "      <td>0.000000</td>\n",
       "      <td>0.000000</td>\n",
       "      <td>0.000000</td>\n",
       "      <td>0.000000</td>\n",
       "      <td>0.000000</td>\n",
       "      <td>0.000000</td>\n",
       "      <td>2.000000</td>\n",
       "    </tr>\n",
       "    <tr>\n",
       "      <th>max</th>\n",
       "      <td>50332.000000</td>\n",
       "      <td>47561.000000</td>\n",
       "      <td>11.000000</td>\n",
       "      <td>10378.832757</td>\n",
       "      <td>43.933333</td>\n",
       "      <td>5.800538</td>\n",
       "      <td>1.000000</td>\n",
       "      <td>1.000000</td>\n",
       "      <td>1.000000</td>\n",
       "      <td>1.000000</td>\n",
       "      <td>...</td>\n",
       "      <td>1.000000</td>\n",
       "      <td>1.000000</td>\n",
       "      <td>1.000000</td>\n",
       "      <td>1.000000</td>\n",
       "      <td>1.000000</td>\n",
       "      <td>1.000000</td>\n",
       "      <td>1.000000</td>\n",
       "      <td>1.000000</td>\n",
       "      <td>1.000000</td>\n",
       "      <td>8.000000</td>\n",
       "    </tr>\n",
       "  </tbody>\n",
       "</table>\n",
       "<p>8 rows × 35 columns</p>\n",
       "</div>"
      ],
      "text/plain": [
       "       8 Peak Hr Vehicle Volume  8 Peak Hr Pedestrian Volume  Pothole_Count  \\\n",
       "count               1954.000000                  1954.000000    1954.000000   \n",
       "mean               19139.782497                  2916.789150       0.659672   \n",
       "std                 8227.940392                  4561.327863       1.242423   \n",
       "min                 1081.000000                     0.000000       0.000000   \n",
       "25%                13117.000000                   572.000000       0.000000   \n",
       "50%                17835.000000                  1396.000000       0.000000   \n",
       "75%                24438.000000                  3069.000000       1.000000   \n",
       "max                50332.000000                 47561.000000      11.000000   \n",
       "\n",
       "       Avg_Pop_Density  Avg_Median_Age  Pedest_Per_Car   No Control  \\\n",
       "count      1954.000000     1954.000000     1954.000000  1954.000000   \n",
       "mean       5490.507760       38.215319        0.199355     0.106448   \n",
       "std        2593.684245        2.946921        0.390196     0.308489   \n",
       "min        1768.667904       32.333333        0.000000     0.000000   \n",
       "25%        3423.630363       36.600000        0.028145     0.000000   \n",
       "50%        4760.803837       38.166667        0.071226     0.000000   \n",
       "75%        7345.999347       40.233333        0.197776     0.000000   \n",
       "max       10378.832757       43.933333        5.800538     1.000000   \n",
       "\n",
       "       Traffic Person  Traffic Sign  Traffic Signal       ...         \\\n",
       "count     1954.000000   1954.000000     1954.000000       ...          \n",
       "mean         0.017912      0.010235        0.865404       ...          \n",
       "std          0.132666      0.100677        0.341379       ...          \n",
       "min          0.000000      0.000000        0.000000       ...          \n",
       "25%          0.000000      0.000000        1.000000       ...          \n",
       "50%          0.000000      0.000000        1.000000       ...          \n",
       "75%          0.000000      0.000000        1.000000       ...          \n",
       "max          1.000000      1.000000        1.000000       ...          \n",
       "\n",
       "       ROAD_CLASS_Minor  WEEKDAY_WeekDay  Place_Of_Interest_Y  STC_ROUTE_Y  \\\n",
       "count       1954.000000      1954.000000          1954.000000  1954.000000   \n",
       "mean           0.167861         0.745650             0.029171     0.161208   \n",
       "std            0.373838         0.435607             0.168329     0.367817   \n",
       "min            0.000000         0.000000             0.000000     0.000000   \n",
       "25%            0.000000         0.000000             0.000000     0.000000   \n",
       "50%            0.000000         1.000000             0.000000     0.000000   \n",
       "75%            0.000000         1.000000             0.000000     0.000000   \n",
       "max            1.000000         1.000000             1.000000     1.000000   \n",
       "\n",
       "       School_Present_Y  Suggested On Street Routes_Y  Signed Routes_Y  \\\n",
       "count       1954.000000                   1954.000000      1954.000000   \n",
       "mean           0.144831                      0.032753         0.037359   \n",
       "std            0.352021                      0.178036         0.189689   \n",
       "min            0.000000                      0.000000         0.000000   \n",
       "25%            0.000000                      0.000000         0.000000   \n",
       "50%            0.000000                      0.000000         0.000000   \n",
       "75%            0.000000                      0.000000         0.000000   \n",
       "max            1.000000                      1.000000         1.000000   \n",
       "\n",
       "       Bike Lanes_Y  Quiet Street Cycling Routes_Y  Accident_Counts  \n",
       "count   1954.000000                    1954.000000      1954.000000  \n",
       "mean       0.148414                       0.019959         1.937052  \n",
       "std        0.355600                       0.139895         1.288266  \n",
       "min        0.000000                       0.000000         1.000000  \n",
       "25%        0.000000                       0.000000         1.000000  \n",
       "50%        0.000000                       0.000000         1.000000  \n",
       "75%        0.000000                       0.000000         2.000000  \n",
       "max        1.000000                       1.000000         8.000000  \n",
       "\n",
       "[8 rows x 35 columns]"
      ]
     },
     "execution_count": 138,
     "metadata": {},
     "output_type": "execute_result"
    }
   ],
   "source": [
    "# A description of the numerical features\n",
    "df_explore_sev.describe()"
   ]
  },
  {
   "cell_type": "markdown",
   "metadata": {},
   "source": [
    "### Correlation of Variables\n",
    "In order to solve the research question, it is necessary to understand the problem and we will look at each variable and do an analysis about their meaning, its correlation with other variables, and importance for this problem.\n",
    "\n",
    "There are 35 features and 1 target (accident_severety), if we compared every features against the other features we have a big graph. For that reason, we decided to compare these variables by grouping them."
   ]
  },
  {
   "cell_type": "code",
   "execution_count": 139,
   "metadata": {},
   "outputs": [
    {
     "data": {
      "text/plain": [
       "<seaborn.axisgrid.PairGrid at 0x211635af5c0>"
      ]
     },
     "execution_count": 139,
     "metadata": {},
     "output_type": "execute_result"
    },
    {
     "data": {
      "image/png": "[encoded data removed]",
      "text/plain": [
       "<Figure size 1357.62x1260 with 56 Axes>"
      ]
     },
     "metadata": {},
     "output_type": "display_data"
    }
   ],
   "source": [
    "# These are variables related to population and volume of vehicles\n",
    "columns=['8 Peak Hr Vehicle Volume','8 Peak Hr Pedestrian Volume', 'Avg_Pop_Density', 'Pedest_Per_Car','Avg_Median_Age','School_Present_Y','Traffic_Intensity_Rush_Hour','Accident_Severity']\n",
    "sns.pairplot(df_explore_sev[columns],hue=\"Accident_Severity\", markers=[\"o\", \"s\"])"
   ]
  },
  {
   "cell_type": "markdown",
   "metadata": {},
   "source": [
    "Most of the features are binary 1 or 0 , however, we can se that there are other variables that are related to volume of people and vehicles that spread out depending on the \"severty\"."
   ]
  },
  {
   "cell_type": "code",
   "execution_count": 140,
   "metadata": {
    "scrolled": false
   },
   "outputs": [
    {
     "data": {
      "text/plain": [
       "<seaborn.axisgrid.PairGrid at 0x21163b146d8>"
      ]
     },
     "execution_count": 140,
     "metadata": {},
     "output_type": "execute_result"
    },
    {
     "data": {
      "image/png": "[encoded data removed]",
      "text/plain": [
       "<Figure size 1357.62x1260 with 56 Axes>"
      ]
     },
     "metadata": {},
     "output_type": "display_data"
    }
   ],
   "source": [
    "sns.pairplot(df_explore_sev, hue=\"Accident_Severity\", markers=[\"o\", \"s\"], vars=['Pothole_Count','No Control', 'Traffic Person', 'Traffic Sign','Traffic Signal','RLC_Y','Accident_Severity' ])"
   ]
  },
  {
   "cell_type": "code",
   "execution_count": 141,
   "metadata": {
    "scrolled": false
   },
   "outputs": [
    {
     "data": {
      "text/plain": [
       "<seaborn.axisgrid.PairGrid at 0x21164050cc0>"
      ]
     },
     "execution_count": 141,
     "metadata": {},
     "output_type": "execute_result"
    },
    {
     "data": {
      "image/png": "[encoded data removed]",
      "text/plain": [
       "<Figure size 1357.62x1260 with 56 Axes>"
      ]
     },
     "metadata": {},
     "output_type": "display_data"
    }
   ],
   "source": [
    "sns.pairplot(df_explore_sev, hue=\"Accident_Severity\",palette='BrBG', markers=[\"o\", \"s\"], vars=['Agg_Driving_Incidents_Y','Speeding_Incidents_Y', 'LIGHT_LOW', 'VISIBILITY_Reduced','Signed Routes_Y','Bike Lanes_Y','Accident_Severity' ])"
   ]
  },
  {
   "cell_type": "markdown",
   "metadata": {},
   "source": [
    "The graphs above gave us a broad idea of the correlation of variables; however, it did not give a good insight of their importance to solve our classification problem. Therefore, a deeper analysis is required and it is shown in the folowing graphs."
   ]
  },
  {
   "cell_type": "code",
   "execution_count": 142,
   "metadata": {
    "scrolled": true
   },
   "outputs": [
    {
     "data": {
      "text/plain": [
       "<matplotlib.axes._subplots.AxesSubplot at 0x21164659c88>"
      ]
     },
     "execution_count": 142,
     "metadata": {},
     "output_type": "execute_result"
    },
    {
     "data": {
      "image/png": "[encoded data removed]",
      "text/plain": [
       "<Figure size 432x288 with 1 Axes>"
      ]
     },
     "metadata": {},
     "output_type": "display_data"
    }
   ],
   "source": [
    "sns.countplot(x='Accident_Severity',data=df_explore_sev, palette=\"muted\")"
   ]
  },
  {
   "cell_type": "markdown",
   "metadata": {},
   "source": [
    "The number of fatal accidents in the last 10 years represent 12 % of the total. The approach is to decrease this percentage by the use of the below model to help in the decision of preventive and reactive actions.\n",
    "The difference between non-severe and severe is very important for that reason we use class balancing on the training set below."
   ]
  },
  {
   "cell_type": "code",
   "execution_count": 143,
   "metadata": {
    "scrolled": false
   },
   "outputs": [
    {
     "data": {
      "text/plain": [
       "<matplotlib.axes._subplots.AxesSubplot at 0x2116473acf8>"
      ]
     },
     "execution_count": 143,
     "metadata": {},
     "output_type": "execute_result"
    },
    {
     "data": {
      "image/png": "[encoded data removed]",
      "text/plain": [
       "<Figure size 432x432 with 1 Axes>"
      ]
     },
     "metadata": {},
     "output_type": "display_data"
    }
   ],
   "source": [
    "colors=sns.color_palette(\"husl\",7)\n",
    "pd.Series(df_explore_sev[\"Accident_Severity\"]).value_counts().plot(kind=\"pie\",colors=colors,\n",
    "    labels=[\"Non Fatal\", \"Fatal\"],explode=[0.05,0.05],\n",
    "    shadow=True,autopct='%.2f', fontsize=12,figsize=(6, 6),title = \"Percentage of Road Accidents\")"
   ]
  },
  {
   "cell_type": "code",
   "execution_count": 144,
   "metadata": {},
   "outputs": [],
   "source": [
    "#Function to create percent stacked bar charts\n",
    "def stack_plot(x, y):\n",
    "    df_local = df_explore_sev[[x, y]]\n",
    "    df_local = df_local.groupby([x, y]).size().reset_index(name='Counts')\n",
    "    df_local = df_local.pivot_table('Counts', [y], x, aggfunc='sum')\n",
    "    df_local = df_local.div(df_local.sum(1), axis=0)\n",
    "\n",
    "    plt.figure( figsize=(20,10) )\n",
    "    df_local.plot(kind='bar', stacked=True)\n",
    "    plt.xlabel(y)\n",
    "    plt.ylabel('Percent of Class')\n",
    "    plt.title('Percentage of Accidents for Each Class per Severity')\n",
    "    plt.show()"
   ]
  },
  {
   "cell_type": "markdown",
   "metadata": {},
   "source": [
    "In the case of fatal accidents (severe), aggressive driving is typically thought of as an important cause of the accident, as the following graph shows us. In the case of fatal accidents, half of them had aggressive driving as a cause for the accident. However, looking at the non-severe accidents, where a fatality did not occur, more are caused by aggressive accidents. This indicates aggressive driving may contribute to an accident being severe but there are other differentiating factors."
   ]
  },
  {
   "cell_type": "code",
   "execution_count": 145,
   "metadata": {
    "scrolled": false
   },
   "outputs": [
    {
     "data": {
      "text/plain": [
       "<Figure size 1440x720 with 0 Axes>"
      ]
     },
     "metadata": {},
     "output_type": "display_data"
    },
    {
     "data": {
      "image/png": "[encoded data removed]",
      "text/plain": [
       "<Figure size 432x288 with 1 Axes>"
      ]
     },
     "metadata": {},
     "output_type": "display_data"
    }
   ],
   "source": [
    "stack_plot('Agg_Driving_Incidents_Y', 'Accident_Severity')"
   ]
  },
  {
   "cell_type": "markdown",
   "metadata": {},
   "source": [
    "A differentiating factor could be the road surface condition. This is shown in the plot below where road surface condition is snow (1= Yes) and plotted by accident severity. In this plot, a higher percentage of severe accidents, which caused a fatality, had snow covered roads compared to non severe accidents. "
   ]
  },
  {
   "cell_type": "code",
   "execution_count": 146,
   "metadata": {
    "scrolled": false
   },
   "outputs": [
    {
     "data": {
      "text/plain": [
       "<Figure size 1440x720 with 0 Axes>"
      ]
     },
     "metadata": {},
     "output_type": "display_data"
    },
    {
     "data": {
      "image/png": "[encoded data removed]",
      "text/plain": [
       "<Figure size 432x288 with 1 Axes>"
      ]
     },
     "metadata": {},
     "output_type": "display_data"
    }
   ],
   "source": [
    "stack_plot('RDSFCOND_Snow', 'Accident_Severity')"
   ]
  },
  {
   "cell_type": "markdown",
   "metadata": {},
   "source": [
    "Seasons such as winter, spring, summer, and fall are also factors that contribute to a fatal accident. If we compare the relationship between the number of fatal accidents and winter, the graph below shows that a higher percentage of severe (fatal) accidents happen in winter."
   ]
  },
  {
   "cell_type": "code",
   "execution_count": 147,
   "metadata": {},
   "outputs": [
    {
     "data": {
      "text/plain": [
       "<Figure size 1440x720 with 0 Axes>"
      ]
     },
     "metadata": {},
     "output_type": "display_data"
    },
    {
     "data": {
      "image/png": "[encoded data removed]",
      "text/plain": [
       "<Figure size 432x288 with 1 Axes>"
      ]
     },
     "metadata": {},
     "output_type": "display_data"
    }
   ],
   "source": [
    "stack_plot('Season_Winter', 'Accident_Severity')"
   ]
  },
  {
   "cell_type": "markdown",
   "metadata": {},
   "source": [
    "These percent bar graphs are meant to indicate that a multitude of factors influence the severity of accidents and a higher complexity model may be needed in order to evaluate the relationship. \n",
    "\n",
    "A graph with the importance of each feature will be presented in the folowing step after running the chosen model. However, this exploratory analysis shows that the data has many factors that influence the severity of accidents. \n",
    "\n",
    "Moreover, it is important to have a look at variables such as volume and population to have an better understanding of their distribution and how it could affect the model."
   ]
  },
  {
   "cell_type": "code",
   "execution_count": 148,
   "metadata": {
    "scrolled": false
   },
   "outputs": [
    {
     "data": {
      "text/plain": [
       "Text(0.5,1,'Number of accidents by intersection')"
      ]
     },
     "execution_count": 148,
     "metadata": {},
     "output_type": "execute_result"
    },
    {
     "data": {
      "image/png": "[encoded data removed]",
      "text/plain": [
       "<Figure size 432x288 with 1 Axes>"
      ]
     },
     "metadata": {},
     "output_type": "display_data"
    }
   ],
   "source": [
    "plt.hist(x='Accident_Counts',data=df_explore_sev,bins=8, color=\"skyblue\")\n",
    "plt.xlabel('Accident_Counts')\n",
    "plt.ylabel('Number of Intersections')\n",
    "plt.title('Number of accidents by intersection')"
   ]
  },
  {
   "cell_type": "markdown",
   "metadata": {},
   "source": [
    "The majority of intersections in this datset have had at least 1 accident and at few intersections have had a maximum of 8 accidents. However, which ones will have severe accidents at them? The model will help us to solve this research question and allocate resources to the intersections with fatal accidents which is our target."
   ]
  },
  {
   "cell_type": "code",
   "execution_count": 149,
   "metadata": {
    "scrolled": false
   },
   "outputs": [
    {
     "data": {
      "text/plain": [
       "Text(0.5,1,'Volume of pedestrians by intersection')"
      ]
     },
     "execution_count": 149,
     "metadata": {},
     "output_type": "execute_result"
    },
    {
     "data": {
      "image/png": "[encoded data removed]",
      "text/plain": [
       "<Figure size 432x288 with 1 Axes>"
      ]
     },
     "metadata": {},
     "output_type": "display_data"
    }
   ],
   "source": [
    "plt.hist(x='8 Peak Hr Pedestrian Volume',data=df_explore_sev,bins=25,color='green')\n",
    "plt.xlabel('Pedestrian Volume')\n",
    "plt.ylabel('Number of Intersections')\n",
    "plt.title('Volume of pedestrians by intersection')"
   ]
  },
  {
   "cell_type": "markdown",
   "metadata": {},
   "source": [
    "The volume of pedestrian by intersection present a distribution that concentrates the major number of pedestrians betweem 0 and 10000 pedestrains."
   ]
  },
  {
   "cell_type": "code",
   "execution_count": 150,
   "metadata": {},
   "outputs": [
    {
     "data": {
      "text/plain": [
       "Text(0.5,1,'Volume of vehicles by intersection')"
      ]
     },
     "execution_count": 150,
     "metadata": {},
     "output_type": "execute_result"
    },
    {
     "data": {
      "image/png": "[encoded data removed]",
      "text/plain": [
       "<Figure size 432x288 with 1 Axes>"
      ]
     },
     "metadata": {},
     "output_type": "display_data"
    }
   ],
   "source": [
    "plt.hist(x='8 Peak Hr Vehicle Volume',data=df_explore_sev,bins=25, color= 'purple')\n",
    "plt.xlabel('Vehicle Volume')\n",
    "plt.ylabel('Number of Intersections')\n",
    "plt.title('Volume of vehicles by intersection')"
   ]
  },
  {
   "cell_type": "markdown",
   "metadata": {},
   "source": [
    "Regarding volume of vehicles by intersection, the graph represents a normal distribution with the volume concentrate at 20000 vehicles by intersection. "
   ]
  },
  {
   "cell_type": "code",
   "execution_count": 151,
   "metadata": {
    "scrolled": false
   },
   "outputs": [
    {
     "data": {
      "text/plain": [
       "Text(0.5,1,'Population Density by intersection')"
      ]
     },
     "execution_count": 151,
     "metadata": {},
     "output_type": "execute_result"
    },
    {
     "data": {
      "image/png": "[encoded data removed]",
      "text/plain": [
       "<Figure size 432x288 with 1 Axes>"
      ]
     },
     "metadata": {},
     "output_type": "display_data"
    }
   ],
   "source": [
    "plt.hist(x='Avg_Pop_Density',data=df_explore_sev,bins=25, color = 'blue')\n",
    "plt.xlabel('Population Density')\n",
    "plt.ylabel('Number of Intersections')\n",
    "plt.title('Population Density by intersection')"
   ]
  },
  {
   "cell_type": "code",
   "execution_count": 152,
   "metadata": {},
   "outputs": [
    {
     "data": {
      "text/plain": [
       "Text(0.5,1,'Median Age by intersection')"
      ]
     },
     "execution_count": 152,
     "metadata": {},
     "output_type": "execute_result"
    },
    {
     "data": {
      "image/png": "[encoded data removed]",
      "text/plain": [
       "<Figure size 432x288 with 1 Axes>"
      ]
     },
     "metadata": {},
     "output_type": "display_data"
    }
   ],
   "source": [
    "plt.hist(x='Avg_Median_Age',data=df_explore_sev,bins=50)\n",
    "plt.xlabel('Median Age')\n",
    "plt.ylabel('Number of Intersections')\n",
    "plt.title('Median Age by intersection')"
   ]
  },
  {
   "cell_type": "markdown",
   "metadata": {},
   "source": [
    "The median age could affect how safety consience individuals are for that region. E.g. a younger population could be more likely to not wear a seatbelt versus an older population (or vice versa)."
   ]
  },
  {
   "cell_type": "code",
   "execution_count": 153,
   "metadata": {
    "scrolled": true
   },
   "outputs": [
    {
     "data": {
      "text/plain": [
       "Text(0.5,1,'Number of pothole by intersection')"
      ]
     },
     "execution_count": 153,
     "metadata": {},
     "output_type": "execute_result"
    },
    {
     "data": {
      "image/png": "[encoded data removed]",
      "text/plain": [
       "<Figure size 432x288 with 1 Axes>"
      ]
     },
     "metadata": {},
     "output_type": "display_data"
    }
   ],
   "source": [
    "plt.hist(x='Pothole_Count',data=df_explore_sev,bins=11, color='green')\n",
    "plt.xlabel('Pothole_Count')\n",
    "plt.ylabel('Number of Intersections')\n",
    "plt.title('Number of pothole by intersection')"
   ]
  },
  {
   "cell_type": "markdown",
   "metadata": {},
   "source": [
    "Finally, the majority of potholes is between 0 and 2 potholes around an intersection with a maximum of 11 potholes"
   ]
  },
  {
   "cell_type": "markdown",
   "metadata": {},
   "source": [
    "This exploratory analysis gives an idea of factors that may contribute towards accident severity and provides insight into our research question:\n",
    "\n",
    "Where should resources be deployed to reduce fatalities by motor vehicles in urban centres?\n",
    "\n",
    "Identifying intersections with the biggest number of fatal accidents and relating this locations with the posible causes can help policymakers as well as road users to take preventive and reactive actions."
   ]
  },
  {
   "cell_type": "markdown",
   "metadata": {},
   "source": [
    "# D. Model Implementation"
   ]
  },
  {
   "cell_type": "markdown",
   "metadata": {},
   "source": [
    "For this project, there are two models: (1) a classification type model to classify if an accident were to occur with a given set of feature attributes would it be severe or non-severe. and (2) a regression type model to predict the number of accidents to occur at a given intersection with a set of feature attributes. The regression model is not used for the purposes of the report or presentation."
   ]
  },
  {
   "cell_type": "markdown",
   "metadata": {},
   "source": [
    "### Classification Model Implementation"
   ]
  },
  {
   "cell_type": "markdown",
   "metadata": {},
   "source": [
    "For the classification type model, the classification is between a severe (fatal) or a non-severe accident occuring. As indicated in the report and in the overview description above, the City of Toronto currently places resources such as police, ambulance and fire within 12 minutes of all locations of the city. However, if this model classifies a particular accident that could occur as severe, city resources could be placed nearby in the form of a police patrolling for speeding or ambulance/fire to lower first aid response times. With this combination of prevention and reactive measures, city staff have the potential to stop severe accidents from occuring or at least minimize the impacts of them. \n",
    "The model implementation process involves: preparing the features, performing a train-test split, tuning the models hyperparameters for improved performance, and running the model on the test data set. Accuracy metrics, output plots and a discussion of the results are provided below. Comments are provided for the specific details on select code lines below. Other algorithms such as logistic regression, support vector machines, and XGBoost were tried, however the leading model was a RandomForest classifier. The chosen RandomForest model is chosen in the code below."
   ]
  },
  {
   "cell_type": "markdown",
   "metadata": {},
   "source": [
    "#### Prepare Model Features and Target"
   ]
  },
  {
   "cell_type": "code",
   "execution_count": 154,
   "metadata": {},
   "outputs": [],
   "source": [
    "#Drop text data for columns\n",
    "df_model_columns = df_model.drop(columns=['Main', 'Side 1 Route', 'Accident_Severity'])"
   ]
  },
  {
   "cell_type": "code",
   "execution_count": 155,
   "metadata": {},
   "outputs": [],
   "source": [
    "# Labels are the values we want to predict\n",
    "df_model_label = np.array(df_model['Accident_Severity'])\n",
    "#Drop coulmns depending on target population (i.e. cyclist or pedestrian)\n",
    "\n",
    "df_model_features = df_model.drop(columns=['Accident_Severity'], axis = 1)\n",
    "\n",
    "# Convert to numpy array\n",
    "features = np.array(df_model_features)"
   ]
  },
  {
   "cell_type": "code",
   "execution_count": 156,
   "metadata": {},
   "outputs": [],
   "source": [
    "#Perform train-test split for features and target\n",
    "train_features, test_features, train_labels, test_labels = train_test_split(features, df_model_label, test_size = 0.2, random_state = 12)"
   ]
  },
  {
   "cell_type": "code",
   "execution_count": 157,
   "metadata": {},
   "outputs": [],
   "source": [
    "#Obtain Main and Side 1 Route for Data\n",
    "train_features_fil = train_features[:, 2:]\n",
    "test_features_fil = test_features[:, 2:]\n",
    "test_str_data = test_features[:, :2]"
   ]
  },
  {
   "cell_type": "code",
   "execution_count": 158,
   "metadata": {
    "scrolled": true
   },
   "outputs": [
    {
     "name": "stderr",
     "output_type": "stream",
     "text": [
      "C:\\Users\\Skynet\\Anaconda3\\lib\\site-packages\\sklearn\\utils\\deprecation.py:77: DeprecationWarning: Function _ratio_float is deprecated; Use a float for 'ratio' is deprecated from version 0.2. The support will be removed in 0.4. Use a dict, str, or a callable instead.\n",
      "  warnings.warn(msg, category=DeprecationWarning)\n"
     ]
    }
   ],
   "source": [
    "#Class balancing on training set\n",
    "sm = SMOTE(random_state=12, ratio=1.0)\n",
    "train_features_res, train_labels_res = sm.fit_sample(train_features_fil, train_labels)"
   ]
  },
  {
   "cell_type": "markdown",
   "metadata": {},
   "source": [
    "#### Random Forest - Classifier"
   ]
  },
  {
   "cell_type": "code",
   "execution_count": 159,
   "metadata": {},
   "outputs": [],
   "source": [
    "best_param = {'max_depth': 30, 'max_features': 'sqrt', 'min_samples_leaf': 1, 'min_samples_split': 3, 'n_estimators': 800, 'bootstrap': False}"
   ]
  },
  {
   "cell_type": "markdown",
   "metadata": {},
   "source": [
    "•\tDepth of the tree: number of splits the tree does to capture more information on data\n",
    "•\tMax Features: limit for number of features in each tree\n",
    "•\tMinimum samples per leaf node: Specifies how many samples must be in the training data to create a node\n",
    "•\tNumber of splits per node: Specifies how many times the variable is randomly split at each node\n",
    "•\tNumber of estimators: Specifies how many times the model re-samples the data and builds an individual tree "
   ]
  },
  {
   "cell_type": "code",
   "execution_count": 160,
   "metadata": {},
   "outputs": [
    {
     "data": {
      "text/plain": [
       "RandomForestClassifier(bootstrap=False, class_weight=None, criterion='gini',\n",
       "            max_depth=30, max_features='sqrt', max_leaf_nodes=None,\n",
       "            min_impurity_decrease=0.0, min_impurity_split=None,\n",
       "            min_samples_leaf=1, min_samples_split=3,\n",
       "            min_weight_fraction_leaf=0.0, n_estimators=800, n_jobs=None,\n",
       "            oob_score=False, random_state=12, verbose=0, warm_start=False)"
      ]
     },
     "execution_count": 160,
     "metadata": {},
     "output_type": "execute_result"
    }
   ],
   "source": [
    "#Initialize the RandomForestClassifier\n",
    "rf_class = RandomForestClassifier(random_state = 12)\n",
    "rf_class.set_params(**best_param)"
   ]
  },
  {
   "cell_type": "code",
   "execution_count": 161,
   "metadata": {},
   "outputs": [],
   "source": [
    "#Hyperparameters:\n",
    "# Create the random grid to narrow down hyperparameter range\n",
    "#param_grid = {'bootstrap': [True, False], 'max_depth': [5, 8, 10, 20, 30, 40], 'max_features': ['auto', 'sqrt'], 'min_samples_leaf': [1, 2, 4, 5, 6, 8, 9], 'min_samples_split': [2, 3, 4, 5, 6, 7,8, 9, 12], 'n_estimators': [200,300, 400,500, 600, 700, 800]}\n",
    "# Random search of parameters, using 3 fold cross validation, \n",
    "# search across 100 different combinations, and use all available cores\n",
    "#rf_rand = RandomizedSearchCV(estimator = rf_class, param_distributions = param_grid, n_iter = 50, cv = 5, verbose=2, random_state=42, n_jobs = -1)"
   ]
  },
  {
   "cell_type": "code",
   "execution_count": 162,
   "metadata": {},
   "outputs": [],
   "source": [
    "#Hyperparameter tuning with Grid Search to find best parameters (currently commented out)\n",
    "#param_grid = {'bootstrap': [True, False], 'max_depth': [25, 30, 35], 'max_features': ['auto', 'sqrt'], 'min_samples_leaf': [1, 2, 3], 'min_samples_split': [5, 6, 7], 'n_estimators': [700, 800, 900]}\n",
    "# Grid search of parameters, using 3 fold cross validation, \n",
    "# Scoring for average precision but this can be changed depending on model\n",
    "#rf_rand = GridSearchCV(estimator = rf_class, param_grid = param_grid, cv = 5, verbose=2, n_jobs = -1)"
   ]
  },
  {
   "cell_type": "code",
   "execution_count": 163,
   "metadata": {
    "scrolled": true
   },
   "outputs": [
    {
     "data": {
      "text/plain": [
       "RandomForestClassifier(bootstrap=False, class_weight=None, criterion='gini',\n",
       "            max_depth=30, max_features='sqrt', max_leaf_nodes=None,\n",
       "            min_impurity_decrease=0.0, min_impurity_split=None,\n",
       "            min_samples_leaf=1, min_samples_split=3,\n",
       "            min_weight_fraction_leaf=0.0, n_estimators=800, n_jobs=None,\n",
       "            oob_score=False, random_state=12, verbose=0, warm_start=False)"
      ]
     },
     "execution_count": 163,
     "metadata": {},
     "output_type": "execute_result"
    }
   ],
   "source": [
    "#Fit RandomForestClassifier with best hyperparameters model\n",
    "rf_class.fit(train_features_res, train_labels_res)"
   ]
  },
  {
   "cell_type": "code",
   "execution_count": 164,
   "metadata": {},
   "outputs": [],
   "source": [
    "#rf_rand.best_params_"
   ]
  },
  {
   "cell_type": "code",
   "execution_count": 165,
   "metadata": {},
   "outputs": [],
   "source": [
    "#Get predictions based on decision threshold as well as normalized sum of individual tree predictions\n",
    "rf_predictions = rf_class.predict(test_features_fil)\n",
    "rf_predictions_scores = rf_class.predict_proba(test_features_fil)"
   ]
  },
  {
   "cell_type": "markdown",
   "metadata": {},
   "source": [
    "##### Random Forest Classification - Accuracy Metrics and Plots"
   ]
  },
  {
   "cell_type": "code",
   "execution_count": 166,
   "metadata": {},
   "outputs": [
    {
     "name": "stdout",
     "output_type": "stream",
     "text": [
      " \n",
      "Classification report based on test data===============================\n",
      "              precision    recall  f1-score   support\n",
      "\n",
      "  Non Severe       0.92      0.99      0.96       347\n",
      "      Severe       0.88      0.34      0.49        44\n",
      "\n",
      "   micro avg       0.92      0.92      0.92       391\n",
      "   macro avg       0.90      0.67      0.72       391\n",
      "weighted avg       0.92      0.92      0.90       391\n",
      "\n"
     ]
    }
   ],
   "source": [
    "print(\" \")\n",
    "print(\"Classification report based on test data===============================\")\n",
    "print(classification_report(test_labels, rf_predictions))"
   ]
  },
  {
   "cell_type": "code",
   "execution_count": 167,
   "metadata": {},
   "outputs": [],
   "source": [
    "#Get RandomForestClassifier feature importances and join with the feature names\n",
    " \n",
    "feature_importances = pd.DataFrame(rf_class.feature_importances_,\n",
    "                                   index = df_model_columns.columns,\n",
    "                                    columns=['Feature_Importance']).sort_values('Feature_Importance',  ascending=False)"
   ]
  },
  {
   "cell_type": "code",
   "execution_count": 168,
   "metadata": {},
   "outputs": [
    {
     "data": {
      "image/png": "[encoded data removed]",
      "text/plain": [
       "<Figure size 1440x720 with 1 Axes>"
      ]
     },
     "metadata": {},
     "output_type": "display_data"
    }
   ],
   "source": [
    "#Plot feature importnance scores \n",
    "colors=sns.color_palette(\"Paired\", 7)\n",
    "plt.figure( figsize=(20,10) )\n",
    "plt.bar(feature_importances.index,feature_importances['Feature_Importance'],color=colors)\n",
    "plt.xticks(rotation='vertical')\n",
    "plt.xlabel('Features')\n",
    "plt.ylabel('Feature Importance Value')\n",
    "plt.title('Importance Per Feature')\n",
    "plt.show()"
   ]
  },
  {
   "cell_type": "code",
   "execution_count": 169,
   "metadata": {},
   "outputs": [],
   "source": [
    "#Use sklearn function to get the TPR and FPR for Severe accidents for each decision threshold\n",
    "false_positive_rate, true_positive_rate, thresholds = roc_curve(test_labels, rf_predictions_scores[:,1], pos_label='Severe')\n",
    "roc_auc = auc(false_positive_rate, true_positive_rate)"
   ]
  },
  {
   "cell_type": "code",
   "execution_count": 170,
   "metadata": {},
   "outputs": [
    {
     "data": {
      "image/png": "[encoded data removed]",
      "text/plain": [
       "<Figure size 576x576 with 1 Axes>"
      ]
     },
     "metadata": {},
     "output_type": "display_data"
    }
   ],
   "source": [
    "#Plot the ROC curve to see the change in TPR vs. FPR for different decision thresholds. (sklearn code)\n",
    "#Note: the curve is above the line of random chance\n",
    "plt.figure(figsize=(8,8))\n",
    "plt.title('Receiver Operating Characteristic')\n",
    "plt.plot(false_positive_rate, true_positive_rate, 'b',\n",
    "label='AUC = %0.2f'% roc_auc)\n",
    "plt.legend(loc='lower right')\n",
    "plt.plot([0,1],[0,1],'r--')\n",
    "plt.xlim([-0.1,1.2])\n",
    "plt.ylim([-0.1,1.2])\n",
    "plt.ylabel('True Positive Rate')\n",
    "plt.xlabel('False Positive Rate')\n",
    "plt.show()"
   ]
  },
  {
   "cell_type": "markdown",
   "metadata": {},
   "source": [
    "The above ROC curve is useful for visualizing the tradeoff for TPR and FPR. The area under the curve (AUC) value is shown in the bottom right, with a value of 0.78. As this is well above 0.5, the model performs better than a random predictor. It also can be useful for selecting a decision threshold. In this model one of the graphs below will be used for that as it's easier to visualize the precision-recall tradeoff. "
   ]
  },
  {
   "cell_type": "code",
   "execution_count": 171,
   "metadata": {},
   "outputs": [],
   "source": [
    "#Use sklearn's library to get the precision and recall for each decision threshold\n",
    "p, r, thresholds = precision_recall_curve(test_labels, rf_predictions_scores[:,1], pos_label='Severe')"
   ]
  },
  {
   "cell_type": "code",
   "execution_count": 172,
   "metadata": {},
   "outputs": [
    {
     "data": {
      "image/png": "[encoded data removed]",
      "text/plain": [
       "<Figure size 576x576 with 1 Axes>"
      ]
     },
     "metadata": {},
     "output_type": "display_data"
    }
   ],
   "source": [
    "#Plot precision vs. recall tradeoff for each decision threshold (sklearn code)\n",
    "plt.figure(figsize=(8,8))\n",
    "plt.title(\"Precision and Recall curve ^ = current threshold\")\n",
    "plt.step(r, p, color='b', alpha=0.2,\n",
    "             where='post')\n",
    "plt.fill_between(r, p, step='post', alpha=0.2,\n",
    "                     color='b')\n",
    "plt.ylim([0.0, 1.01]);\n",
    "plt.xlim([0.0, 1.01]);\n",
    "plt.xlabel('Recall');\n",
    "plt.ylabel('Precision');\n",
    "    \n",
    "# plot the current threshold on the line\n",
    "close_default_clf = np.argmin(np.abs(thresholds - 0.5))\n",
    "plt.plot(r[close_default_clf], p[close_default_clf], '^', c='k',\n",
    "            markersize=15)\n",
    "plt.show()"
   ]
  },
  {
   "cell_type": "markdown",
   "metadata": {},
   "source": [
    "As shown in the figure above, the model has high precision for approximately 40% of the severe accident incidents. However, as it attempts to increase the recall and find all relevant instances of severe accidents, its precision goes down substanially. A theory for this result is that some causes are beyond what can be modelled by the given data. These are factors such as make of car and corresponding safety features that will greatly affect if an accident causes a fatality or not. The model then provides good precision for accidents whose severity does depend on the features available. "
   ]
  },
  {
   "cell_type": "code",
   "execution_count": 173,
   "metadata": {},
   "outputs": [
    {
     "data": {
      "image/png": "[encoded data removed]",
      "text/plain": [
       "<Figure size 576x576 with 1 Axes>"
      ]
     },
     "metadata": {},
     "output_type": "display_data"
    }
   ],
   "source": [
    "#Plot precision and recall as a function of decision thresholds to see tradeoff (sklearn code) - Use to select decision thresold\n",
    "plt.figure(figsize=(8, 8))\n",
    "plt.title(\"Precision and Recall Scores as a function of the decision threshold\")\n",
    "plt.plot(thresholds, p[:-1], \"b--\", label=\"Precision\")\n",
    "plt.plot(thresholds, r[:-1], \"g-\", label=\"Recall\")\n",
    "plt.ylabel(\"Score\")\n",
    "plt.xlabel(\"Decision Threshold\")\n",
    "plt.legend(loc='best')\n",
    "plt.show()"
   ]
  },
  {
   "cell_type": "markdown",
   "metadata": {},
   "source": [
    "##### Extracting Data for Tableau Dashboard"
   ]
  },
  {
   "cell_type": "code",
   "execution_count": 174,
   "metadata": {},
   "outputs": [],
   "source": [
    "tab_data = street_data.drop(columns = ['TCS #', 'Midblock Route', 'Side 2 Route', 'Activation Date', 'Count Date', '8 Peak Hr Vehicle Volume', '8 Peak Hr Pedestrian Volume'])\n",
    "tab_data = tab_data.drop_duplicates(subset=['Main', 'Side 1 Route'])"
   ]
  },
  {
   "cell_type": "code",
   "execution_count": 175,
   "metadata": {},
   "outputs": [],
   "source": [
    "\n",
    "df_str_test = pd.DataFrame(test_str_data, columns=['Main', 'Side 1 Route'])\n",
    "df_pred = pd.DataFrame(rf_predictions, columns=['Predicted_ACC_SEV'])\n",
    "df_actual = pd.DataFrame(test_labels, columns=['Actual_ACC_SEV'])\n",
    "df_features_out = pd.DataFrame(test_features_fil, columns = df_model_columns.columns)\n",
    "temp_pred_act = pd.concat([df_str_test,df_features_out, df_pred, df_actual], axis=1)"
   ]
  },
  {
   "cell_type": "code",
   "execution_count": 176,
   "metadata": {},
   "outputs": [],
   "source": [
    "tab_data_out = pd.merge(temp_pred_act, tab_data, how='left', on=['Main', 'Side 1 Route'])"
   ]
  },
  {
   "cell_type": "code",
   "execution_count": 177,
   "metadata": {},
   "outputs": [],
   "source": [
    "#Output results with intersections and LAT/LON's to plot of Tableau dashboard (Commented Out)\n",
    "#writer = pd.ExcelWriter('Output\\output.xlsx')\n",
    "#tab_data_out.to_excel(writer,'Sheet1')\n",
    "#writer.save()"
   ]
  },
  {
   "cell_type": "markdown",
   "metadata": {},
   "source": [
    "##### Testing to see how controllable features affect model"
   ]
  },
  {
   "cell_type": "code",
   "execution_count": 178,
   "metadata": {},
   "outputs": [],
   "source": [
    "#Create data frame for test features\n",
    "feature_analysis_class = pd.DataFrame(test_features, columns=df_model_features.columns)"
   ]
  },
  {
   "cell_type": "code",
   "execution_count": 179,
   "metadata": {},
   "outputs": [],
   "source": [
    "#Concat. together the predicted and actual severity\n",
    "df_pred = pd.DataFrame(rf_predictions, columns=['Predicted_ACC_SEV'])\n",
    "df_actual = pd.DataFrame(test_labels, columns=['Actual_ACC_SEV'])\n",
    "temp_pred_act = pd.concat([df_pred, df_actual], axis=1)"
   ]
  },
  {
   "cell_type": "code",
   "execution_count": 180,
   "metadata": {},
   "outputs": [],
   "source": [
    "#Concat. with features \n",
    "feature_analysis_class = pd.concat([feature_analysis_class, temp_pred_act], axis=1)"
   ]
  },
  {
   "cell_type": "code",
   "execution_count": 181,
   "metadata": {},
   "outputs": [],
   "source": [
    "#Filter data for precise predictions of severe accidents\n",
    "feature_analysis_class = feature_analysis_class.loc[(feature_analysis_class['Predicted_ACC_SEV'] == 'Severe') & (feature_analysis_class['Actual_ACC_SEV'] == 'Severe')]"
   ]
  },
  {
   "cell_type": "code",
   "execution_count": 182,
   "metadata": {},
   "outputs": [],
   "source": [
    "#Add a traffic signal at the intersection\n",
    "feature_analysis_class['No Control'] = '0'\n",
    "feature_analysis_class['Traffic Person'] = '0'\n",
    "feature_analysis_class['Traffic Sign'] = '0'\n",
    "feature_analysis_class['Traffic Signal'] = '1'\n",
    "#Add a streetlight at the intersection\n",
    "feature_analysis_class['LIGHT_LOW'] = '1'\n",
    "#Salt roads at the intersection (for winter only)\n",
    "feature_analysis_class['RDSFCOND_Wet'] = '0'\n",
    "feature_analysis_class['RDSFCOND_Snow']= '0'\n",
    "feature_analysis_class['RDSFCOND_Dry'] = '1'\n",
    "#Set up patrols for aggressive driving and speeding\n",
    "feature_analysis_class['Agg_Driving_Incidents_Y'] = '0'\n",
    "feature_analysis_class['Speeding_Incidents_Y'] = '0'\n",
    "#Fix potholes in and around the intersection\n",
    "feature_analysis_class['Pothole_Count'] = '0'"
   ]
  },
  {
   "cell_type": "code",
   "execution_count": 183,
   "metadata": {},
   "outputs": [],
   "source": [
    "#Drop unecessary columns\n",
    "feature_analysis_class = feature_analysis_class.drop(columns=['Main', 'Side 1 Route', 'Predicted_ACC_SEV', 'Actual_ACC_SEV'])"
   ]
  },
  {
   "cell_type": "code",
   "execution_count": 184,
   "metadata": {},
   "outputs": [],
   "source": [
    "#Convert to array for model\n",
    "features_analysis_pred = np.array(feature_analysis_class)"
   ]
  },
  {
   "cell_type": "code",
   "execution_count": 185,
   "metadata": {},
   "outputs": [],
   "source": [
    "#Predict accident severity with random forest model\n",
    "features_analysis_pred_results = rf_class.predict(features_analysis_pred)"
   ]
  },
  {
   "cell_type": "markdown",
   "metadata": {},
   "source": [
    "This method was used to determine how altering these features would affect the model as the Random Forest classifier is a black box. By altering these controllable features, it shows that the intersection can be improved through preventative safety measures in most cases (14 out of 15)"
   ]
  },
  {
   "cell_type": "code",
   "execution_count": 186,
   "metadata": {},
   "outputs": [
    {
     "data": {
      "text/plain": [
       "array(['Severe', 'Non Severe', 'Non Severe', 'Non Severe', 'Non Severe',\n",
       "       'Non Severe', 'Non Severe', 'Non Severe', 'Non Severe',\n",
       "       'Non Severe', 'Non Severe', 'Non Severe', 'Non Severe',\n",
       "       'Non Severe', 'Non Severe'], dtype=object)"
      ]
     },
     "execution_count": 186,
     "metadata": {},
     "output_type": "execute_result"
    }
   ],
   "source": [
    "#Print out results (14 out of 15 results were re-classified as non-severe where no fatality will occur)\n",
    "features_analysis_pred_results"
   ]
  },
  {
   "cell_type": "markdown",
   "metadata": {},
   "source": [
    "##### Classification Outputs"
   ]
  },
  {
   "cell_type": "markdown",
   "metadata": {},
   "source": [
    "As a baseline for the current model, city resources are placed to have a 12 minute response time to any region of the city. This indicates that the city is using random chance that an accident will occur and whether or not it will be severe as to require city resources respond. Therefore, to be of any value, our model has to have a better precision than 0.5. \n",
    "As shown in the classification report above, Severe accidents (i.e. fatal) can be predicted with a precision of 0.88 and a recall of 0.34. For this model, the main area of focus is to minimize the number of false positives (i.e. increase precision). The primary goal of the model is to predict severe accidents so that additional resources can be placed in close proximity to these intersections. Although an aim is to minimze the number of false negatives, it is not the primary goal of the model. Additionally, false negatives will still be covered by city resources as it is not recommended to change the overall 10 minute response time.\n",
    "\n",
    "The most important features of the model are the aggressive driving incidents, vehicle volumes, lighting/daytime, and seasonality. Other features such as if the intersection has places of interest or traffic signs are less important to the model but still are a factor in the model decisions. A plot of feature importance is shown above. A recommendation for this model would be to have access to live dynamic model features such as traffic and weather. This recommendation would be key if the model was to be used in production and run on a regular basis. As well some features are controllable and others are not. The main controllable features are: (Traffic Signal, Traffic Sign, Traffic Person, No Control), (Agg_Driving_Incidents_Y, Speeding_Incidents_Y), Pothole_Count, LIGHT_LOW, and RDSCOND. As shown in the sub-section \"Testing to see how Features affect model\" above, altering these to improve the intersections safety leads to the model re-classifying these as Non-Severe (i.e. a fatality will not occur). This shows by implementing preventative controls does make the intersection less prone to having a fatal accident. These controls will be further discussed in the report.\n",
    "\n",
    "In this model, the precision vs. recall tradeoff is very important. As stated above for false negatives, Severe accidents classified as Non-Severe, will still be covered by the cities existing 12 minute response time policy. However, minimizing the false positives is key to providing a model with value as the intention is to target areas with a Severe accident with preventative and reactive measures. To minimze false positives, the precision for Severe accidents can be increased by adjusting the decision threshold, which is currently at 0.5 as shown in the \"Precision and Recall Scores as a function of the decision threshold\" figure above. However, increasing the decision threshold reduces the recall of the model. Two plots that show this relationship precision-recall trade off are shown above. The current decision threshold of 0.5 will be kept as it provides a high precision score while still capturing enough of all severe instances to provide users with enough  severe accident locations to focus on.\n",
    "\n",
    "A final discussion point is the limitations of the model. Certain features that signficantly affect severity of crashes cannot be determined by publicly available data. These include whether seat belts are being worn, model/make of vehicles per intersection and other vehicle safety measures. Although demographic features such as age can be used as proxies for \"responsbility\" and therefore seatbelts in use, it is a stretch and not granular enough since it's at the city ward level. Therefore, unless this data can be collected, there will always be a limitation for the degree of accuracy that the model can achieve.  "
   ]
  },
  {
   "cell_type": "markdown",
   "metadata": {},
   "source": [
    "### Regression - Model Implementation (Not Used For Report or Presentation)"
   ]
  },
  {
   "cell_type": "markdown",
   "metadata": {},
   "source": [
    "The regression type model for this project is predicting the number of accidents to occur on a given intsersection. The City of Toronto currently has a number of metrics and intiatives for improving the safety of city streets. However, no publicly available information has been provided on if a machine learning prediction is being done. With this model and its predictions, city staff can isolate accidents with higher accident counts and review the features that are the cause. City staff can recommend prevention measures to improve the safety of city streets and reduce accident risk.\n",
    "The model implementation process involves: preparing the features (e.g. scaling), performing a train-test split, tuning the models hyperparameters for improved performance, and running the model on the test data set. Accuracy metrics, output plots and a discussion of the results are provided below. Comments are provide for the specific details on select code lines below. "
   ]
  },
  {
   "cell_type": "code",
   "execution_count": 187,
   "metadata": {},
   "outputs": [],
   "source": [
    "df_regress_model = df_regress_model.drop(columns=['Main', 'Side 1 Route'])"
   ]
  },
  {
   "cell_type": "code",
   "execution_count": 188,
   "metadata": {},
   "outputs": [],
   "source": [
    "# Labels are the values we want to predict\n",
    "df_regress_model_label = np.array(df_regress_model['Accident_Counts'])\n",
    "#Drop coulmns depending on target population (i.e. cyclist or pedestrian)\n",
    "\n",
    "df_regress_model_features = df_regress_model.drop(columns=['Accident_Counts'], axis = 1)\n",
    "\n",
    "# Convert to numpy array\n",
    "features_regress = np.array(df_regress_model_features)"
   ]
  },
  {
   "cell_type": "code",
   "execution_count": 189,
   "metadata": {},
   "outputs": [],
   "source": [
    "#Perform train-test split for features and target\n",
    "train_features_regress, test_features_regress, train_labels_regress, test_labels_regress = train_test_split(features_regress, df_regress_model_label, test_size = 0.8, random_state = 42)"
   ]
  },
  {
   "cell_type": "code",
   "execution_count": 190,
   "metadata": {},
   "outputs": [],
   "source": [
    "# Scale train and test sets separately to avoid giving information to test set\n",
    "scaler_std = preprocessing.StandardScaler()\n",
    "train_features_regress_scaled = scaler_std.fit_transform(train_features_regress)\n",
    "test_features_regress_scaled = scaler_std.transform(test_features_regress)"
   ]
  },
  {
   "cell_type": "markdown",
   "metadata": {},
   "source": [
    "#### Lasso Regression"
   ]
  },
  {
   "cell_type": "code",
   "execution_count": 191,
   "metadata": {},
   "outputs": [],
   "source": [
    "#Use LassoCV to hyparameter tuned the Lasso regression model\n",
    "reg =LassoCV(cv=5, random_state=0).fit(train_features_regress_scaled, train_labels_regress)"
   ]
  },
  {
   "cell_type": "code",
   "execution_count": 192,
   "metadata": {},
   "outputs": [
    {
     "name": "stdout",
     "output_type": "stream",
     "text": [
      " \n",
      "R^2 score for training data===============================\n"
     ]
    },
    {
     "data": {
      "text/plain": [
       "0.16931783361978536"
      ]
     },
     "execution_count": 192,
     "metadata": {},
     "output_type": "execute_result"
    }
   ],
   "source": [
    "print(\" \")\n",
    "print(\"R^2 score for training data===============================\")\n",
    "reg.score(train_features_regress_scaled, train_labels_regress)"
   ]
  },
  {
   "cell_type": "markdown",
   "metadata": {},
   "source": [
    "##### Lasso Regression  - Accuracy Metrics and Plots"
   ]
  },
  {
   "cell_type": "code",
   "execution_count": 193,
   "metadata": {},
   "outputs": [
    {
     "name": "stdout",
     "output_type": "stream",
     "text": [
      " \n",
      "Verify error metrics on testing set data===============================\n",
      "R-Squared value for fit:  -3.788930214137033\n",
      "Mean Absolute Error:  0.635731866875526\n",
      "Mean Squared Error:  0.7215051119300758\n",
      "Root Mean Squared Error:  0.8494145701187824\n"
     ]
    }
   ],
   "source": [
    "LassoRegCV_LR_MSE = mean_squared_error(reg.predict(test_features_regress_scaled), test_labels_regress)\n",
    "LassoRegCV_LR_r2_score = r2_score(reg.predict(test_features_regress_scaled), test_labels_regress)\n",
    "LassoRegCV_LR_MAE = mean_absolute_error(reg.predict(test_features_regress_scaled), test_labels_regress)\n",
    "LassoRegCV_LR_RMSE = np.sqrt(LassoRegCV_LR_MSE)\n",
    "\n",
    "print(\" \")\n",
    "print(\"Verify error metrics on testing set data===============================\")\n",
    "print(\"R-Squared value for fit: \", LassoRegCV_LR_r2_score)\n",
    "print(\"Mean Absolute Error: \", LassoRegCV_LR_MAE)\n",
    "print(\"Mean Squared Error: \", LassoRegCV_LR_MSE)\n",
    "print(\"Root Mean Squared Error: \", LassoRegCV_LR_RMSE)"
   ]
  },
  {
   "cell_type": "code",
   "execution_count": 194,
   "metadata": {},
   "outputs": [],
   "source": [
    "#Get feature names and coefficients from Ridge regression model\n",
    "coeff_regress_lasso = pd.DataFrame(list(df_regress_model_features.columns.values),list(reg.coef_), columns=['Coefficients']).reset_index()\n",
    "coeff_regress_lasso = coeff_regress_lasso.rename(index=str, columns={\"index\": \"Weights\"}).sort_values('Weights',  ascending=True).reset_index()"
   ]
  },
  {
   "cell_type": "code",
   "execution_count": 195,
   "metadata": {},
   "outputs": [
    {
     "data": {
      "image/png": "[encoded data removed]",
      "text/plain": [
       "<Figure size 2160x1440 with 1 Axes>"
      ]
     },
     "metadata": {},
     "output_type": "display_data"
    }
   ],
   "source": [
    "#Plot Ridge regression features and weights in ascending order\n",
    "colors=sns.color_palette('Blues')\n",
    "plt.figure( figsize=(30,20) )\n",
    "plt.bar(coeff_regress_lasso['Coefficients'], coeff_regress_lasso['Weights'], color=colors)\n",
    "plt.xticks(rotation='vertical')\n",
    "plt.xlabel('Coefficients')\n",
    "plt.ylabel('Weight')\n",
    "plt.title('Weight Per Coefficient')\n",
    "plt.show()"
   ]
  },
  {
   "cell_type": "markdown",
   "metadata": {},
   "source": [
    "#### Ridge Regression"
   ]
  },
  {
   "cell_type": "code",
   "execution_count": 196,
   "metadata": {},
   "outputs": [],
   "source": [
    "#Use RidgeCV to hyparameter tuned the Lasso regression model\n",
    "ridge =RidgeCV(alphas=[1e-6, 1e-5, 1e-4, 1e-3, 1e-2],cv=5).fit(train_features_regress_scaled, train_labels_regress)"
   ]
  },
  {
   "cell_type": "code",
   "execution_count": 197,
   "metadata": {},
   "outputs": [
    {
     "name": "stdout",
     "output_type": "stream",
     "text": [
      " \n",
      "R^2 score for training data===============================\n"
     ]
    },
    {
     "data": {
      "text/plain": [
       "0.1801067014059381"
      ]
     },
     "execution_count": 197,
     "metadata": {},
     "output_type": "execute_result"
    }
   ],
   "source": [
    "print(\" \")\n",
    "print(\"R^2 score for training data===============================\")\n",
    "ridge.score(train_features_regress_scaled, train_labels_regress)"
   ]
  },
  {
   "cell_type": "markdown",
   "metadata": {},
   "source": [
    "##### Ridge Regression - Accuracy Metrics and Plots"
   ]
  },
  {
   "cell_type": "code",
   "execution_count": 198,
   "metadata": {},
   "outputs": [
    {
     "name": "stdout",
     "output_type": "stream",
     "text": [
      " \n",
      "Verify error metrics on testing set data===============================\n",
      "R-Squared value for fit:  -2.3251689276698078\n",
      "Mean Absolute Error:  0.653311594552563\n",
      "Mean Squared Error:  0.7537861463826458\n",
      "Root Mean Squared Error:  0.8682085846054771\n"
     ]
    }
   ],
   "source": [
    "ridgeRegCV_LR_MSE = mean_squared_error(ridge.predict(test_features_regress_scaled), test_labels_regress)\n",
    "ridgeRegCV_LR_r2_score = r2_score(ridge.predict(test_features_regress_scaled), test_labels_regress)\n",
    "ridgeRegCV_LR_MAE = mean_absolute_error(ridge.predict(test_features_regress_scaled), test_labels_regress)\n",
    "ridgeRegCV_LR_RMSE = np.sqrt(ridgeRegCV_LR_MSE)\n",
    "\n",
    "print(\" \")\n",
    "print(\"Verify error metrics on testing set data===============================\")\n",
    "print(\"R-Squared value for fit: \", ridgeRegCV_LR_r2_score)\n",
    "print(\"Mean Absolute Error: \", ridgeRegCV_LR_MAE)\n",
    "print(\"Mean Squared Error: \", ridgeRegCV_LR_MSE)\n",
    "print(\"Root Mean Squared Error: \", ridgeRegCV_LR_RMSE)"
   ]
  },
  {
   "cell_type": "code",
   "execution_count": 199,
   "metadata": {},
   "outputs": [
    {
     "data": {
      "text/plain": [
       "count    1076.000000\n",
       "mean        1.500929\n",
       "std         0.916515\n",
       "min         1.000000\n",
       "25%         1.000000\n",
       "50%         1.000000\n",
       "75%         2.000000\n",
       "max         8.000000\n",
       "Name: Accident_Counts, dtype: float64"
      ]
     },
     "execution_count": 199,
     "metadata": {},
     "output_type": "execute_result"
    }
   ],
   "source": [
    "df_regress_model['Accident_Counts'].describe()"
   ]
  },
  {
   "cell_type": "code",
   "execution_count": 200,
   "metadata": {},
   "outputs": [],
   "source": [
    "#Get feature names and coefficients from Ridge regression model\n",
    "coeff_regress = pd.DataFrame(list(df_regress_model_features.columns.values),list(ridge.coef_), columns=['Coefficients']).reset_index()\n",
    "coeff_regress= coeff_regress.rename(index=str, columns={\"index\": \"Weights\"}).sort_values('Weights',  ascending=True).reset_index()"
   ]
  },
  {
   "cell_type": "code",
   "execution_count": 201,
   "metadata": {},
   "outputs": [
    {
     "data": {
      "image/png": "[encoded data removed]",
      "text/plain": [
       "<Figure size 2160x1440 with 1 Axes>"
      ]
     },
     "metadata": {},
     "output_type": "display_data"
    }
   ],
   "source": [
    "#Plot Ridge regression features and weights in ascending order\n",
    "plt.figure( figsize=(30,20) )\n",
    "plt.bar(coeff_regress['Coefficients'], coeff_regress['Weights'], color=colors)\n",
    "plt.xticks(rotation='vertical')\n",
    "plt.xlabel('Coefficients')\n",
    "plt.ylabel('Weight')\n",
    "plt.title('Weight Per Coefficient')\n",
    "plt.show()"
   ]
  },
  {
   "cell_type": "markdown",
   "metadata": {},
   "source": [
    "#### RandomForest Regression"
   ]
  },
  {
   "cell_type": "code",
   "execution_count": 202,
   "metadata": {},
   "outputs": [],
   "source": [
    "#Initialize RandomForestRegressor \n",
    "rf_regress = RandomForestRegressor(n_estimators = 250, random_state = 42)"
   ]
  },
  {
   "cell_type": "code",
   "execution_count": 203,
   "metadata": {},
   "outputs": [],
   "source": [
    "#Hyperparameters:\n",
    "# Create the random grid\n",
    "param_grid = {'bootstrap': [True, False],\n",
    " 'max_depth': [5, 8, 10, 20, 30],\n",
    " 'max_features': ['auto', 'sqrt'],\n",
    " 'min_samples_leaf': [1, 2, 4, 5, 6, 8, 9],\n",
    " 'min_samples_split': [2, 3, 4, 5, 6, 7,8, 9, 12],\n",
    " 'n_estimators': [200, 400, 600]}\n",
    "# Random search of parameters, using 3 fold cross validation, \n",
    "# search across 100 different combinations, and use all available cores\n",
    "rf_regress_rand = RandomizedSearchCV(estimator = rf_regress, param_distributions = param_grid, \n",
    "                          n_iter = 50, cv = 3, verbose=2, random_state=42, n_jobs = -1)"
   ]
  },
  {
   "cell_type": "code",
   "execution_count": 204,
   "metadata": {},
   "outputs": [
    {
     "name": "stdout",
     "output_type": "stream",
     "text": [
      "Fitting 3 folds for each of 50 candidates, totalling 150 fits\n"
     ]
    },
    {
     "name": "stderr",
     "output_type": "stream",
     "text": [
      "[Parallel(n_jobs=-1)]: Using backend LokyBackend with 4 concurrent workers.\n",
      "[Parallel(n_jobs=-1)]: Done  33 tasks      | elapsed:   17.9s\n",
      "[Parallel(n_jobs=-1)]: Done 150 out of 150 | elapsed:   56.8s finished\n",
      "C:\\Users\\Skynet\\Anaconda3\\lib\\site-packages\\sklearn\\model_selection\\_search.py:841: DeprecationWarning: The default of the `iid` parameter will change from True to False in version 0.22 and will be removed in 0.24. This will change numeric results when test-set sizes are unequal.\n",
      "  DeprecationWarning)\n"
     ]
    },
    {
     "data": {
      "text/plain": [
       "RandomizedSearchCV(cv=3, error_score='raise-deprecating',\n",
       "          estimator=RandomForestRegressor(bootstrap=True, criterion='mse', max_depth=None,\n",
       "           max_features='auto', max_leaf_nodes=None,\n",
       "           min_impurity_decrease=0.0, min_impurity_split=None,\n",
       "           min_samples_leaf=1, min_samples_split=2,\n",
       "           min_weight_fraction_leaf=0.0, n_estimators=250, n_jobs=None,\n",
       "           oob_score=False, random_state=42, verbose=0, warm_start=False),\n",
       "          fit_params=None, iid='warn', n_iter=50, n_jobs=-1,\n",
       "          param_distributions={'bootstrap': [True, False], 'max_depth': [5, 8, 10, 20, 30], 'max_features': ['auto', 'sqrt'], 'min_samples_leaf': [1, 2, 4, 5, 6, 8, 9], 'min_samples_split': [2, 3, 4, 5, 6, 7, 8, 9, 12], 'n_estimators': [200, 400, 600]},\n",
       "          pre_dispatch='2*n_jobs', random_state=42, refit=True,\n",
       "          return_train_score='warn', scoring=None, verbose=2)"
      ]
     },
     "execution_count": 204,
     "metadata": {},
     "output_type": "execute_result"
    }
   ],
   "source": [
    "#Training RandomForestRegressor, iterating over the hyperparameters to select best tuning\n",
    "rf_regress_rand.fit(train_features_regress_scaled, train_labels_regress)"
   ]
  },
  {
   "cell_type": "code",
   "execution_count": 205,
   "metadata": {},
   "outputs": [
    {
     "data": {
      "text/plain": [
       "{'bootstrap': False,\n",
       " 'max_depth': 5,\n",
       " 'max_features': 'sqrt',\n",
       " 'min_samples_leaf': 2,\n",
       " 'min_samples_split': 4,\n",
       " 'n_estimators': 400}"
      ]
     },
     "execution_count": 205,
     "metadata": {},
     "output_type": "execute_result"
    }
   ],
   "source": [
    "rf_regress_rand.best_params_"
   ]
  },
  {
   "cell_type": "markdown",
   "metadata": {},
   "source": [
    "##### Random Forest Regressor - Accuracy Metrics and Plots"
   ]
  },
  {
   "cell_type": "code",
   "execution_count": 206,
   "metadata": {},
   "outputs": [
    {
     "name": "stdout",
     "output_type": "stream",
     "text": [
      " \n",
      "Verify error metrics on testing set data===============================\n",
      "R-Squared value for fit:  -4.219980994870146\n",
      "Mean Absolute Error:  0.6368140208752534\n",
      "Mean Squared Error:  0.7416561798022671\n",
      "Root Mean Squared Error:  0.8611946236491883\n"
     ]
    }
   ],
   "source": [
    "RFRegCV_LR_MSE = mean_squared_error(rf_regress_rand.predict(test_features_regress_scaled), test_labels_regress)\n",
    "RFRegCV_LR_r2_score = r2_score(rf_regress_rand.predict(test_features_regress_scaled), test_labels_regress)\n",
    "RFRegCV_LR_MAE = mean_absolute_error(rf_regress_rand.predict(test_features_regress_scaled), test_labels_regress)\n",
    "RFRegCV_LR_RMSE = np.sqrt(RFRegCV_LR_MSE)\n",
    "\n",
    "print(\" \")\n",
    "print(\"Verify error metrics on testing set data===============================\")\n",
    "print(\"R-Squared value for fit: \", RFRegCV_LR_r2_score)\n",
    "print(\"Mean Absolute Error: \", RFRegCV_LR_MAE)\n",
    "print(\"Mean Squared Error: \", RFRegCV_LR_MSE)\n",
    "print(\"Root Mean Squared Error: \", RFRegCV_LR_RMSE)"
   ]
  },
  {
   "cell_type": "code",
   "execution_count": 207,
   "metadata": {},
   "outputs": [],
   "source": [
    "#Get RandomForestRegressor feature importances and join with the feature names\n",
    "regress_feature_importances = pd.DataFrame(rf_regress_rand.best_estimator_.feature_importances_, index = df_regress_model_features.columns,\n",
    "                                    columns=['Feature_Importance']).sort_values('Feature_Importance',  ascending=False)"
   ]
  },
  {
   "cell_type": "code",
   "execution_count": 208,
   "metadata": {},
   "outputs": [
    {
     "data": {
      "image/png": "[encoded data removed]",
      "text/plain": [
       "<Figure size 1440x720 with 1 Axes>"
      ]
     },
     "metadata": {},
     "output_type": "display_data"
    }
   ],
   "source": [
    "#Plot feature importnance scores \n",
    "plt.figure( figsize=(20,10) )\n",
    "plt.bar(regress_feature_importances.index,regress_feature_importances['Feature_Importance'],  color=colors)\n",
    "plt.xticks(rotation='vertical')\n",
    "plt.xlabel('Features')\n",
    "plt.ylabel('Feature Importance Value')\n",
    "plt.title('Importance Per Feature')\n",
    "plt.show()"
   ]
  },
  {
   "cell_type": "markdown",
   "metadata": {},
   "source": [
    "##### Regression Outputs"
   ]
  },
  {
   "cell_type": "markdown",
   "metadata": {},
   "source": [
    "For the regression model, three different types of algorithms were attempted to predict the number of accidents at intersections. These algorithms were: 1) Lasso Regression , 2) Ridge Regression, and 3) Random Forest Regression. All the models had similar MSE, MAE, RMSE and R^2 values. The results, specifically the R^2 score, indicate that the regression models perform very poorly and do not explain the variance of the data very well. Even when using the feature selection properties of the Lasso model, the outcome was still a poor model. Based on these results, a more complex model and/or additional features/data will be needed to improve the performance. \n",
    "\n",
    "Plots shown above for the regression models are to show the feature weights or importance levels for each model. Information can be extracted from these plots to show how the model is affected by the different features. "
   ]
  },
  {
   "cell_type": "markdown",
   "metadata": {},
   "source": [
    "# E. Discussion"
   ]
  },
  {
   "cell_type": "markdown",
   "metadata": {},
   "source": [
    "The classification model for accident severity will be briefly discussed below. As mentioned at the beginning of the notebook, the prediction of accident counts is not being included in the report or presentation. More specific details on that model and the performance can be found in the individual model sections.\n",
    "\n",
    "As discussed at the beginning of the report, the intention was to answer the following question: __where should resources be deployed to reduce fatalities by motor vehicles in urban centres?__ To answer this, data was gathered, prepared, and finally modelled using a classification algorithm. The goal for this classification algorithm, which was chosen to be a Random Forest classifier, was to classify accidents that could occur as Severe (fatal) or Non-severe (non fatal) depending on feature attributes. The attributes for the model are a mixture of static (e.g. traffic control) and dynamic (e.g. weather) features. The results provided an improvement over the baseline models results, which were based on random chance. For Severe accidents, a precision of 0.88 indicates a reasonable result as the goal is minimize the number of false positives. Although the recall could be improved by decreasing the number of false negatives, it is not the primary measure of model performance. With these results, users can target specific intersections with preventative and reative measures. This successfully answers the research question, which intiated this project. A Tableau dashboard has been prepared and is located in this directory, under the folder: Output\\Accident Severity Dashboard.twbx This dashboard directly allows users to assess where resources should be deployed in a visual manner as well as what the controllable measures at that intersection are (shown in the tooltip). A further discussion of these exact measures is provided in the accompanying report.\n",
    "\n",
    "Improvements to the model consist of increasing the granularity and collection frequency of the data. Specifically, the granularity of the data can be improved for demographics as its currently at the ward level. For collection frequency of data, vehicle and pedestrian traffic will need to be updated, preferably with at least hourly data. This would allow it to be consistent with other dynamic features such as weather, which is recorded on the hour. \n",
    "\n",
    "Certain practical considerations must be made in terms of the models precision. Although its an improvement from current practices, it is limited by the availability of data. As discussed above in the Classification section, severity of crashes also depend on user specific data such as vehicle safety measures. Proxy data can account for some of this but there are limits and the model will likely never reach 100% precision with current data availability. "
   ]
  }
 ],
 "metadata": {
  "kernelspec": {
   "display_name": "Python 3",
   "language": "python",
   "name": "python3"
  },
  "language_info": {
   "codemirror_mode": {
    "name": "ipython",
    "version": 3
   },
   "file_extension": ".py",
   "mimetype": "text/x-python",
   "name": "python",
   "nbconvert_exporter": "python",
   "pygments_lexer": "ipython3",
   "version": "3.7.6"
  }
 },
 "nbformat": 4,
 "nbformat_minor": 2
}
